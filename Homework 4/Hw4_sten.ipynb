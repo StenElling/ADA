{
 "cells": [
  {
   "cell_type": "code",
   "execution_count": null,
   "metadata": {
    "collapsed": true
   },
   "outputs": [],
   "source": []
  },
  {
   "cell_type": "markdown",
   "metadata": {},
   "source": [
    "## Question 1: Propensity score matching\n",
    "\n",
    "In this exercise, you will apply [propensity score matching](http://www.stewartschultz.com/statistics/books/Design%20of%20observational%20studies.pdf), which we discussed in lecture 5 (\"Observational studies\"), in order to draw conclusions from an observational study.\n",
    "\n",
    "We will work with a by-now classic dataset from Robert LaLonde's study \"[Evaluating the Econometric Evaluations of Training Programs](http://people.hbs.edu/nashraf/LaLonde_1986.pdf)\" (1986).\n",
    "The study investigated the effect of a job training program (\"National Supported Work Demonstration\") on the real earnings of an individual, a couple of years after completion of the program.\n",
    "Your task is to determine the effectiveness of the \"treatment\" represented by the job training program.\n",
    "\n",
    "#### Dataset description\n",
    "\n",
    "- `treat`: 1 if the subject participated in the job training program, 0 otherwise\n",
    "- `age`: the subject's age\n",
    "- `educ`: years of education\n",
    "- `race`: categorical variable with three possible values: Black, Hispanic, or White\n",
    "- `married`: 1 if the subject was married at the time of the training program, 0 otherwise\n",
    "- `nodegree`: 1 if the subject has earned no school degree, 0 otherwise\n",
    "- `re74`: real earnings in 1974 (pre-treatment)\n",
    "- `re75`: real earnings in 1975 (pre-treatment)\n",
    "- `re78`: real earnings in 1978 (outcome)\n",
    "\n",
    "If you want to brush up your knowledge on propensity scores and observational studies, we highly recommend Rosenbaum's excellent book on the [\"Design of Observational Studies\"](http://www.stewartschultz.com/statistics/books/Design%20of%20observational%20studies.pdf). Even just reading the first chapter (18 pages) will help you a lot."
   ]
  },
  {
   "cell_type": "code",
   "execution_count": 167,
   "metadata": {
    "collapsed": true
   },
   "outputs": [],
   "source": [
    "import pandas as pd\n",
    "import numpy as np\n",
    "import matplotlib.pyplot as plt\n",
    "from sklearn.linear_model import LinearRegression, LogisticRegression\n",
    "from sklearn.preprocessing import OneHotEncoder\n",
    "from pandas.plotting import scatter_matrix\n",
    "from sklearn.model_selection import cross_val_predict\n",
    "from sklearn.model_selection import cross_val_score\n",
    "import seaborn as sns\n",
    "import itertools\n",
    "import numpy as np\n",
    "import matplotlib.pyplot as plt\n",
    "\n",
    "from sklearn import svm, datasets\n",
    "from sklearn.model_selection import train_test_split\n",
    "from sklearn.metrics import confusion_matrix\n",
    "from matplotlib import cm\n",
    "from sklearn.datasets import make_classification\n",
    "from sklearn.ensemble import ExtraTreesClassifier\n",
    "%matplotlib inline\n",
    "from sklearn import linear_model\n",
    "\n"
   ]
  },
  {
   "cell_type": "markdown",
   "metadata": {},
   "source": [
    "#### 1. A naive analysis\n",
    "\n",
    "Compare the distribution of the outcome variable (`re78`) between the two groups, using plots and numbers.\n",
    "To summarize and compare the distributions, you may use the techniques we discussed in lectures 4 (\"Read the stats carefully\") and 6 (\"Data visualization\").\n",
    "\n",
    "What might a naive \"researcher\" conclude from this superficial analysis?"
   ]
  },
  {
   "cell_type": "code",
   "execution_count": 274,
   "metadata": {},
   "outputs": [
    {
     "data": {
      "text/html": [
       "<div>\n",
       "<style>\n",
       "    .dataframe thead tr:only-child th {\n",
       "        text-align: right;\n",
       "    }\n",
       "\n",
       "    .dataframe thead th {\n",
       "        text-align: left;\n",
       "    }\n",
       "\n",
       "    .dataframe tbody tr th {\n",
       "        vertical-align: top;\n",
       "    }\n",
       "</style>\n",
       "<table border=\"1\" class=\"dataframe\">\n",
       "  <thead>\n",
       "    <tr style=\"text-align: right;\">\n",
       "      <th></th>\n",
       "      <th>treat</th>\n",
       "      <th>age</th>\n",
       "      <th>educ</th>\n",
       "      <th>black</th>\n",
       "      <th>hispan</th>\n",
       "      <th>married</th>\n",
       "      <th>nodegree</th>\n",
       "      <th>re74</th>\n",
       "      <th>re75</th>\n",
       "      <th>re78</th>\n",
       "    </tr>\n",
       "    <tr>\n",
       "      <th>id</th>\n",
       "      <th></th>\n",
       "      <th></th>\n",
       "      <th></th>\n",
       "      <th></th>\n",
       "      <th></th>\n",
       "      <th></th>\n",
       "      <th></th>\n",
       "      <th></th>\n",
       "      <th></th>\n",
       "      <th></th>\n",
       "    </tr>\n",
       "  </thead>\n",
       "  <tbody>\n",
       "    <tr>\n",
       "      <th>NSW1</th>\n",
       "      <td>1</td>\n",
       "      <td>37</td>\n",
       "      <td>11</td>\n",
       "      <td>1</td>\n",
       "      <td>0</td>\n",
       "      <td>1</td>\n",
       "      <td>1</td>\n",
       "      <td>0.0</td>\n",
       "      <td>0.0</td>\n",
       "      <td>9930.0460</td>\n",
       "    </tr>\n",
       "    <tr>\n",
       "      <th>NSW2</th>\n",
       "      <td>1</td>\n",
       "      <td>22</td>\n",
       "      <td>9</td>\n",
       "      <td>0</td>\n",
       "      <td>1</td>\n",
       "      <td>0</td>\n",
       "      <td>1</td>\n",
       "      <td>0.0</td>\n",
       "      <td>0.0</td>\n",
       "      <td>3595.8940</td>\n",
       "    </tr>\n",
       "    <tr>\n",
       "      <th>NSW3</th>\n",
       "      <td>1</td>\n",
       "      <td>30</td>\n",
       "      <td>12</td>\n",
       "      <td>1</td>\n",
       "      <td>0</td>\n",
       "      <td>0</td>\n",
       "      <td>0</td>\n",
       "      <td>0.0</td>\n",
       "      <td>0.0</td>\n",
       "      <td>24909.4500</td>\n",
       "    </tr>\n",
       "    <tr>\n",
       "      <th>NSW4</th>\n",
       "      <td>1</td>\n",
       "      <td>27</td>\n",
       "      <td>11</td>\n",
       "      <td>1</td>\n",
       "      <td>0</td>\n",
       "      <td>0</td>\n",
       "      <td>1</td>\n",
       "      <td>0.0</td>\n",
       "      <td>0.0</td>\n",
       "      <td>7506.1460</td>\n",
       "    </tr>\n",
       "    <tr>\n",
       "      <th>NSW5</th>\n",
       "      <td>1</td>\n",
       "      <td>33</td>\n",
       "      <td>8</td>\n",
       "      <td>1</td>\n",
       "      <td>0</td>\n",
       "      <td>0</td>\n",
       "      <td>1</td>\n",
       "      <td>0.0</td>\n",
       "      <td>0.0</td>\n",
       "      <td>289.7899</td>\n",
       "    </tr>\n",
       "  </tbody>\n",
       "</table>\n",
       "</div>"
      ],
      "text/plain": [
       "      treat  age  educ  black  hispan  married  nodegree  re74  re75  \\\n",
       "id                                                                     \n",
       "NSW1      1   37    11      1       0        1         1   0.0   0.0   \n",
       "NSW2      1   22     9      0       1        0         1   0.0   0.0   \n",
       "NSW3      1   30    12      1       0        0         0   0.0   0.0   \n",
       "NSW4      1   27    11      1       0        0         1   0.0   0.0   \n",
       "NSW5      1   33     8      1       0        0         1   0.0   0.0   \n",
       "\n",
       "            re78  \n",
       "id                \n",
       "NSW1   9930.0460  \n",
       "NSW2   3595.8940  \n",
       "NSW3  24909.4500  \n",
       "NSW4   7506.1460  \n",
       "NSW5    289.7899  "
      ]
     },
     "execution_count": 274,
     "metadata": {},
     "output_type": "execute_result"
    }
   ],
   "source": [
    "NSWD = pd.read_csv('lalonde.csv', index_col=0)\n",
    "NSWD.head()"
   ]
  },
  {
   "cell_type": "markdown",
   "metadata": {},
   "source": [
    "#### Naive analysis\n",
    "\n",
    "The following information about the data frame and its features was found online:\n",
    "\n",
    "The variables from left to right are: treatment indicator (1 if treated, 0 if not treated), age, education, Black (1 if black, 0 otherwise), Hispanic (1 if Hispanic, 0 otherwise), married (1 if married, 0 otherwise), nodegree (1 if no degree, 0 otherwise), RE74 (earnings in 1974), RE75 (earnings in 1975), and RE78 (earnings in 1978).\n",
    "\n",
    "\n",
    "We create subframes and then take a closer look at the data by comparing the key statistics for both groups (treatment vs control) and plotting some graphs."
   ]
  },
  {
   "cell_type": "code",
   "execution_count": 306,
   "metadata": {
    "scrolled": true
   },
   "outputs": [
    {
     "data": {
      "text/html": [
       "<div>\n",
       "<style>\n",
       "    .dataframe thead tr:only-child th {\n",
       "        text-align: right;\n",
       "    }\n",
       "\n",
       "    .dataframe thead th {\n",
       "        text-align: left;\n",
       "    }\n",
       "\n",
       "    .dataframe tbody tr th {\n",
       "        vertical-align: top;\n",
       "    }\n",
       "</style>\n",
       "<table border=\"1\" class=\"dataframe\">\n",
       "  <thead>\n",
       "    <tr>\n",
       "      <th></th>\n",
       "      <th colspan=\"8\" halign=\"left\">re78</th>\n",
       "    </tr>\n",
       "    <tr>\n",
       "      <th></th>\n",
       "      <th>count</th>\n",
       "      <th>mean</th>\n",
       "      <th>std</th>\n",
       "      <th>min</th>\n",
       "      <th>25%</th>\n",
       "      <th>50%</th>\n",
       "      <th>75%</th>\n",
       "      <th>max</th>\n",
       "    </tr>\n",
       "    <tr>\n",
       "      <th>treat</th>\n",
       "      <th></th>\n",
       "      <th></th>\n",
       "      <th></th>\n",
       "      <th></th>\n",
       "      <th></th>\n",
       "      <th></th>\n",
       "      <th></th>\n",
       "      <th></th>\n",
       "    </tr>\n",
       "  </thead>\n",
       "  <tbody>\n",
       "    <tr>\n",
       "      <th>0</th>\n",
       "      <td>429.0</td>\n",
       "      <td>6984.169742</td>\n",
       "      <td>7294.161791</td>\n",
       "      <td>0.0</td>\n",
       "      <td>220.1813</td>\n",
       "      <td>4975.505</td>\n",
       "      <td>11688.820</td>\n",
       "      <td>25564.67</td>\n",
       "    </tr>\n",
       "    <tr>\n",
       "      <th>1</th>\n",
       "      <td>185.0</td>\n",
       "      <td>6349.143530</td>\n",
       "      <td>7867.402218</td>\n",
       "      <td>0.0</td>\n",
       "      <td>485.2298</td>\n",
       "      <td>4232.309</td>\n",
       "      <td>9642.999</td>\n",
       "      <td>60307.93</td>\n",
       "    </tr>\n",
       "  </tbody>\n",
       "</table>\n",
       "</div>"
      ],
      "text/plain": [
       "        re78                                                                \\\n",
       "       count         mean          std  min       25%       50%        75%   \n",
       "treat                                                                        \n",
       "0      429.0  6984.169742  7294.161791  0.0  220.1813  4975.505  11688.820   \n",
       "1      185.0  6349.143530  7867.402218  0.0  485.2298  4232.309   9642.999   \n",
       "\n",
       "                 \n",
       "            max  \n",
       "treat            \n",
       "0      25564.67  \n",
       "1      60307.93  "
      ]
     },
     "execution_count": 306,
     "metadata": {},
     "output_type": "execute_result"
    }
   ],
   "source": [
    "# We create two data frames, one for treated and one for non-treated\n",
    "treat = NSWD[NSWD['treat']==1]\n",
    "control = NSWD[NSWD['treat']==0]\n",
    "# For later use we store the size of both subsets\n",
    "control_total = len(control)\n",
    "treat_total = len(treat)\n",
    "# We store the re78 columns of both frames\n",
    "control_re78 = control[['re78']]\n",
    "treat_re78 = treat[['re78']]\n",
    "\n",
    "# We also create a frame that only contains treatment and re78\n",
    "NSWD_re78 = NSWD[['treat', 're78']]\n",
    "\n",
    "NSWD_re78.groupby('treat').describe()"
   ]
  },
  {
   "cell_type": "markdown",
   "metadata": {},
   "source": [
    "As we can see the treatment group is more than twice as big. \n",
    "\n",
    "The mean, median and third quartile are all lower for the treatment group, while the maximum value is significantly higher for the treatment group.\n",
    "\n",
    "A boxplot visualises this better and also shows that there are number of 'outliers' for the treatment group. The violinplot gives more detail by showing us that the treatment group is broader in the region 5000-15000 USD, but then thins out relative to the control group."
   ]
  },
  {
   "cell_type": "code",
   "execution_count": 276,
   "metadata": {},
   "outputs": [
    {
     "data": {
      "text/html": [
       "<div>\n",
       "<style>\n",
       "    .dataframe thead tr:only-child th {\n",
       "        text-align: right;\n",
       "    }\n",
       "\n",
       "    .dataframe thead th {\n",
       "        text-align: left;\n",
       "    }\n",
       "\n",
       "    .dataframe tbody tr th {\n",
       "        vertical-align: top;\n",
       "    }\n",
       "</style>\n",
       "<table border=\"1\" class=\"dataframe\">\n",
       "  <thead>\n",
       "    <tr>\n",
       "      <th></th>\n",
       "      <th colspan=\"8\" halign=\"left\">re78</th>\n",
       "    </tr>\n",
       "    <tr>\n",
       "      <th></th>\n",
       "      <th>count</th>\n",
       "      <th>mean</th>\n",
       "      <th>std</th>\n",
       "      <th>min</th>\n",
       "      <th>25%</th>\n",
       "      <th>50%</th>\n",
       "      <th>75%</th>\n",
       "      <th>max</th>\n",
       "    </tr>\n",
       "    <tr>\n",
       "      <th>treat</th>\n",
       "      <th></th>\n",
       "      <th></th>\n",
       "      <th></th>\n",
       "      <th></th>\n",
       "      <th></th>\n",
       "      <th></th>\n",
       "      <th></th>\n",
       "      <th></th>\n",
       "    </tr>\n",
       "  </thead>\n",
       "  <tbody>\n",
       "    <tr>\n",
       "      <th>0</th>\n",
       "      <td>429.0</td>\n",
       "      <td>6984.169742</td>\n",
       "      <td>7294.161791</td>\n",
       "      <td>0.0</td>\n",
       "      <td>220.1813</td>\n",
       "      <td>4975.505</td>\n",
       "      <td>11688.820</td>\n",
       "      <td>25564.67</td>\n",
       "    </tr>\n",
       "    <tr>\n",
       "      <th>1</th>\n",
       "      <td>185.0</td>\n",
       "      <td>6349.143530</td>\n",
       "      <td>7867.402218</td>\n",
       "      <td>0.0</td>\n",
       "      <td>485.2298</td>\n",
       "      <td>4232.309</td>\n",
       "      <td>9642.999</td>\n",
       "      <td>60307.93</td>\n",
       "    </tr>\n",
       "  </tbody>\n",
       "</table>\n",
       "</div>"
      ],
      "text/plain": [
       "        re78                                                                \\\n",
       "       count         mean          std  min       25%       50%        75%   \n",
       "treat                                                                        \n",
       "0      429.0  6984.169742  7294.161791  0.0  220.1813  4975.505  11688.820   \n",
       "1      185.0  6349.143530  7867.402218  0.0  485.2298  4232.309   9642.999   \n",
       "\n",
       "                 \n",
       "            max  \n",
       "treat            \n",
       "0      25564.67  \n",
       "1      60307.93  "
      ]
     },
     "execution_count": 276,
     "metadata": {},
     "output_type": "execute_result"
    }
   ],
   "source": [
    "NSWD_re78.groupby('treat').describe()"
   ]
  },
  {
   "cell_type": "code",
   "execution_count": 277,
   "metadata": {},
   "outputs": [
    {
     "data": {
      "image/png": "[encoded data removed]",
      "text/plain": [
       "<matplotlib.figure.Figure at 0x32a9ce9b0>"
      ]
     },
     "metadata": {},
     "output_type": "display_data"
    }
   ],
   "source": [
    "sns.boxplot(x=\"treat\", y=\"re78\", data=NSWD);"
   ]
  },
  {
   "cell_type": "code",
   "execution_count": 278,
   "metadata": {},
   "outputs": [
    {
     "data": {
      "image/png": "[encoded data removed]",
      "text/plain": [
       "<matplotlib.figure.Figure at 0x32ab5d9b0>"
      ]
     },
     "metadata": {},
     "output_type": "display_data"
    }
   ],
   "source": [
    "sns.violinplot(x=\"treat\", y=\"re78\", data=NSWD);"
   ]
  },
  {
   "cell_type": "markdown",
   "metadata": {},
   "source": [
    "Contrasting the boxplots (we chose bins of widths USD 2500) reconfirms the expression from the above plots."
   ]
  },
  {
   "cell_type": "code",
   "execution_count": 280,
   "metadata": {},
   "outputs": [
    {
     "data": {
      "text/plain": [
       "<matplotlib.axes._subplots.AxesSubplot at 0x32ae9c5f8>"
      ]
     },
     "execution_count": 280,
     "metadata": {},
     "output_type": "execute_result"
    },
    {
     "data": {
      "image/png": "[encoded data removed]",
      "text/plain": [
       "<matplotlib.figure.Figure at 0x32adbf908>"
      ]
     },
     "metadata": {},
     "output_type": "display_data"
    }
   ],
   "source": [
    "bin_values = np.arange(start=0, stop=62500, step=2500)\n",
    "\n",
    "fig, axes = plt.subplots(1, 2)\n",
    "control_re78.plot.hist(ax=axes[0], xlim = (0,60000), title='Control - re78', bins=bin_values)\n",
    "treat_re78.plot.hist(ax=axes[1], xlim = (0,60000), title='Treatment - re78', bins=bin_values)"
   ]
  },
  {
   "cell_type": "markdown",
   "metadata": {},
   "source": [
    "\n",
    "\n",
    "#### 2. A closer look at the data\n",
    "\n",
    "You're not naive, of course (and even if you are, you've learned certain things in ADA), so you aren't content with a superficial analysis such as the above.\n",
    "You're aware of the dangers of observational studies, so you take a closer look at the data before jumping to conclusions.\n",
    "\n",
    "For each feature in the dataset, compare its distribution in the treated group with its distribution in the control group, using plots and numbers.\n",
    "As above, you may use the techniques we discussed in class for summarizing and comparing the distributions.\n",
    "\n",
    "What do you observe?\n",
    "Describe what your observations mean for the conclusions drawn by the naive \"researcher\" from his superficial analysis.\n",
    "\n"
   ]
  },
  {
   "cell_type": "markdown",
   "metadata": {},
   "source": [
    "We need to plot the bar plots and numbers for each feature like age etc. and compare. "
   ]
  },
  {
   "cell_type": "code",
   "execution_count": 281,
   "metadata": {},
   "outputs": [
    {
     "data": {
      "text/html": [
       "<div>\n",
       "<style>\n",
       "    .dataframe thead tr:only-child th {\n",
       "        text-align: right;\n",
       "    }\n",
       "\n",
       "    .dataframe thead th {\n",
       "        text-align: left;\n",
       "    }\n",
       "\n",
       "    .dataframe tbody tr th {\n",
       "        vertical-align: top;\n",
       "    }\n",
       "</style>\n",
       "<table border=\"1\" class=\"dataframe\">\n",
       "  <thead>\n",
       "    <tr style=\"text-align: right;\">\n",
       "      <th></th>\n",
       "      <th>treat</th>\n",
       "      <th>age</th>\n",
       "      <th>educ</th>\n",
       "      <th>black</th>\n",
       "      <th>hispan</th>\n",
       "      <th>married</th>\n",
       "      <th>nodegree</th>\n",
       "      <th>re74</th>\n",
       "      <th>re75</th>\n",
       "      <th>re78</th>\n",
       "    </tr>\n",
       "    <tr>\n",
       "      <th>id</th>\n",
       "      <th></th>\n",
       "      <th></th>\n",
       "      <th></th>\n",
       "      <th></th>\n",
       "      <th></th>\n",
       "      <th></th>\n",
       "      <th></th>\n",
       "      <th></th>\n",
       "      <th></th>\n",
       "      <th></th>\n",
       "    </tr>\n",
       "  </thead>\n",
       "  <tbody>\n",
       "    <tr>\n",
       "      <th>NSW1</th>\n",
       "      <td>1</td>\n",
       "      <td>37</td>\n",
       "      <td>11</td>\n",
       "      <td>1</td>\n",
       "      <td>0</td>\n",
       "      <td>1</td>\n",
       "      <td>1</td>\n",
       "      <td>0.0</td>\n",
       "      <td>0.0</td>\n",
       "      <td>9930.0460</td>\n",
       "    </tr>\n",
       "    <tr>\n",
       "      <th>NSW2</th>\n",
       "      <td>1</td>\n",
       "      <td>22</td>\n",
       "      <td>9</td>\n",
       "      <td>0</td>\n",
       "      <td>1</td>\n",
       "      <td>0</td>\n",
       "      <td>1</td>\n",
       "      <td>0.0</td>\n",
       "      <td>0.0</td>\n",
       "      <td>3595.8940</td>\n",
       "    </tr>\n",
       "    <tr>\n",
       "      <th>NSW3</th>\n",
       "      <td>1</td>\n",
       "      <td>30</td>\n",
       "      <td>12</td>\n",
       "      <td>1</td>\n",
       "      <td>0</td>\n",
       "      <td>0</td>\n",
       "      <td>0</td>\n",
       "      <td>0.0</td>\n",
       "      <td>0.0</td>\n",
       "      <td>24909.4500</td>\n",
       "    </tr>\n",
       "    <tr>\n",
       "      <th>NSW4</th>\n",
       "      <td>1</td>\n",
       "      <td>27</td>\n",
       "      <td>11</td>\n",
       "      <td>1</td>\n",
       "      <td>0</td>\n",
       "      <td>0</td>\n",
       "      <td>1</td>\n",
       "      <td>0.0</td>\n",
       "      <td>0.0</td>\n",
       "      <td>7506.1460</td>\n",
       "    </tr>\n",
       "    <tr>\n",
       "      <th>NSW5</th>\n",
       "      <td>1</td>\n",
       "      <td>33</td>\n",
       "      <td>8</td>\n",
       "      <td>1</td>\n",
       "      <td>0</td>\n",
       "      <td>0</td>\n",
       "      <td>1</td>\n",
       "      <td>0.0</td>\n",
       "      <td>0.0</td>\n",
       "      <td>289.7899</td>\n",
       "    </tr>\n",
       "  </tbody>\n",
       "</table>\n",
       "</div>"
      ],
      "text/plain": [
       "      treat  age  educ  black  hispan  married  nodegree  re74  re75  \\\n",
       "id                                                                     \n",
       "NSW1      1   37    11      1       0        1         1   0.0   0.0   \n",
       "NSW2      1   22     9      0       1        0         1   0.0   0.0   \n",
       "NSW3      1   30    12      1       0        0         0   0.0   0.0   \n",
       "NSW4      1   27    11      1       0        0         1   0.0   0.0   \n",
       "NSW5      1   33     8      1       0        0         1   0.0   0.0   \n",
       "\n",
       "            re78  \n",
       "id                \n",
       "NSW1   9930.0460  \n",
       "NSW2   3595.8940  \n",
       "NSW3  24909.4500  \n",
       "NSW4   7506.1460  \n",
       "NSW5    289.7899  "
      ]
     },
     "execution_count": 281,
     "metadata": {},
     "output_type": "execute_result"
    }
   ],
   "source": [
    "NSWD.head()"
   ]
  },
  {
   "cell_type": "markdown",
   "metadata": {},
   "source": [
    "We plot the relative frequencies of different features. Certain properties of the graphs have been tweaked (e.g. xlim and ylim) to generate useful display."
   ]
  },
  {
   "cell_type": "code",
   "execution_count": 282,
   "metadata": {},
   "outputs": [
    {
     "data": {
      "text/plain": [
       "<matplotlib.axes._subplots.AxesSubplot at 0x32b1531d0>"
      ]
     },
     "execution_count": 282,
     "metadata": {},
     "output_type": "execute_result"
    },
    {
     "data": {
      "image/png": "[encoded data removed]",
      "text/plain": [
       "<matplotlib.figure.Figure at 0x32b051320>"
      ]
     },
     "metadata": {},
     "output_type": "display_data"
    }
   ],
   "source": [
    "control_age = control[['age']]\n",
    "treat_age= treat[['age']]\n",
    "\n",
    "\n",
    "bin_values_age = np.arange(start=15, stop=60, step=5) # age ranges from 16 to 55\n",
    "\n",
    "fig, axes = plt.subplots(1, 2)\n",
    "control_age.plot.hist(ax=axes[0], xlim = (15,60), ylim = (0,0.1), normed=True , title='Control - age', bins=bin_values_age)\n",
    "treat_age.plot.hist(ax=axes[1], xlim = (15,60), ylim = (0,0.1), normed=True, title='Treatment - age', bins=bin_values_age)"
   ]
  },
  {
   "cell_type": "code",
   "execution_count": 283,
   "metadata": {},
   "outputs": [
    {
     "data": {
      "text/plain": [
       "<matplotlib.axes._subplots.AxesSubplot at 0x32b362940>"
      ]
     },
     "execution_count": 283,
     "metadata": {},
     "output_type": "execute_result"
    },
    {
     "data": {
      "image/png": "[encoded data removed]",
      "text/plain": [
       "<matplotlib.figure.Figure at 0x32af07518>"
      ]
     },
     "metadata": {},
     "output_type": "display_data"
    }
   ],
   "source": [
    "control_educ = control[['educ']]\n",
    "treat_educ= treat[['educ']]\n",
    "\n",
    "bin_values_educ = np.arange(start=0, stop=20, step=1) # education ranges from 0 to 18\n",
    "\n",
    "fig, axes = plt.subplots(1, 2)\n",
    "control_educ.plot.hist(ax=axes[0], xlim = (0,18), normed=True , title='Control - education', bins=bin_values_educ)\n",
    "treat_educ.plot.hist(ax=axes[1], xlim = (0,18), normed=True, title='Treatment - education', bins=bin_values_educ)"
   ]
  },
  {
   "cell_type": "code",
   "execution_count": 284,
   "metadata": {},
   "outputs": [
    {
     "name": "stdout",
     "output_type": "stream",
     "text": [
      "The control group contains  429  individuals, of which  20.2 % are black, 14.2 % are hispanic, 65.5 % are white,.\n",
      "The treatment group contains  185  individuals, of which  84.3 % are black, 5.9 % are hispanic, 9.7 % are white.\n"
     ]
    }
   ],
   "source": [
    "control_total_black  = control['black'].sum()\n",
    "treat_total_black  = treat['black'].sum()\n",
    "control_total_hispan = control['hispan'].sum()\n",
    "treat_total_hispan  = treat['hispan'].sum()\n",
    "control_total_white = control_total - control_total_black - control_total_hispan\n",
    "treat_total_white  = treat_total - treat_total_black - treat_total_hispan\n",
    "\n",
    "control_relfreq_black  = (1000*control_total_black // control_total)/10\n",
    "control_relfreq_hispan  = (1000*control_total_hispan // control_total)/10\n",
    "control_relfreq_white  = (1000*control_total_white // control_total)/10\n",
    "treat_relfreq_black  = (1000*treat_total_black // treat_total)/10\n",
    "treat_relfreq_hispan  = (1000*treat_total_hispan // treat_total)/10\n",
    "treat_relfreq_white  = (1000*treat_total_white // treat_total)/10\n",
    "\n",
    "print('The control group contains ', control_total, ' individuals, of which ',\n",
    "      control_relfreq_black, '% are black,',\n",
    "      control_relfreq_hispan, '% are hispanic,',\n",
    "      control_relfreq_white, '% are white,.')\n",
    "print('The treatment group contains ', treat_total, ' individuals, of which ',\n",
    "      treat_relfreq_black, '% are black,',\n",
    "      treat_relfreq_hispan, '% are hispanic,',\n",
    "      treat_relfreq_white, '% are white.')"
   ]
  },
  {
   "cell_type": "code",
   "execution_count": 285,
   "metadata": {},
   "outputs": [
    {
     "name": "stdout",
     "output_type": "stream",
     "text": [
      "The control group contains  51.2 % married people\n",
      "The treatment group contains  18.9 % married people\n"
     ]
    }
   ],
   "source": [
    "control_total_married  = control['married'].sum()\n",
    "treat_total_married  = treat['married'].sum()\n",
    "control_relfreq_married  = (1000*control_total_married // control_total)/10\n",
    "treat_relfreq_married  = (1000*treat_total_married // treat_total)/10\n",
    "\n",
    "print('The control group contains ', control_relfreq_married, '% married people')\n",
    "print('The treatment group contains ', treat_relfreq_married, '% married people')"
   ]
  },
  {
   "cell_type": "code",
   "execution_count": 286,
   "metadata": {},
   "outputs": [
    {
     "name": "stdout",
     "output_type": "stream",
     "text": [
      "The control group contains  59.6 % with no degree\n",
      "The treatment group contains  70.8 % with no degree\n"
     ]
    }
   ],
   "source": [
    "control_total_nodegree  = control['nodegree'].sum()\n",
    "treat_total_nodegree  = treat['nodegree'].sum()\n",
    "control_relfreq_nodegree  = (1000*control_total_nodegree // control_total)/10\n",
    "treat_relfreq_nodegree  = (1000*treat_total_nodegree // treat_total)/10\n",
    "\n",
    "print('The control group contains ', control_relfreq_nodegree, '% with no degree')\n",
    "print('The treatment group contains ', treat_relfreq_nodegree, '% with no degree')"
   ]
  },
  {
   "cell_type": "markdown",
   "metadata": {},
   "source": [
    "#### Observations: \n",
    "The treatment group consists mostly of black individuals, where as the control group consists mostly of white individuals. Hence the ethnic compositions of both groups is not matched at all.\n",
    "\n",
    "Half the people in the control group are married, where as only 18.9 % are married in the treatment group.\n",
    "\n",
    "In comparison to the above differences the distributions for age, education and nodegree are relatively similar, despite the facts that some spikes are slightly shifted in age and education."
   ]
  },
  {
   "cell_type": "markdown",
   "metadata": {},
   "source": [
    "\n",
    "#### 3. A propensity score model\n",
    "\n",
    "Use logistic regression to estimate propensity scores for all points in the dataset.\n",
    "You may use `sklearn` to fit the logistic regression model and apply it to each data point to obtain propensity scores:\n",
    "\n",
    "```python\n",
    "from sklearn import linear_model\n",
    "logistic = linear_model.LogisticRegression()\n",
    "```\n",
    "\n",
    "Recall that the propensity score of a data point represents its probability of receiving the treatment, based on its pre-treatment features (in this case, age, education, pre-treatment income, etc.).\n",
    "To brush up on propensity scores, you may read chapter 3.3 of the above-cited book by Rosenbaum or [this article](https://drive.google.com/file/d/0B4jctQY-uqhzTlpBaTBJRTJFVFE/view).\n",
    "\n",
    "Note: you do not need a train/test split here. Train and apply the model on the entire dataset. If you're wondering why this is the right thing to do in this situation, recall that the propensity score model is not used in order to make predictions about unseen data. Its sole purpose is to balance the dataset across treatment groups.\n",
    "(See p. 74 of Rosenbaum's book for an explanation why slight overfitting is even good for propensity scores.\n",
    "If you want even more information, read [this article](https://drive.google.com/file/d/0B4jctQY-uqhzTlpBaTBJRTJFVFE/view).)"
   ]
  },
  {
   "cell_type": "code",
   "execution_count": 287,
   "metadata": {},
   "outputs": [
    {
     "data": {
      "text/html": [
       "<div>\n",
       "<style>\n",
       "    .dataframe thead tr:only-child th {\n",
       "        text-align: right;\n",
       "    }\n",
       "\n",
       "    .dataframe thead th {\n",
       "        text-align: left;\n",
       "    }\n",
       "\n",
       "    .dataframe tbody tr th {\n",
       "        vertical-align: top;\n",
       "    }\n",
       "</style>\n",
       "<table border=\"1\" class=\"dataframe\">\n",
       "  <thead>\n",
       "    <tr style=\"text-align: right;\">\n",
       "      <th></th>\n",
       "      <th>treat</th>\n",
       "      <th>age</th>\n",
       "      <th>educ</th>\n",
       "      <th>black</th>\n",
       "      <th>hispan</th>\n",
       "      <th>married</th>\n",
       "      <th>nodegree</th>\n",
       "      <th>re74</th>\n",
       "      <th>re75</th>\n",
       "      <th>re78</th>\n",
       "    </tr>\n",
       "    <tr>\n",
       "      <th>id</th>\n",
       "      <th></th>\n",
       "      <th></th>\n",
       "      <th></th>\n",
       "      <th></th>\n",
       "      <th></th>\n",
       "      <th></th>\n",
       "      <th></th>\n",
       "      <th></th>\n",
       "      <th></th>\n",
       "      <th></th>\n",
       "    </tr>\n",
       "  </thead>\n",
       "  <tbody>\n",
       "    <tr>\n",
       "      <th>NSW1</th>\n",
       "      <td>1</td>\n",
       "      <td>37</td>\n",
       "      <td>11</td>\n",
       "      <td>1</td>\n",
       "      <td>0</td>\n",
       "      <td>1</td>\n",
       "      <td>1</td>\n",
       "      <td>0.0</td>\n",
       "      <td>0.0</td>\n",
       "      <td>9930.0460</td>\n",
       "    </tr>\n",
       "    <tr>\n",
       "      <th>NSW2</th>\n",
       "      <td>1</td>\n",
       "      <td>22</td>\n",
       "      <td>9</td>\n",
       "      <td>0</td>\n",
       "      <td>1</td>\n",
       "      <td>0</td>\n",
       "      <td>1</td>\n",
       "      <td>0.0</td>\n",
       "      <td>0.0</td>\n",
       "      <td>3595.8940</td>\n",
       "    </tr>\n",
       "    <tr>\n",
       "      <th>NSW3</th>\n",
       "      <td>1</td>\n",
       "      <td>30</td>\n",
       "      <td>12</td>\n",
       "      <td>1</td>\n",
       "      <td>0</td>\n",
       "      <td>0</td>\n",
       "      <td>0</td>\n",
       "      <td>0.0</td>\n",
       "      <td>0.0</td>\n",
       "      <td>24909.4500</td>\n",
       "    </tr>\n",
       "    <tr>\n",
       "      <th>NSW4</th>\n",
       "      <td>1</td>\n",
       "      <td>27</td>\n",
       "      <td>11</td>\n",
       "      <td>1</td>\n",
       "      <td>0</td>\n",
       "      <td>0</td>\n",
       "      <td>1</td>\n",
       "      <td>0.0</td>\n",
       "      <td>0.0</td>\n",
       "      <td>7506.1460</td>\n",
       "    </tr>\n",
       "    <tr>\n",
       "      <th>NSW5</th>\n",
       "      <td>1</td>\n",
       "      <td>33</td>\n",
       "      <td>8</td>\n",
       "      <td>1</td>\n",
       "      <td>0</td>\n",
       "      <td>0</td>\n",
       "      <td>1</td>\n",
       "      <td>0.0</td>\n",
       "      <td>0.0</td>\n",
       "      <td>289.7899</td>\n",
       "    </tr>\n",
       "  </tbody>\n",
       "</table>\n",
       "</div>"
      ],
      "text/plain": [
       "      treat  age  educ  black  hispan  married  nodegree  re74  re75  \\\n",
       "id                                                                     \n",
       "NSW1      1   37    11      1       0        1         1   0.0   0.0   \n",
       "NSW2      1   22     9      0       1        0         1   0.0   0.0   \n",
       "NSW3      1   30    12      1       0        0         0   0.0   0.0   \n",
       "NSW4      1   27    11      1       0        0         1   0.0   0.0   \n",
       "NSW5      1   33     8      1       0        0         1   0.0   0.0   \n",
       "\n",
       "            re78  \n",
       "id                \n",
       "NSW1   9930.0460  \n",
       "NSW2   3595.8940  \n",
       "NSW3  24909.4500  \n",
       "NSW4   7506.1460  \n",
       "NSW5    289.7899  "
      ]
     },
     "execution_count": 287,
     "metadata": {},
     "output_type": "execute_result"
    }
   ],
   "source": [
    "NSWD.head()"
   ]
  },
  {
   "cell_type": "code",
   "execution_count": 288,
   "metadata": {},
   "outputs": [
    {
     "data": {
      "text/html": [
       "<div>\n",
       "<style>\n",
       "    .dataframe thead tr:only-child th {\n",
       "        text-align: right;\n",
       "    }\n",
       "\n",
       "    .dataframe thead th {\n",
       "        text-align: left;\n",
       "    }\n",
       "\n",
       "    .dataframe tbody tr th {\n",
       "        vertical-align: top;\n",
       "    }\n",
       "</style>\n",
       "<table border=\"1\" class=\"dataframe\">\n",
       "  <thead>\n",
       "    <tr style=\"text-align: right;\">\n",
       "      <th></th>\n",
       "      <th>age</th>\n",
       "      <th>educ</th>\n",
       "      <th>black</th>\n",
       "      <th>hispan</th>\n",
       "      <th>married</th>\n",
       "      <th>nodegree</th>\n",
       "      <th>re74</th>\n",
       "      <th>re75</th>\n",
       "    </tr>\n",
       "    <tr>\n",
       "      <th>id</th>\n",
       "      <th></th>\n",
       "      <th></th>\n",
       "      <th></th>\n",
       "      <th></th>\n",
       "      <th></th>\n",
       "      <th></th>\n",
       "      <th></th>\n",
       "      <th></th>\n",
       "    </tr>\n",
       "  </thead>\n",
       "  <tbody>\n",
       "    <tr>\n",
       "      <th>NSW1</th>\n",
       "      <td>37</td>\n",
       "      <td>11</td>\n",
       "      <td>1</td>\n",
       "      <td>0</td>\n",
       "      <td>1</td>\n",
       "      <td>1</td>\n",
       "      <td>0.0</td>\n",
       "      <td>0.0</td>\n",
       "    </tr>\n",
       "    <tr>\n",
       "      <th>NSW2</th>\n",
       "      <td>22</td>\n",
       "      <td>9</td>\n",
       "      <td>0</td>\n",
       "      <td>1</td>\n",
       "      <td>0</td>\n",
       "      <td>1</td>\n",
       "      <td>0.0</td>\n",
       "      <td>0.0</td>\n",
       "    </tr>\n",
       "    <tr>\n",
       "      <th>NSW3</th>\n",
       "      <td>30</td>\n",
       "      <td>12</td>\n",
       "      <td>1</td>\n",
       "      <td>0</td>\n",
       "      <td>0</td>\n",
       "      <td>0</td>\n",
       "      <td>0.0</td>\n",
       "      <td>0.0</td>\n",
       "    </tr>\n",
       "    <tr>\n",
       "      <th>NSW4</th>\n",
       "      <td>27</td>\n",
       "      <td>11</td>\n",
       "      <td>1</td>\n",
       "      <td>0</td>\n",
       "      <td>0</td>\n",
       "      <td>1</td>\n",
       "      <td>0.0</td>\n",
       "      <td>0.0</td>\n",
       "    </tr>\n",
       "    <tr>\n",
       "      <th>NSW5</th>\n",
       "      <td>33</td>\n",
       "      <td>8</td>\n",
       "      <td>1</td>\n",
       "      <td>0</td>\n",
       "      <td>0</td>\n",
       "      <td>1</td>\n",
       "      <td>0.0</td>\n",
       "      <td>0.0</td>\n",
       "    </tr>\n",
       "  </tbody>\n",
       "</table>\n",
       "</div>"
      ],
      "text/plain": [
       "      age  educ  black  hispan  married  nodegree  re74  re75\n",
       "id                                                           \n",
       "NSW1   37    11      1       0        1         1   0.0   0.0\n",
       "NSW2   22     9      0       1        0         1   0.0   0.0\n",
       "NSW3   30    12      1       0        0         0   0.0   0.0\n",
       "NSW4   27    11      1       0        0         1   0.0   0.0\n",
       "NSW5   33     8      1       0        0         1   0.0   0.0"
      ]
     },
     "execution_count": 288,
     "metadata": {},
     "output_type": "execute_result"
    }
   ],
   "source": [
    "from sklearn import linear_model\n",
    "\n",
    "# Defining the features vector    ???? Should we also add re74 and re75\n",
    "NSWD_features_partial = ['age', 'educ', 'black', 'hispan', 'married', 'nodegree']\n",
    "NSWD_features = ['age', 'educ', 'black', 'hispan', 'married', 'nodegree', 're74', 're75']\n",
    "X = pd.get_dummies(NSWD[NSWD_features])\n",
    "X.head()"
   ]
  },
  {
   "cell_type": "code",
   "execution_count": 290,
   "metadata": {
    "collapsed": true
   },
   "outputs": [],
   "source": [
    "y = NSWD['treat']"
   ]
  },
  {
   "cell_type": "code",
   "execution_count": 291,
   "metadata": {},
   "outputs": [
    {
     "data": {
      "text/html": [
       "<div>\n",
       "<style>\n",
       "    .dataframe thead tr:only-child th {\n",
       "        text-align: right;\n",
       "    }\n",
       "\n",
       "    .dataframe thead th {\n",
       "        text-align: left;\n",
       "    }\n",
       "\n",
       "    .dataframe tbody tr th {\n",
       "        vertical-align: top;\n",
       "    }\n",
       "</style>\n",
       "<table border=\"1\" class=\"dataframe\">\n",
       "  <thead>\n",
       "    <tr style=\"text-align: right;\">\n",
       "      <th></th>\n",
       "      <th>treat</th>\n",
       "      <th>age</th>\n",
       "      <th>educ</th>\n",
       "      <th>black</th>\n",
       "      <th>hispan</th>\n",
       "      <th>married</th>\n",
       "      <th>nodegree</th>\n",
       "      <th>re74</th>\n",
       "      <th>re75</th>\n",
       "      <th>re78</th>\n",
       "      <th>Propensity_score</th>\n",
       "    </tr>\n",
       "    <tr>\n",
       "      <th>id</th>\n",
       "      <th></th>\n",
       "      <th></th>\n",
       "      <th></th>\n",
       "      <th></th>\n",
       "      <th></th>\n",
       "      <th></th>\n",
       "      <th></th>\n",
       "      <th></th>\n",
       "      <th></th>\n",
       "      <th></th>\n",
       "      <th></th>\n",
       "    </tr>\n",
       "  </thead>\n",
       "  <tbody>\n",
       "    <tr>\n",
       "      <th>NSW1</th>\n",
       "      <td>1</td>\n",
       "      <td>37</td>\n",
       "      <td>11</td>\n",
       "      <td>1</td>\n",
       "      <td>0</td>\n",
       "      <td>1</td>\n",
       "      <td>1</td>\n",
       "      <td>0.0</td>\n",
       "      <td>0.0</td>\n",
       "      <td>9930.0460</td>\n",
       "      <td>0.443350</td>\n",
       "    </tr>\n",
       "    <tr>\n",
       "      <th>NSW2</th>\n",
       "      <td>1</td>\n",
       "      <td>22</td>\n",
       "      <td>9</td>\n",
       "      <td>0</td>\n",
       "      <td>1</td>\n",
       "      <td>0</td>\n",
       "      <td>1</td>\n",
       "      <td>0.0</td>\n",
       "      <td>0.0</td>\n",
       "      <td>3595.8940</td>\n",
       "      <td>0.144660</td>\n",
       "    </tr>\n",
       "    <tr>\n",
       "      <th>NSW3</th>\n",
       "      <td>1</td>\n",
       "      <td>30</td>\n",
       "      <td>12</td>\n",
       "      <td>1</td>\n",
       "      <td>0</td>\n",
       "      <td>0</td>\n",
       "      <td>0</td>\n",
       "      <td>0.0</td>\n",
       "      <td>0.0</td>\n",
       "      <td>24909.4500</td>\n",
       "      <td>0.722355</td>\n",
       "    </tr>\n",
       "    <tr>\n",
       "      <th>NSW4</th>\n",
       "      <td>1</td>\n",
       "      <td>27</td>\n",
       "      <td>11</td>\n",
       "      <td>1</td>\n",
       "      <td>0</td>\n",
       "      <td>0</td>\n",
       "      <td>1</td>\n",
       "      <td>0.0</td>\n",
       "      <td>0.0</td>\n",
       "      <td>7506.1460</td>\n",
       "      <td>0.664151</td>\n",
       "    </tr>\n",
       "    <tr>\n",
       "      <th>NSW5</th>\n",
       "      <td>1</td>\n",
       "      <td>33</td>\n",
       "      <td>8</td>\n",
       "      <td>1</td>\n",
       "      <td>0</td>\n",
       "      <td>0</td>\n",
       "      <td>1</td>\n",
       "      <td>0.0</td>\n",
       "      <td>0.0</td>\n",
       "      <td>289.7899</td>\n",
       "      <td>0.698286</td>\n",
       "    </tr>\n",
       "  </tbody>\n",
       "</table>\n",
       "</div>"
      ],
      "text/plain": [
       "      treat  age  educ  black  hispan  married  nodegree  re74  re75  \\\n",
       "id                                                                     \n",
       "NSW1      1   37    11      1       0        1         1   0.0   0.0   \n",
       "NSW2      1   22     9      0       1        0         1   0.0   0.0   \n",
       "NSW3      1   30    12      1       0        0         0   0.0   0.0   \n",
       "NSW4      1   27    11      1       0        0         1   0.0   0.0   \n",
       "NSW5      1   33     8      1       0        0         1   0.0   0.0   \n",
       "\n",
       "            re78  Propensity_score  \n",
       "id                                  \n",
       "NSW1   9930.0460          0.443350  \n",
       "NSW2   3595.8940          0.144660  \n",
       "NSW3  24909.4500          0.722355  \n",
       "NSW4   7506.1460          0.664151  \n",
       "NSW5    289.7899          0.698286  "
      ]
     },
     "execution_count": 291,
     "metadata": {},
     "output_type": "execute_result"
    }
   ],
   "source": [
    "logistic = linear_model.LogisticRegression()\n",
    "# Fitting with logistic\n",
    "NSWD_log_fit = logistic.fit(X,y)\n",
    "# Calculating the propensity score (we only want the second score)\n",
    "NSWD_propensity_score = NSWD_log_fit.predict_proba(X)[:,1]\n",
    "\n",
    "# Adding as a new column\n",
    "NSWD['Propensity_score'] = NSWD_propensity_score\n",
    "NSWD.head()"
   ]
  },
  {
   "cell_type": "markdown",
   "metadata": {},
   "source": [
    "#### 4. Balancing the dataset via matching\n",
    "\n",
    "Use the propensity scores to match each data point from the treated group with exactly one data point from the control group, while ensuring that each data point from the control group is matched with at most one data point from the treated group.\n",
    "(Hint: you may explore the `networkx` package in Python for predefined matching functions.)\n",
    "\n",
    "Your matching should maximize the similarity between matched subjects, as captured by their propensity scores.\n",
    "In other words, the sum (over all matched pairs) of absolute propensity-score differences between the two matched subjects should be minimized.\n",
    "\n",
    "After matching, you have as many treated as you have control subjects.\n",
    "Compare the outcomes (`re78`) between the two groups (treated and control).\n",
    "\n",
    "Also, compare again the feature-value distributions between the two groups, as you've done in part 2 above, but now only for the matched subjects.\n",
    "What do you observe?\n",
    "Are you closer to being able to draw valid conclusions now than you were before?"
   ]
  },
  {
   "cell_type": "markdown",
   "metadata": {
    "collapsed": true
   },
   "source": [
    "#### Method outline\n",
    "\n",
    "We again split the data frame into the treatment group (T) and the control group (C). Recall that the index in T starts with NSW, while the index in C starts with PSID, making it easier to identify individuals.\n",
    "\n",
    "For a minimisation problem we would want to take negative weights. When using negative weight for the graph matching returns an empty graph (total_weight=0). in order to overcome this one sets maxcardinality=True in the matching call. \n",
    "\n",
    "Instead, we have changed the weights to (1 - weight) to map small distance to large ones and vice versa with all weights still in the range [0,1]. This also turns the problem into a maximising problem."
   ]
  },
  {
   "cell_type": "code",
   "execution_count": 292,
   "metadata": {
    "collapsed": true
   },
   "outputs": [],
   "source": [
    "T = NSWD[NSWD['treat']==1]\n",
    "C = NSWD[NSWD['treat']==0]"
   ]
  },
  {
   "cell_type": "code",
   "execution_count": 293,
   "metadata": {
    "collapsed": true
   },
   "outputs": [],
   "source": [
    "# For test use small subsets\n",
    "# T=T[:5]\n",
    "# C=C[:10]\n",
    "# Create lists of the indices for T and C\n",
    "indexT=(T.index.values).tolist()\n",
    "indexC=(C.index.values).tolist()\n",
    "# Create list of the propensity scores for T and C\n",
    "Pscore_T = (T['Propensity_score'])#.tolist\n",
    "Pscore_C = (C['Propensity_score'])#.tolist\n",
    "\n"
   ]
  },
  {
   "cell_type": "code",
   "execution_count": 295,
   "metadata": {
    "collapsed": true
   },
   "outputs": [],
   "source": [
    "import networkx as nx\n",
    "from networkx.algorithms import bipartite"
   ]
  },
  {
   "cell_type": "code",
   "execution_count": 296,
   "metadata": {},
   "outputs": [],
   "source": [
    "B = nx.Graph()\n",
    "B.add_nodes_from(indexT, bipartite=1) # Add the node attribute \"bipartite\" according to the treatment\n",
    "B.add_nodes_from(indexC, bipartite=0)"
   ]
  },
  {
   "cell_type": "code",
   "execution_count": 297,
   "metadata": {
    "collapsed": true
   },
   "outputs": [],
   "source": [
    "# We create a list of all weighted edges using the absolute difference in propensity score\n",
    "edges = []\n",
    "for t in indexT:\n",
    "    for c in indexC:\n",
    "        psweight= 1 - abs(Pscore_T[t] - Pscore_C[c]) \n",
    "        edges.append((t,c,psweight))\n",
    "\n",
    "B.add_weighted_edges_from(edges)\n",
    "matching=nx.max_weight_matching(B)\n",
    "# For negative weights use\n",
    "# matching=nx.max_weight_matching(B, maxcardinality=True)\n",
    "\n",
    "# To test that we have a full matching we can check we get 0 from computing\n",
    "#len(matching)-2*len(indexT)"
   ]
  },
  {
   "cell_type": "code",
   "execution_count": 298,
   "metadata": {},
   "outputs": [
    {
     "data": {
      "text/plain": [
       "{'NSW25': 'PSID361',\n",
       " 'NSW29': 'PSID15',\n",
       " 'PSID401': 'NSW174',\n",
       " 'PSID411': 'NSW131'}"
      ]
     },
     "execution_count": 298,
     "metadata": {},
     "output_type": "execute_result"
    }
   ],
   "source": [
    "#Quick look at first 5 pairs of matching\n",
    "firstkpairs = {k: matching[k] for k in list(matching)[:4]}\n",
    "firstkpairs"
   ]
  },
  {
   "cell_type": "code",
   "execution_count": 299,
   "metadata": {},
   "outputs": [
    {
     "data": {
      "text/html": [
       "<div>\n",
       "<style>\n",
       "    .dataframe thead tr:only-child th {\n",
       "        text-align: right;\n",
       "    }\n",
       "\n",
       "    .dataframe thead th {\n",
       "        text-align: left;\n",
       "    }\n",
       "\n",
       "    .dataframe tbody tr th {\n",
       "        vertical-align: top;\n",
       "    }\n",
       "</style>\n",
       "<table border=\"1\" class=\"dataframe\">\n",
       "  <thead>\n",
       "    <tr style=\"text-align: right;\">\n",
       "      <th></th>\n",
       "      <th>treat_id</th>\n",
       "      <th>control_id</th>\n",
       "    </tr>\n",
       "  </thead>\n",
       "  <tbody>\n",
       "    <tr>\n",
       "      <th>0</th>\n",
       "      <td>NSW1</td>\n",
       "      <td>PSID105</td>\n",
       "    </tr>\n",
       "    <tr>\n",
       "      <th>1</th>\n",
       "      <td>NSW10</td>\n",
       "      <td>PSID40</td>\n",
       "    </tr>\n",
       "    <tr>\n",
       "      <th>2</th>\n",
       "      <td>NSW100</td>\n",
       "      <td>PSID274</td>\n",
       "    </tr>\n",
       "    <tr>\n",
       "      <th>3</th>\n",
       "      <td>NSW101</td>\n",
       "      <td>PSID423</td>\n",
       "    </tr>\n",
       "    <tr>\n",
       "      <th>4</th>\n",
       "      <td>NSW102</td>\n",
       "      <td>PSID247</td>\n",
       "    </tr>\n",
       "  </tbody>\n",
       "</table>\n",
       "</div>"
      ],
      "text/plain": [
       "  treat_id control_id\n",
       "0     NSW1    PSID105\n",
       "1    NSW10     PSID40\n",
       "2   NSW100    PSID274\n",
       "3   NSW101    PSID423\n",
       "4   NSW102    PSID247"
      ]
     },
     "execution_count": 299,
     "metadata": {},
     "output_type": "execute_result"
    }
   ],
   "source": [
    "# We convert matching into a dataframe, df itself is not suitable as ids appear in column names and row 0\n",
    "df = pd.DataFrame(matching, index=['i',])\n",
    "\n",
    "treat_match = df.columns.values[0:len(indexT)]\n",
    "control_match=df.iloc[0][0:len(indexT)]\n",
    "\n",
    "matching_df = pd.DataFrame({'treat_id' : treat_match,\n",
    "                            'control_id' : control_match })\n",
    "matching_df = matching_df[['treat_id', 'control_id']]\n",
    "matching_df = matching_df.reset_index(drop=True)\n",
    "matching_df.head()"
   ]
  },
  {
   "cell_type": "code",
   "execution_count": 300,
   "metadata": {},
   "outputs": [
    {
     "data": {
      "text/html": [
       "<div>\n",
       "<style>\n",
       "    .dataframe thead tr:only-child th {\n",
       "        text-align: right;\n",
       "    }\n",
       "\n",
       "    .dataframe thead th {\n",
       "        text-align: left;\n",
       "    }\n",
       "\n",
       "    .dataframe tbody tr th {\n",
       "        vertical-align: top;\n",
       "    }\n",
       "</style>\n",
       "<table border=\"1\" class=\"dataframe\">\n",
       "  <thead>\n",
       "    <tr style=\"text-align: right;\">\n",
       "      <th></th>\n",
       "      <th>treat</th>\n",
       "      <th>age</th>\n",
       "      <th>educ</th>\n",
       "      <th>black</th>\n",
       "      <th>hispan</th>\n",
       "      <th>married</th>\n",
       "      <th>nodegree</th>\n",
       "      <th>re74</th>\n",
       "      <th>re75</th>\n",
       "      <th>re78</th>\n",
       "    </tr>\n",
       "    <tr>\n",
       "      <th>id</th>\n",
       "      <th></th>\n",
       "      <th></th>\n",
       "      <th></th>\n",
       "      <th></th>\n",
       "      <th></th>\n",
       "      <th></th>\n",
       "      <th></th>\n",
       "      <th></th>\n",
       "      <th></th>\n",
       "      <th></th>\n",
       "    </tr>\n",
       "  </thead>\n",
       "  <tbody>\n",
       "    <tr>\n",
       "      <th>PSID105</th>\n",
       "      <td>0</td>\n",
       "      <td>21</td>\n",
       "      <td>12</td>\n",
       "      <td>0</td>\n",
       "      <td>0</td>\n",
       "      <td>0</td>\n",
       "      <td>0</td>\n",
       "      <td>2827.2220</td>\n",
       "      <td>4056.8710</td>\n",
       "      <td>5937.5050</td>\n",
       "    </tr>\n",
       "    <tr>\n",
       "      <th>PSID40</th>\n",
       "      <td>0</td>\n",
       "      <td>40</td>\n",
       "      <td>3</td>\n",
       "      <td>0</td>\n",
       "      <td>1</td>\n",
       "      <td>1</td>\n",
       "      <td>1</td>\n",
       "      <td>7576.4850</td>\n",
       "      <td>7426.2580</td>\n",
       "      <td>12104.0600</td>\n",
       "    </tr>\n",
       "    <tr>\n",
       "      <th>PSID274</th>\n",
       "      <td>0</td>\n",
       "      <td>18</td>\n",
       "      <td>11</td>\n",
       "      <td>0</td>\n",
       "      <td>0</td>\n",
       "      <td>0</td>\n",
       "      <td>1</td>\n",
       "      <td>131.2709</td>\n",
       "      <td>218.4194</td>\n",
       "      <td>7503.8960</td>\n",
       "    </tr>\n",
       "    <tr>\n",
       "      <th>PSID423</th>\n",
       "      <td>0</td>\n",
       "      <td>27</td>\n",
       "      <td>10</td>\n",
       "      <td>1</td>\n",
       "      <td>0</td>\n",
       "      <td>0</td>\n",
       "      <td>1</td>\n",
       "      <td>0.0000</td>\n",
       "      <td>0.0000</td>\n",
       "      <td>7543.7940</td>\n",
       "    </tr>\n",
       "    <tr>\n",
       "      <th>PSID247</th>\n",
       "      <td>0</td>\n",
       "      <td>18</td>\n",
       "      <td>7</td>\n",
       "      <td>0</td>\n",
       "      <td>0</td>\n",
       "      <td>0</td>\n",
       "      <td>1</td>\n",
       "      <td>491.7760</td>\n",
       "      <td>558.5806</td>\n",
       "      <td>642.8111</td>\n",
       "    </tr>\n",
       "  </tbody>\n",
       "</table>\n",
       "</div>"
      ],
      "text/plain": [
       "         treat  age  educ  black  hispan  married  nodegree       re74  \\\n",
       "id                                                                       \n",
       "PSID105      0   21    12      0       0        0         0  2827.2220   \n",
       "PSID40       0   40     3      0       1        1         1  7576.4850   \n",
       "PSID274      0   18    11      0       0        0         1   131.2709   \n",
       "PSID423      0   27    10      1       0        0         1     0.0000   \n",
       "PSID247      0   18     7      0       0        0         1   491.7760   \n",
       "\n",
       "              re75        re78  \n",
       "id                              \n",
       "PSID105  4056.8710   5937.5050  \n",
       "PSID40   7426.2580  12104.0600  \n",
       "PSID274   218.4194   7503.8960  \n",
       "PSID423     0.0000   7543.7940  \n",
       "PSID247   558.5806    642.8111  "
      ]
     },
     "execution_count": 300,
     "metadata": {},
     "output_type": "execute_result"
    }
   ],
   "source": [
    "# Recall\n",
    "# treat = NSWD[NSWD['treat']==1]\n",
    "# control = NSWD[NSWD['treat']==0]\n",
    "\n",
    "# Create list of control id \n",
    "List=matching_df['control_id']\n",
    "control_matched = control.loc[List]\n",
    "control_matched.head()"
   ]
  },
  {
   "cell_type": "markdown",
   "metadata": {},
   "source": [
    "#### Comparisons between treatment group and matched sample of control group\n",
    "\n",
    "Recall that in our original analysis the key differences arose from the ethnic distribution of the two groups and the ratio of married people. We now repeat these comparison with the matched sample of control group.\n",
    "\n",
    "Our comparison will also include age, education and nodegree again, in order to make sure that the matching did not accidently create an imbalance. (We would not expect so as we used propensity score for our matching so we trying to match features as best as possible, but better safe than sorry)"
   ]
  },
  {
   "cell_type": "code",
   "execution_count": 301,
   "metadata": {},
   "outputs": [
    {
     "name": "stdout",
     "output_type": "stream",
     "text": [
      "The control group contains  20.2 %  black, 14.2 %  hispanic, 65.5 %  white,.\n",
      "The matched sample of the control group contains  47.0 %  black, 11.8 %  hispanic, 41.0 %  white,.\n",
      "The treatment group contains  84.3 % black, 5.9 % hispanic, 9.7 % white.\n"
     ]
    }
   ],
   "source": [
    "control_matched_total_black  = control_matched['black'].sum()\n",
    "#treat_total_black  = treat['black'].sum()\n",
    "control_matched_total_hispan = control_matched['hispan'].sum()\n",
    "# treat_total_hispan  = treat['hispan'].sum()\n",
    "control_matched_total_white = treat_total - control_matched_total_black - control_matched_total_hispan\n",
    "# treat_total_white  = treat_total - treat_total_black - treat_total_hispan\n",
    "\n",
    "control_matched_relfreq_black  = (1000*control_matched_total_black // treat_total)/10\n",
    "control_matched_relfreq_hispan  = (1000*control_matched_total_hispan // treat_total)/10\n",
    "control_matched_relfreq_white  = (1000*control_matched_total_white // treat_total)/10\n",
    "# treat_relfreq_black  = (1000*treat_total_black // treat_total)/10\n",
    "# treat_relfreq_hispan  = (1000*treat_total_hispan // treat_total)/10\n",
    "# treat_relfreq_white  = (1000*treat_total_white // treat_total)/10\n",
    "\n",
    "print('The control group contains ',\n",
    "      control_relfreq_black, '%  black,',\n",
    "      control_relfreq_hispan, '%  hispanic,',\n",
    "      control_relfreq_white, '%  white,.')\n",
    "print('The matched sample of the control group contains ',\n",
    "      control_matched_relfreq_black, '%  black,',\n",
    "      control_matched_relfreq_hispan, '%  hispanic,',\n",
    "      control_matched_relfreq_white, '%  white,.')\n",
    "print('The treatment group contains ',\n",
    "      treat_relfreq_black, '% black,',\n",
    "      treat_relfreq_hispan, '% hispanic,',\n",
    "      treat_relfreq_white, '% white.')"
   ]
  },
  {
   "cell_type": "code",
   "execution_count": 302,
   "metadata": {},
   "outputs": [
    {
     "name": "stdout",
     "output_type": "stream",
     "text": [
      "The control group contains  51.2 % married people\n",
      "The matched sample of the control group contains  16.7 % married people\n",
      "The treatment group contains  18.9 % married people\n"
     ]
    }
   ],
   "source": [
    "control_matched_total_married  = control_matched['married'].sum()\n",
    "# treat_total_married  = treat['married'].sum()\n",
    "control_matched_relfreq_married  = (1000*control_matched_total_married // treat_total)/10\n",
    "# treat_relfreq_married  = (1000*treat_total_married // treat_total)/10\n",
    "\n",
    "print('The control group contains ', control_relfreq_married, '% married people')\n",
    "print('The matched sample of the control group contains ', control_matched_relfreq_married, '% married people')\n",
    "print('The treatment group contains ', treat_relfreq_married, '% married people')"
   ]
  },
  {
   "cell_type": "code",
   "execution_count": 303,
   "metadata": {},
   "outputs": [
    {
     "name": "stdout",
     "output_type": "stream",
     "text": [
      "The control group contains  59.6 % with no degree\n",
      "The matched sample of the control group contains  62.7 % with no degree\n",
      "The treatment group contains  70.8 % with no degree\n"
     ]
    }
   ],
   "source": [
    "control_matched_total_nodegree  = control_matched['nodegree'].sum()\n",
    "treat_total_nodegree  = treat['nodegree'].sum()\n",
    "control_matched_relfreq_nodegree  = (1000*control_matched_total_nodegree // treat_total)/10\n",
    "treat_relfreq_nodegree  = (1000*treat_total_nodegree // treat_total)/10\n",
    "\n",
    "print('The control group contains ', control_relfreq_nodegree, '% with no degree')\n",
    "print('The matched sample of the control group contains ', control_matched_relfreq_nodegree, '% with no degree')\n",
    "print('The treatment group contains ', treat_relfreq_nodegree, '% with no degree')"
   ]
  },
  {
   "cell_type": "code",
   "execution_count": 304,
   "metadata": {},
   "outputs": [
    {
     "data": {
      "text/plain": [
       "<matplotlib.axes._subplots.AxesSubplot at 0x32dd03d68>"
      ]
     },
     "execution_count": 304,
     "metadata": {},
     "output_type": "execute_result"
    },
    {
     "data": {
      "image/png": "[encoded data removed]",
      "text/plain": [
       "<matplotlib.figure.Figure at 0x32b0514e0>"
      ]
     },
     "metadata": {},
     "output_type": "display_data"
    }
   ],
   "source": [
    "control_matched_age = control_matched[['age']]\n",
    "treat_age= treat[['age']]\n",
    "\n",
    "\n",
    "bin_values_age = np.arange(start=15, stop=60, step=5) # age ranges from 16 to 55\n",
    "\n",
    "fig, axes = plt.subplots(1, 3, figsize=(10,5))\n",
    "control_age.plot.hist(ax=axes[0], xlim = (15,60), ylim = (0,0.12), normed=True , title=' Control - age', bins=bin_values_age)\n",
    "control_matched_age.plot.hist(ax=axes[1], xlim = (15,60), ylim = (0,0.12), normed=True , title='Matched Control - age', bins=bin_values_age)\n",
    "treat_age.plot.hist(ax=axes[2], xlim = (15,60), ylim = (0,0.12), normed=True, title='Treatment - age', bins=bin_values_age)"
   ]
  },
  {
   "cell_type": "code",
   "execution_count": 305,
   "metadata": {},
   "outputs": [
    {
     "data": {
      "text/plain": [
       "<matplotlib.axes._subplots.AxesSubplot at 0x32de52b70>"
      ]
     },
     "execution_count": 305,
     "metadata": {},
     "output_type": "execute_result"
    },
    {
     "data": {
      "image/png": "[encoded data removed]",
      "text/plain": [
       "<matplotlib.figure.Figure at 0x32b07dd30>"
      ]
     },
     "metadata": {},
     "output_type": "display_data"
    }
   ],
   "source": [
    "control_matched_educ = control_matched[['educ']]\n",
    "treat_educ= treat[['educ']]\n",
    "\n",
    "bin_values_educ = np.arange(start=0, stop=20, step=1) # education ranges from 0 to 18\n",
    "\n",
    "fig, axes = plt.subplots(1, 3, figsize=(10,5))\n",
    "control_educ.plot.hist(ax=axes[0], xlim = (0,18), normed=True , title=' Control - education', bins=bin_values_educ)\n",
    "control_matched_educ.plot.hist(ax=axes[1], xlim = (0,18), normed=True , title='Matched Control - education', bins=bin_values_educ)\n",
    "treat_educ.plot.hist(ax=axes[2], xlim = (0,18), normed=True, title='Treatment - education', bins=bin_values_educ)"
   ]
  },
  {
   "cell_type": "markdown",
   "metadata": {},
   "source": [
    "#### Analysis of our matching\n",
    "\n",
    "We can see that portion of married people has been balanced by the sampling.\n",
    "\n",
    "For the ethnic decomposition the portion of black people has more than doubled in the matched sample of the control group, however it is still significantly different fron the treatment group. This is an issue that needs to be addressed in some further balancing in step 5.\n",
    "\n",
    "Changes for nodegree and education are insignificant.\n",
    "\n",
    "For age we observe that we have almost double the first bin (15-20) while (25-30) has been halved. Both bins perform worse than before. Hence the samples has unbalanced the distribution more."
   ]
  },
  {
   "cell_type": "markdown",
   "metadata": {},
   "source": [
    "#### 5. Balancing the groups further\n",
    "\n",
    "Based on your comparison of feature-value distributions from part 4, are you fully satisfied with your matching?\n",
    "Would you say your dataset is sufficiently balanced?\n",
    "If not, in what ways could the \"balanced\" dataset you have obtained still not allow you to draw valid conclusions?\n",
    "\n",
    "Improve your matching by explicitly making sure that you match only subjects that have the same value for the problematic feature.\n",
    "Argue with numbers and plots that the two groups (treated and control) are now better balanced than after part 4."
   ]
  },
  {
   "cell_type": "markdown",
   "metadata": {},
   "source": [
    "#### 6. A less naive analysis\n",
    "\n",
    "Compare the outcomes (`re78`) between treated and control subjects, as you've done in part 1, but now only for the matched dataset you've obtained from part 5.\n",
    "What do you conclude about the effectiveness of the job training program?"
   ]
  },
  {
   "cell_type": "markdown",
   "metadata": {},
   "source": [
    "## Question 2: Applied ML\n",
    "\n",
    "We are going to build a classifier of news to directly assign them to 20 news categories. Note that the pipeline that you will build in this exercise could be of great help during your project if you plan to work with text\n"
   ]
  },
  {
   "cell_type": "markdown",
   "metadata": {},
   "source": [
    "\n",
    "1. Load the 20newsgroup dataset. It is, again, a classic dataset that can directly be loaded using sklearn ([link](http://scikit-learn.org/stable/datasets/twenty_newsgroups.html)).  \n",
    "[TF-IDF](https://en.wikipedia.org/wiki/Tf%E2%80%93idf), short for term frequency inverse document frequency, is of great help when if comes to compute textual features. Indeed, it gives more importance to terms that are more specific to the considered articles (TF) but reduces the importance of terms that are very frequent in the entire corpus (IDF). Compute TF-IDF features for every article using [TfidfVectorizer](http://scikit-learn.org/stable/modules/generated/sklearn.feature_extraction.text.TfidfVectorizer.html). Then, split your dataset into a training, a testing and a validation set (10% for validation and 10% for testing). Each observation should be paired with its corresponding label (the article category).\n"
   ]
  },
  {
   "cell_type": "code",
   "execution_count": 240,
   "metadata": {},
   "outputs": [
    {
     "data": {
      "text/html": [
       "<div>\n",
       "<style>\n",
       "    .dataframe thead tr:only-child th {\n",
       "        text-align: right;\n",
       "    }\n",
       "\n",
       "    .dataframe thead th {\n",
       "        text-align: left;\n",
       "    }\n",
       "\n",
       "    .dataframe tbody tr th {\n",
       "        vertical-align: top;\n",
       "    }\n",
       "</style>\n",
       "<table border=\"1\" class=\"dataframe\">\n",
       "  <thead>\n",
       "    <tr style=\"text-align: right;\">\n",
       "      <th></th>\n",
       "      <th>Categories</th>\n",
       "      <th>Text</th>\n",
       "    </tr>\n",
       "  </thead>\n",
       "  <tbody>\n",
       "    <tr>\n",
       "      <th>0</th>\n",
       "      <td>10</td>\n",
       "      <td>From: Mamatha Devineni Ratnam &lt;mr47+@andrew.cm...</td>\n",
       "    </tr>\n",
       "    <tr>\n",
       "      <th>1</th>\n",
       "      <td>3</td>\n",
       "      <td>From: mblawson@midway.ecn.uoknor.edu (Matthew ...</td>\n",
       "    </tr>\n",
       "    <tr>\n",
       "      <th>2</th>\n",
       "      <td>17</td>\n",
       "      <td>From: hilmi-er@dsv.su.se (Hilmi Eren)\\nSubject...</td>\n",
       "    </tr>\n",
       "    <tr>\n",
       "      <th>3</th>\n",
       "      <td>3</td>\n",
       "      <td>From: guyd@austin.ibm.com (Guy Dawson)\\nSubjec...</td>\n",
       "    </tr>\n",
       "    <tr>\n",
       "      <th>4</th>\n",
       "      <td>4</td>\n",
       "      <td>From: Alexander Samuel McDiarmid &lt;am2o+@andrew...</td>\n",
       "    </tr>\n",
       "  </tbody>\n",
       "</table>\n",
       "</div>"
      ],
      "text/plain": [
       "   Categories                                               Text\n",
       "0          10  From: Mamatha Devineni Ratnam <mr47+@andrew.cm...\n",
       "1           3  From: mblawson@midway.ecn.uoknor.edu (Matthew ...\n",
       "2          17  From: hilmi-er@dsv.su.se (Hilmi Eren)\\nSubject...\n",
       "3           3  From: guyd@austin.ibm.com (Guy Dawson)\\nSubjec...\n",
       "4           4  From: Alexander Samuel McDiarmid <am2o+@andrew..."
      ]
     },
     "execution_count": 240,
     "metadata": {},
     "output_type": "execute_result"
    }
   ],
   "source": [
    "from sklearn.datasets import fetch_20newsgroups\n",
    "# Get the news data set\n",
    "newsgroups_20 = fetch_20newsgroups(subset = 'all', shuffle=True)\n",
    "#Creat a dataframe\n",
    "newsgroups_20_dataframe = pd.DataFrame({'Text': newsgroups_20.data,'Categories':    newsgroups_20.target})\n",
    "newsgroups_20_dataframe.head()"
   ]
  },
  {
   "cell_type": "code",
   "execution_count": 241,
   "metadata": {},
   "outputs": [
    {
     "data": {
      "image/png": "[encoded data removed]",
      "text/plain": [
       "<matplotlib.figure.Figure at 0x286dfbb70>"
      ]
     },
     "metadata": {},
     "output_type": "display_data"
    }
   ],
   "source": [
    "values = newsgroups_20_dataframe.Categories.value_counts()\n",
    "values = values.sort_index()\n",
    "# Plot the number of articles in each categorie\n",
    "values.plot.bar()\n",
    "plt.show()"
   ]
  },
  {
   "cell_type": "markdown",
   "metadata": {},
   "source": [
    "The number of articles is equaly distributed except for a few, but the diffrens is not very high. Therefore can we keep the data set as it is."
   ]
  },
  {
   "cell_type": "code",
   "execution_count": 242,
   "metadata": {},
   "outputs": [
    {
     "data": {
      "text/plain": [
       "<18846x173762 sparse matrix of type '<class 'numpy.float64'>'\n",
       "\twith 2952534 stored elements in Compressed Sparse Row format>"
      ]
     },
     "execution_count": 242,
     "metadata": {},
     "output_type": "execute_result"
    }
   ],
   "source": [
    "from sklearn.feature_extraction.text import TfidfVectorizer\n",
    "# Creat a Tf-idf vectiruzer\n",
    "tf_idf = TfidfVectorizer()\n",
    "tf_idf_results = tf_idf.fit_transform(newsgroups_20.data)\n",
    "tf_idf_results"
   ]
  },
  {
   "cell_type": "code",
   "execution_count": 243,
   "metadata": {},
   "outputs": [],
   "source": [
    "# Taken from: http://scikit-learn.org/stable/modules/generated/sklearn.model_selection.train_test_split.html\n",
    "from sklearn.model_selection import train_test_split\n",
    "X = tf_idf_results\n",
    "y = newsgroups_20_dataframe.Categories\n",
    "# Creat a train set, a validation set and a test set\n",
    "X_training, X_test_valid, y_training, y_test_valid = train_test_split(X, y, test_size=0.2, random_state=42)\n",
    "\n",
    "X_valid, X_test, y_valid, y_test = train_test_split(X_test_valid, y_test_valid, test_size=0.5, random_state=42)\n"
   ]
  },
  {
   "cell_type": "markdown",
   "metadata": {},
   "source": [
    "\n",
    "## Part 2\n",
    "Train a random forest on your training set. Try to fine-tune the parameters of your predictor on your validation set using a simple grid search on the number of estimator \"n_estimators\" and the max depth of the trees \"max_depth\". Then, display a confusion matrix of your classification pipeline. Lastly, once you assessed your model, inspect the `feature_importances_` attribute of your random forest and discuss the obtained results."
   ]
  },
  {
   "cell_type": "markdown",
   "metadata": {},
   "source": [
    "Now we will use the random forest on our training set. In order to determine how many trees and how deep each tree should be we use Grid Search. Sklearn have a library called GridSearchCV that test diffrent parameters for number of trees and depth. We have choosed a interval from 10 to 230 for number of trees and values from 100 to 300 for the depth. We choosed these intervals since accuarcy score goes up a lot(25 %) from 10 forest to around 100 forest and then the accuarcy is almost the same for more than 100 forest. It also takes a lot of time to run the code which is also a reason wy we chosed this interval."
   ]
  },
  {
   "cell_type": "code",
   "execution_count": 244,
   "metadata": {},
   "outputs": [],
   "source": [
    "from sklearn.ensemble import RandomForestClassifier\n",
    "from sklearn.metrics import accuracy_score, confusion_matrix\n",
    "randomforest = RandomForestClassifier()\n",
    "\n"
   ]
  },
  {
   "cell_type": "code",
   "execution_count": 155,
   "metadata": {},
   "outputs": [
    {
     "name": "stdout",
     "output_type": "stream",
     "text": [
      "Fitting 3 folds for each of 32 candidates, totalling 96 fits\n",
      "[CV] max_depth=100, n_estimators=10 ..................................\n",
      "[CV] max_depth=100, n_estimators=10 ..................................\n",
      "[CV] max_depth=100, n_estimators=10 ..................................\n",
      "[CV] max_depth=100, n_estimators=40 ..................................\n",
      "[CV] ... max_depth=100, n_estimators=10, score=0.654513, total=   9.0s\n",
      "[CV] max_depth=100, n_estimators=40 ..................................\n",
      "[CV] ... max_depth=100, n_estimators=10, score=0.645399, total=   9.4s\n",
      "[CV] max_depth=100, n_estimators=40 ..................................\n",
      "[CV] ... max_depth=100, n_estimators=10, score=0.623955, total=  10.1s\n",
      "[CV] max_depth=100, n_estimators=70 ..................................\n",
      "[CV] ... max_depth=100, n_estimators=40, score=0.776983, total=  38.4s\n",
      "[CV] max_depth=100, n_estimators=70 ..................................\n",
      "[CV] ... max_depth=100, n_estimators=40, score=0.797171, total=  38.2s\n",
      "[CV] max_depth=100, n_estimators=70 ..................................\n"
     ]
    },
    {
     "name": "stderr",
     "output_type": "stream",
     "text": [
      "[Parallel(n_jobs=-1)]: Done   5 tasks      | elapsed:   49.2s\n"
     ]
    },
    {
     "name": "stdout",
     "output_type": "stream",
     "text": [
      "[CV] ... max_depth=100, n_estimators=40, score=0.766614, total=  40.9s\n",
      "[CV] max_depth=100, n_estimators=100 .................................\n",
      "[CV] ... max_depth=100, n_estimators=70, score=0.807792, total= 1.2min\n",
      "[CV] max_depth=100, n_estimators=100 .................................\n",
      "[CV] ... max_depth=100, n_estimators=70, score=0.804019, total= 1.2min\n",
      "[CV] max_depth=100, n_estimators=100 .................................\n",
      "[CV] ... max_depth=100, n_estimators=70, score=0.818290, total= 1.1min\n",
      "[CV] max_depth=100, n_estimators=130 .................................\n",
      "[CV] .. max_depth=100, n_estimators=100, score=0.822103, total= 1.6min\n",
      "[CV] max_depth=100, n_estimators=130 .................................\n"
     ]
    },
    {
     "name": "stderr",
     "output_type": "stream",
     "text": [
      "[Parallel(n_jobs=-1)]: Done  10 tasks      | elapsed:  2.5min\n"
     ]
    },
    {
     "name": "stdout",
     "output_type": "stream",
     "text": [
      "[CV] .. max_depth=100, n_estimators=100, score=0.813370, total= 1.7min\n",
      "[CV] max_depth=100, n_estimators=130 .................................\n",
      "[CV] .. max_depth=100, n_estimators=100, score=0.828452, total= 1.6min\n",
      "[CV] max_depth=100, n_estimators=160 .................................\n",
      "[CV] .. max_depth=100, n_estimators=130, score=0.826078, total= 2.1min\n",
      "[CV] max_depth=100, n_estimators=160 .................................\n",
      "[CV] .. max_depth=100, n_estimators=130, score=0.824115, total= 2.2min\n",
      "[CV] max_depth=100, n_estimators=160 .................................\n",
      "[CV] .. max_depth=100, n_estimators=130, score=0.836422, total= 2.1min\n",
      "[CV] max_depth=100, n_estimators=190 .................................\n",
      "[CV] .. max_depth=100, n_estimators=160, score=0.832638, total= 2.8min\n",
      "[CV] max_depth=100, n_estimators=190 .................................\n",
      "[CV] .. max_depth=100, n_estimators=160, score=0.829686, total= 2.9min\n",
      "[CV] max_depth=100, n_estimators=190 .................................\n"
     ]
    },
    {
     "name": "stderr",
     "output_type": "stream",
     "text": [
      "[Parallel(n_jobs=-1)]: Done  17 tasks      | elapsed:  7.1min\n"
     ]
    },
    {
     "name": "stdout",
     "output_type": "stream",
     "text": [
      "[CV] .. max_depth=100, n_estimators=160, score=0.846981, total= 2.7min\n",
      "[CV] max_depth=100, n_estimators=220 .................................\n",
      "[CV] .. max_depth=100, n_estimators=190, score=0.837011, total= 3.3min\n",
      "[CV] max_depth=100, n_estimators=220 .................................\n",
      "[CV] .. max_depth=100, n_estimators=190, score=0.829686, total= 3.2min\n",
      "[CV] max_depth=100, n_estimators=220 .................................\n",
      "[CV] .. max_depth=100, n_estimators=190, score=0.845587, total= 3.0min\n",
      "[CV] max_depth=150, n_estimators=10 ..................................\n",
      "[CV] ... max_depth=150, n_estimators=10, score=0.636852, total=  12.0s\n",
      "[CV] max_depth=150, n_estimators=10 ..................................\n",
      "[CV] ... max_depth=150, n_estimators=10, score=0.603661, total=  13.6s\n",
      "[CV] max_depth=150, n_estimators=10 ..................................\n",
      "[CV] ... max_depth=150, n_estimators=10, score=0.641761, total=  13.5s\n",
      "[CV] max_depth=150, n_estimators=40 ..................................\n"
     ]
    },
    {
     "name": "stderr",
     "output_type": "stream",
     "text": [
      "[Parallel(n_jobs=-1)]: Done  24 tasks      | elapsed: 10.9min\n"
     ]
    },
    {
     "name": "stdout",
     "output_type": "stream",
     "text": [
      "[CV] .. max_depth=100, n_estimators=220, score=0.839595, total= 3.7min\n",
      "[CV] max_depth=150, n_estimators=40 ..................................\n",
      "[CV] ... max_depth=150, n_estimators=40, score=0.778573, total=  54.8s\n",
      "[CV] max_depth=150, n_estimators=40 ..................................\n",
      "[CV] ... max_depth=150, n_estimators=40, score=0.770792, total=  54.4s\n",
      "[CV] max_depth=150, n_estimators=70 ..................................\n",
      "[CV] .. max_depth=100, n_estimators=220, score=0.828293, total= 3.8min\n",
      "[CV] max_depth=150, n_estimators=70 ..................................\n",
      "[CV] ... max_depth=150, n_estimators=40, score=0.789201, total=  51.3s\n",
      "[CV] max_depth=150, n_estimators=70 ..................................\n",
      "[CV] .. max_depth=100, n_estimators=220, score=0.848575, total= 3.7min\n",
      "[CV] max_depth=150, n_estimators=100 .................................\n",
      "[CV] ... max_depth=150, n_estimators=70, score=0.818525, total= 1.5min\n",
      "[CV] max_depth=150, n_estimators=100 .................................\n",
      "[CV] ... max_depth=150, n_estimators=70, score=0.796657, total= 1.5min\n",
      "[CV] max_depth=150, n_estimators=100 .................................\n",
      "[CV] ... max_depth=150, n_estimators=70, score=0.818290, total= 1.4min\n",
      "[CV] max_depth=150, n_estimators=130 .................................\n"
     ]
    },
    {
     "name": "stderr",
     "output_type": "stream",
     "text": [
      "[Parallel(n_jobs=-1)]: Done  33 tasks      | elapsed: 14.1min\n"
     ]
    },
    {
     "name": "stdout",
     "output_type": "stream",
     "text": [
      "[CV] .. max_depth=150, n_estimators=100, score=0.826476, total= 1.9min\n",
      "[CV] max_depth=150, n_estimators=130 .................................\n",
      "[CV] .. max_depth=150, n_estimators=100, score=0.818544, total= 2.0min\n",
      "[CV] max_depth=150, n_estimators=130 .................................\n",
      "[CV] .. max_depth=150, n_estimators=100, score=0.821279, total= 1.9min\n",
      "[CV] max_depth=150, n_estimators=160 .................................\n",
      "[CV] .. max_depth=150, n_estimators=130, score=0.831246, total= 2.5min\n",
      "[CV] max_depth=150, n_estimators=160 .................................\n",
      "[CV] .. max_depth=150, n_estimators=130, score=0.823518, total= 2.6min\n",
      "[CV] max_depth=150, n_estimators=160 .................................\n",
      "[CV] .. max_depth=150, n_estimators=130, score=0.836422, total= 2.5min\n",
      "[CV] max_depth=150, n_estimators=190 .................................\n",
      "[CV] .. max_depth=150, n_estimators=160, score=0.840191, total= 3.3min\n",
      "[CV] max_depth=150, n_estimators=190 .................................\n",
      "[CV] .. max_depth=150, n_estimators=160, score=0.823518, total= 3.5min\n",
      "[CV] max_depth=150, n_estimators=190 .................................\n",
      "[CV] .. max_depth=150, n_estimators=160, score=0.844591, total= 3.3min\n",
      "[CV] max_depth=150, n_estimators=220 .................................\n"
     ]
    },
    {
     "name": "stderr",
     "output_type": "stream",
     "text": [
      "[Parallel(n_jobs=-1)]: Done  42 tasks      | elapsed: 21.4min\n"
     ]
    },
    {
     "name": "stdout",
     "output_type": "stream",
     "text": [
      "[CV] .. max_depth=150, n_estimators=190, score=0.842576, total= 3.9min\n",
      "[CV] max_depth=150, n_estimators=220 .................................\n",
      "[CV] .. max_depth=150, n_estimators=190, score=0.826701, total= 4.1min\n",
      "[CV] max_depth=150, n_estimators=220 .................................\n",
      "[CV] .. max_depth=150, n_estimators=190, score=0.848575, total= 3.9min\n",
      "[CV] max_depth=200, n_estimators=10 ..................................\n",
      "[CV] ... max_depth=200, n_estimators=10, score=0.612006, total=  12.8s\n",
      "[CV] max_depth=200, n_estimators=10 ..................................\n",
      "[CV] ... max_depth=200, n_estimators=10, score=0.607043, total=  15.2s\n",
      "[CV] max_depth=200, n_estimators=10 ..................................\n",
      "[CV] ... max_depth=200, n_estimators=10, score=0.619845, total=  14.4s\n",
      "[CV] max_depth=200, n_estimators=40 ..................................\n",
      "[CV] ... max_depth=200, n_estimators=40, score=0.789306, total= 1.0min\n",
      "[CV] max_depth=200, n_estimators=40 ..................................\n",
      "[CV] .. max_depth=150, n_estimators=220, score=0.842377, total= 4.8min\n",
      "[CV] max_depth=200, n_estimators=40 ..................................\n",
      "[CV] ... max_depth=200, n_estimators=40, score=0.771588, total=  59.4s\n",
      "[CV] max_depth=200, n_estimators=70 ..................................\n",
      "[CV] ... max_depth=200, n_estimators=40, score=0.782825, total=  54.2s\n",
      "[CV] max_depth=200, n_estimators=70 ..................................\n",
      "[CV] .. max_depth=150, n_estimators=220, score=0.832073, total= 5.1min\n",
      "[CV] max_depth=200, n_estimators=70 ..................................\n"
     ]
    },
    {
     "name": "stderr",
     "output_type": "stream",
     "text": [
      "[Parallel(n_jobs=-1)]: Done  53 tasks      | elapsed: 27.6min\n"
     ]
    },
    {
     "name": "stdout",
     "output_type": "stream",
     "text": [
      "[CV] .. max_depth=150, n_estimators=220, score=0.843993, total= 4.8min\n",
      "[CV] max_depth=200, n_estimators=100 .................................\n",
      "[CV] ... max_depth=200, n_estimators=70, score=0.813158, total= 1.7min\n",
      "[CV] max_depth=200, n_estimators=100 .................................\n",
      "[CV] ... max_depth=200, n_estimators=70, score=0.804417, total= 1.8min\n",
      "[CV] max_depth=200, n_estimators=100 .................................\n",
      "[CV] ... max_depth=200, n_estimators=70, score=0.821478, total= 1.7min\n",
      "[CV] max_depth=200, n_estimators=130 .................................\n",
      "[CV] .. max_depth=200, n_estimators=100, score=0.826873, total= 2.4min\n",
      "[CV] max_depth=200, n_estimators=130 .................................\n",
      "[CV] .. max_depth=200, n_estimators=100, score=0.816952, total= 2.4min\n",
      "[CV] max_depth=200, n_estimators=130 .................................\n",
      "[CV] .. max_depth=200, n_estimators=100, score=0.831042, total= 2.2min\n",
      "[CV] max_depth=200, n_estimators=160 .................................\n",
      "[CV] .. max_depth=200, n_estimators=130, score=0.835023, total= 3.1min\n",
      "[CV] max_depth=200, n_estimators=160 .................................\n",
      "[CV] .. max_depth=200, n_estimators=130, score=0.827099, total= 3.3min\n",
      "[CV] max_depth=200, n_estimators=160 .................................\n",
      "[CV] .. max_depth=200, n_estimators=130, score=0.836820, total= 3.2min\n",
      "[CV] max_depth=200, n_estimators=190 .................................\n",
      "[CV] .. max_depth=200, n_estimators=160, score=0.834029, total= 3.9min\n",
      "[CV] max_depth=200, n_estimators=190 .................................\n"
     ]
    },
    {
     "name": "stderr",
     "output_type": "stream",
     "text": [
      "[Parallel(n_jobs=-1)]: Done  64 tasks      | elapsed: 35.4min\n"
     ]
    },
    {
     "name": "stdout",
     "output_type": "stream",
     "text": [
      "[CV] .. max_depth=200, n_estimators=160, score=0.825507, total= 4.0min\n",
      "[CV] max_depth=200, n_estimators=190 .................................\n",
      "[CV] .. max_depth=200, n_estimators=160, score=0.845388, total= 3.8min\n",
      "[CV] max_depth=200, n_estimators=220 .................................\n",
      "[CV] .. max_depth=200, n_estimators=190, score=0.836812, total= 4.6min\n",
      "[CV] max_depth=200, n_estimators=220 .................................\n",
      "[CV] .. max_depth=200, n_estimators=190, score=0.831874, total= 5.0min\n",
      "[CV] max_depth=200, n_estimators=220 .................................\n",
      "[CV] .. max_depth=200, n_estimators=190, score=0.846782, total= 4.7min\n",
      "[CV] max_depth=250, n_estimators=10 ..................................\n",
      "[CV] ... max_depth=250, n_estimators=10, score=0.642616, total=  13.8s\n",
      "[CV] max_depth=250, n_estimators=10 ..................................\n",
      "[CV] ... max_depth=250, n_estimators=10, score=0.614604, total=  14.3s\n",
      "[CV] max_depth=250, n_estimators=10 ..................................\n",
      "[CV] ... max_depth=250, n_estimators=10, score=0.615063, total=  13.4s\n",
      "[CV] max_depth=250, n_estimators=40 ..................................\n",
      "[CV] ... max_depth=250, n_estimators=40, score=0.784138, total=  56.8s\n",
      "[CV] max_depth=250, n_estimators=40 ..................................\n",
      "[CV] .. max_depth=200, n_estimators=220, score=0.840986, total= 5.4min\n",
      "[CV] max_depth=250, n_estimators=40 ..................................\n",
      "[CV] ... max_depth=250, n_estimators=40, score=0.763828, total= 1.1min\n",
      "[CV] max_depth=250, n_estimators=70 ..................................\n",
      "[CV] ... max_depth=250, n_estimators=40, score=0.783025, total=  59.1s\n",
      "[CV] max_depth=250, n_estimators=70 ..................................\n",
      "[CV] .. max_depth=200, n_estimators=220, score=0.834660, total= 5.6min\n",
      "[CV] max_depth=250, n_estimators=70 ..................................\n"
     ]
    },
    {
     "name": "stderr",
     "output_type": "stream",
     "text": [
      "[Parallel(n_jobs=-1)]: Done  77 tasks      | elapsed: 44.8min\n"
     ]
    },
    {
     "name": "stdout",
     "output_type": "stream",
     "text": [
      "[CV] .. max_depth=200, n_estimators=220, score=0.845985, total= 5.0min\n",
      "[CV] max_depth=250, n_estimators=100 .................................\n",
      "[CV] ... max_depth=250, n_estimators=70, score=0.809978, total= 1.6min\n",
      "[CV] max_depth=250, n_estimators=100 .................................\n",
      "[CV] ... max_depth=250, n_estimators=70, score=0.797652, total= 1.7min\n",
      "[CV] max_depth=250, n_estimators=100 .................................\n",
      "[CV] ... max_depth=250, n_estimators=70, score=0.815302, total= 1.6min\n",
      "[CV] max_depth=250, n_estimators=130 .................................\n",
      "[CV] .. max_depth=250, n_estimators=100, score=0.827072, total= 2.4min\n",
      "[CV] max_depth=250, n_estimators=130 .................................\n",
      "[CV] .. max_depth=250, n_estimators=100, score=0.811779, total= 2.5min\n",
      "[CV] max_depth=250, n_estimators=130 .................................\n",
      "[CV] .. max_depth=250, n_estimators=100, score=0.829847, total= 2.5min\n",
      "[CV] max_depth=250, n_estimators=160 .................................\n",
      "[CV] .. max_depth=250, n_estimators=130, score=0.832439, total= 3.7min\n",
      "[CV] max_depth=250, n_estimators=160 .................................\n",
      "[CV] .. max_depth=250, n_estimators=130, score=0.823518, total= 3.9min\n",
      "[CV] max_depth=250, n_estimators=160 .................................\n",
      "[CV] .. max_depth=250, n_estimators=130, score=0.839012, total= 3.7min\n",
      "[CV] max_depth=250, n_estimators=190 .................................\n",
      "[CV] .. max_depth=250, n_estimators=160, score=0.837209, total= 4.5min\n",
      "[CV] max_depth=250, n_estimators=190 .................................\n",
      "[CV] .. max_depth=250, n_estimators=160, score=0.828890, total= 4.2min\n",
      "[CV] max_depth=250, n_estimators=190 .................................\n",
      "[CV] .. max_depth=250, n_estimators=160, score=0.845188, total= 4.0min\n",
      "[CV] max_depth=250, n_estimators=220 .................................\n",
      "[CV] .. max_depth=250, n_estimators=190, score=0.841980, total= 5.1min\n",
      "[CV] max_depth=250, n_estimators=220 .................................\n",
      "[CV] .. max_depth=250, n_estimators=190, score=0.831277, total= 5.1min\n",
      "[CV] max_depth=250, n_estimators=220 .................................\n",
      "[CV] .. max_depth=250, n_estimators=190, score=0.844192, total= 4.8min\n",
      "[CV] .. max_depth=250, n_estimators=220, score=0.840588, total= 5.4min\n",
      "[CV] .. max_depth=250, n_estimators=220, score=0.831874, total= 5.2min\n",
      "[CV] .. max_depth=250, n_estimators=220, score=0.844192, total= 4.4min\n"
     ]
    },
    {
     "name": "stderr",
     "output_type": "stream",
     "text": [
      "[Parallel(n_jobs=-1)]: Done  96 out of  96 | elapsed: 63.2min finished\n"
     ]
    },
    {
     "ename": "KeyboardInterrupt",
     "evalue": "",
     "output_type": "error",
     "traceback": [
      "\u001b[0;31m---------------------------------------------------------------------------\u001b[0m",
      "\u001b[0;31mKeyboardInterrupt\u001b[0m                         Traceback (most recent call last)",
      "\u001b[0;32m<ipython-input-155-d06f06c94188>\u001b[0m in \u001b[0;36m<module>\u001b[0;34m()\u001b[0m\n\u001b[1;32m     10\u001b[0m \u001b[0;31m# cv = 3, that's the number of folds\u001b[0m\u001b[0;34m\u001b[0m\u001b[0;34m\u001b[0m\u001b[0m\n\u001b[1;32m     11\u001b[0m \u001b[0mgridsearch\u001b[0m \u001b[0;34m=\u001b[0m \u001b[0mGridSearchCV\u001b[0m\u001b[0;34m(\u001b[0m\u001b[0mclf\u001b[0m\u001b[0;34m,\u001b[0m \u001b[0mparam_grid\u001b[0m\u001b[0;34m,\u001b[0m \u001b[0mn_jobs\u001b[0m\u001b[0;34m=\u001b[0m\u001b[0;34m-\u001b[0m\u001b[0;36m1\u001b[0m\u001b[0;34m,\u001b[0m\u001b[0mverbose\u001b[0m \u001b[0;34m=\u001b[0m \u001b[0;36m10\u001b[0m\u001b[0;34m)\u001b[0m\u001b[0;34m\u001b[0m\u001b[0m\n\u001b[0;32m---> 12\u001b[0;31m \u001b[0mgridsearch\u001b[0m \u001b[0;34m=\u001b[0m \u001b[0mgridsearch\u001b[0m\u001b[0;34m.\u001b[0m\u001b[0mfit\u001b[0m\u001b[0;34m(\u001b[0m\u001b[0mX_train\u001b[0m\u001b[0;34m,\u001b[0m \u001b[0my_train\u001b[0m\u001b[0;34m)\u001b[0m\u001b[0;34m\u001b[0m\u001b[0m\n\u001b[0m\u001b[1;32m     13\u001b[0m \u001b[0;34m\u001b[0m\u001b[0m\n\u001b[1;32m     14\u001b[0m \u001b[0mgridsearch\u001b[0m\u001b[0;34m.\u001b[0m\u001b[0mbest_score_\u001b[0m\u001b[0;34m\u001b[0m\u001b[0m\n",
      "\u001b[0;32m/Users/stenelling/Applications/anaconda/lib/python3.6/site-packages/sklearn/model_selection/_search.py\u001b[0m in \u001b[0;36mfit\u001b[0;34m(self, X, y, groups)\u001b[0m\n\u001b[1;32m    943\u001b[0m             \u001b[0mtrain\u001b[0m\u001b[0;34m/\u001b[0m\u001b[0mtest\u001b[0m \u001b[0mset\u001b[0m\u001b[0;34m.\u001b[0m\u001b[0;34m\u001b[0m\u001b[0m\n\u001b[1;32m    944\u001b[0m         \"\"\"\n\u001b[0;32m--> 945\u001b[0;31m         \u001b[0;32mreturn\u001b[0m \u001b[0mself\u001b[0m\u001b[0;34m.\u001b[0m\u001b[0m_fit\u001b[0m\u001b[0;34m(\u001b[0m\u001b[0mX\u001b[0m\u001b[0;34m,\u001b[0m \u001b[0my\u001b[0m\u001b[0;34m,\u001b[0m \u001b[0mgroups\u001b[0m\u001b[0;34m,\u001b[0m \u001b[0mParameterGrid\u001b[0m\u001b[0;34m(\u001b[0m\u001b[0mself\u001b[0m\u001b[0;34m.\u001b[0m\u001b[0mparam_grid\u001b[0m\u001b[0;34m)\u001b[0m\u001b[0;34m)\u001b[0m\u001b[0;34m\u001b[0m\u001b[0m\n\u001b[0m\u001b[1;32m    946\u001b[0m \u001b[0;34m\u001b[0m\u001b[0m\n\u001b[1;32m    947\u001b[0m \u001b[0;34m\u001b[0m\u001b[0m\n",
      "\u001b[0;32m/Users/stenelling/Applications/anaconda/lib/python3.6/site-packages/sklearn/model_selection/_search.py\u001b[0m in \u001b[0;36m_fit\u001b[0;34m(self, X, y, groups, parameter_iterable)\u001b[0m\n\u001b[1;32m    643\u001b[0m                 **best_parameters)\n\u001b[1;32m    644\u001b[0m             \u001b[0;32mif\u001b[0m \u001b[0my\u001b[0m \u001b[0;32mis\u001b[0m \u001b[0;32mnot\u001b[0m \u001b[0;32mNone\u001b[0m\u001b[0;34m:\u001b[0m\u001b[0;34m\u001b[0m\u001b[0m\n\u001b[0;32m--> 645\u001b[0;31m                 \u001b[0mbest_estimator\u001b[0m\u001b[0;34m.\u001b[0m\u001b[0mfit\u001b[0m\u001b[0;34m(\u001b[0m\u001b[0mX\u001b[0m\u001b[0;34m,\u001b[0m \u001b[0my\u001b[0m\u001b[0;34m,\u001b[0m \u001b[0;34m**\u001b[0m\u001b[0mself\u001b[0m\u001b[0;34m.\u001b[0m\u001b[0mfit_params\u001b[0m\u001b[0;34m)\u001b[0m\u001b[0;34m\u001b[0m\u001b[0m\n\u001b[0m\u001b[1;32m    646\u001b[0m             \u001b[0;32melse\u001b[0m\u001b[0;34m:\u001b[0m\u001b[0;34m\u001b[0m\u001b[0m\n\u001b[1;32m    647\u001b[0m                 \u001b[0mbest_estimator\u001b[0m\u001b[0;34m.\u001b[0m\u001b[0mfit\u001b[0m\u001b[0;34m(\u001b[0m\u001b[0mX\u001b[0m\u001b[0;34m,\u001b[0m \u001b[0;34m**\u001b[0m\u001b[0mself\u001b[0m\u001b[0;34m.\u001b[0m\u001b[0mfit_params\u001b[0m\u001b[0;34m)\u001b[0m\u001b[0;34m\u001b[0m\u001b[0m\n",
      "\u001b[0;32m/Users/stenelling/Applications/anaconda/lib/python3.6/site-packages/sklearn/ensemble/forest.py\u001b[0m in \u001b[0;36mfit\u001b[0;34m(self, X, y, sample_weight)\u001b[0m\n\u001b[1;32m    324\u001b[0m                     \u001b[0mt\u001b[0m\u001b[0;34m,\u001b[0m \u001b[0mself\u001b[0m\u001b[0;34m,\u001b[0m \u001b[0mX\u001b[0m\u001b[0;34m,\u001b[0m \u001b[0my\u001b[0m\u001b[0;34m,\u001b[0m \u001b[0msample_weight\u001b[0m\u001b[0;34m,\u001b[0m \u001b[0mi\u001b[0m\u001b[0;34m,\u001b[0m \u001b[0mlen\u001b[0m\u001b[0;34m(\u001b[0m\u001b[0mtrees\u001b[0m\u001b[0;34m)\u001b[0m\u001b[0;34m,\u001b[0m\u001b[0;34m\u001b[0m\u001b[0m\n\u001b[1;32m    325\u001b[0m                     verbose=self.verbose, class_weight=self.class_weight)\n\u001b[0;32m--> 326\u001b[0;31m                 for i, t in enumerate(trees))\n\u001b[0m\u001b[1;32m    327\u001b[0m \u001b[0;34m\u001b[0m\u001b[0m\n\u001b[1;32m    328\u001b[0m             \u001b[0;31m# Collect newly grown trees\u001b[0m\u001b[0;34m\u001b[0m\u001b[0;34m\u001b[0m\u001b[0m\n",
      "\u001b[0;32m/Users/stenelling/Applications/anaconda/lib/python3.6/site-packages/sklearn/externals/joblib/parallel.py\u001b[0m in \u001b[0;36m__call__\u001b[0;34m(self, iterable)\u001b[0m\n\u001b[1;32m    756\u001b[0m             \u001b[0;31m# was dispatched. In particular this covers the edge\u001b[0m\u001b[0;34m\u001b[0m\u001b[0;34m\u001b[0m\u001b[0m\n\u001b[1;32m    757\u001b[0m             \u001b[0;31m# case of Parallel used with an exhausted iterator.\u001b[0m\u001b[0;34m\u001b[0m\u001b[0;34m\u001b[0m\u001b[0m\n\u001b[0;32m--> 758\u001b[0;31m             \u001b[0;32mwhile\u001b[0m \u001b[0mself\u001b[0m\u001b[0;34m.\u001b[0m\u001b[0mdispatch_one_batch\u001b[0m\u001b[0;34m(\u001b[0m\u001b[0miterator\u001b[0m\u001b[0;34m)\u001b[0m\u001b[0;34m:\u001b[0m\u001b[0;34m\u001b[0m\u001b[0m\n\u001b[0m\u001b[1;32m    759\u001b[0m                 \u001b[0mself\u001b[0m\u001b[0;34m.\u001b[0m\u001b[0m_iterating\u001b[0m \u001b[0;34m=\u001b[0m \u001b[0;32mTrue\u001b[0m\u001b[0;34m\u001b[0m\u001b[0m\n\u001b[1;32m    760\u001b[0m             \u001b[0;32melse\u001b[0m\u001b[0;34m:\u001b[0m\u001b[0;34m\u001b[0m\u001b[0m\n",
      "\u001b[0;32m/Users/stenelling/Applications/anaconda/lib/python3.6/site-packages/sklearn/externals/joblib/parallel.py\u001b[0m in \u001b[0;36mdispatch_one_batch\u001b[0;34m(self, iterator)\u001b[0m\n\u001b[1;32m    606\u001b[0m                 \u001b[0;32mreturn\u001b[0m \u001b[0;32mFalse\u001b[0m\u001b[0;34m\u001b[0m\u001b[0m\n\u001b[1;32m    607\u001b[0m             \u001b[0;32melse\u001b[0m\u001b[0;34m:\u001b[0m\u001b[0;34m\u001b[0m\u001b[0m\n\u001b[0;32m--> 608\u001b[0;31m                 \u001b[0mself\u001b[0m\u001b[0;34m.\u001b[0m\u001b[0m_dispatch\u001b[0m\u001b[0;34m(\u001b[0m\u001b[0mtasks\u001b[0m\u001b[0;34m)\u001b[0m\u001b[0;34m\u001b[0m\u001b[0m\n\u001b[0m\u001b[1;32m    609\u001b[0m                 \u001b[0;32mreturn\u001b[0m \u001b[0;32mTrue\u001b[0m\u001b[0;34m\u001b[0m\u001b[0m\n\u001b[1;32m    610\u001b[0m \u001b[0;34m\u001b[0m\u001b[0m\n",
      "\u001b[0;32m/Users/stenelling/Applications/anaconda/lib/python3.6/site-packages/sklearn/externals/joblib/parallel.py\u001b[0m in \u001b[0;36m_dispatch\u001b[0;34m(self, batch)\u001b[0m\n\u001b[1;32m    569\u001b[0m         \u001b[0mdispatch_timestamp\u001b[0m \u001b[0;34m=\u001b[0m \u001b[0mtime\u001b[0m\u001b[0;34m.\u001b[0m\u001b[0mtime\u001b[0m\u001b[0;34m(\u001b[0m\u001b[0;34m)\u001b[0m\u001b[0;34m\u001b[0m\u001b[0m\n\u001b[1;32m    570\u001b[0m         \u001b[0mcb\u001b[0m \u001b[0;34m=\u001b[0m \u001b[0mBatchCompletionCallBack\u001b[0m\u001b[0;34m(\u001b[0m\u001b[0mdispatch_timestamp\u001b[0m\u001b[0;34m,\u001b[0m \u001b[0mlen\u001b[0m\u001b[0;34m(\u001b[0m\u001b[0mbatch\u001b[0m\u001b[0;34m)\u001b[0m\u001b[0;34m,\u001b[0m \u001b[0mself\u001b[0m\u001b[0;34m)\u001b[0m\u001b[0;34m\u001b[0m\u001b[0m\n\u001b[0;32m--> 571\u001b[0;31m         \u001b[0mjob\u001b[0m \u001b[0;34m=\u001b[0m \u001b[0mself\u001b[0m\u001b[0;34m.\u001b[0m\u001b[0m_backend\u001b[0m\u001b[0;34m.\u001b[0m\u001b[0mapply_async\u001b[0m\u001b[0;34m(\u001b[0m\u001b[0mbatch\u001b[0m\u001b[0;34m,\u001b[0m \u001b[0mcallback\u001b[0m\u001b[0;34m=\u001b[0m\u001b[0mcb\u001b[0m\u001b[0;34m)\u001b[0m\u001b[0;34m\u001b[0m\u001b[0m\n\u001b[0m\u001b[1;32m    572\u001b[0m         \u001b[0mself\u001b[0m\u001b[0;34m.\u001b[0m\u001b[0m_jobs\u001b[0m\u001b[0;34m.\u001b[0m\u001b[0mappend\u001b[0m\u001b[0;34m(\u001b[0m\u001b[0mjob\u001b[0m\u001b[0;34m)\u001b[0m\u001b[0;34m\u001b[0m\u001b[0m\n\u001b[1;32m    573\u001b[0m \u001b[0;34m\u001b[0m\u001b[0m\n",
      "\u001b[0;32m/Users/stenelling/Applications/anaconda/lib/python3.6/site-packages/sklearn/externals/joblib/_parallel_backends.py\u001b[0m in \u001b[0;36mapply_async\u001b[0;34m(self, func, callback)\u001b[0m\n\u001b[1;32m    107\u001b[0m     \u001b[0;32mdef\u001b[0m \u001b[0mapply_async\u001b[0m\u001b[0;34m(\u001b[0m\u001b[0mself\u001b[0m\u001b[0;34m,\u001b[0m \u001b[0mfunc\u001b[0m\u001b[0;34m,\u001b[0m \u001b[0mcallback\u001b[0m\u001b[0;34m=\u001b[0m\u001b[0;32mNone\u001b[0m\u001b[0;34m)\u001b[0m\u001b[0;34m:\u001b[0m\u001b[0;34m\u001b[0m\u001b[0m\n\u001b[1;32m    108\u001b[0m         \u001b[0;34m\"\"\"Schedule a func to be run\"\"\"\u001b[0m\u001b[0;34m\u001b[0m\u001b[0m\n\u001b[0;32m--> 109\u001b[0;31m         \u001b[0mresult\u001b[0m \u001b[0;34m=\u001b[0m \u001b[0mImmediateResult\u001b[0m\u001b[0;34m(\u001b[0m\u001b[0mfunc\u001b[0m\u001b[0;34m)\u001b[0m\u001b[0;34m\u001b[0m\u001b[0m\n\u001b[0m\u001b[1;32m    110\u001b[0m         \u001b[0;32mif\u001b[0m \u001b[0mcallback\u001b[0m\u001b[0;34m:\u001b[0m\u001b[0;34m\u001b[0m\u001b[0m\n\u001b[1;32m    111\u001b[0m             \u001b[0mcallback\u001b[0m\u001b[0;34m(\u001b[0m\u001b[0mresult\u001b[0m\u001b[0;34m)\u001b[0m\u001b[0;34m\u001b[0m\u001b[0m\n",
      "\u001b[0;32m/Users/stenelling/Applications/anaconda/lib/python3.6/site-packages/sklearn/externals/joblib/_parallel_backends.py\u001b[0m in \u001b[0;36m__init__\u001b[0;34m(self, batch)\u001b[0m\n\u001b[1;32m    324\u001b[0m         \u001b[0;31m# Don't delay the application, to avoid keeping the input\u001b[0m\u001b[0;34m\u001b[0m\u001b[0;34m\u001b[0m\u001b[0m\n\u001b[1;32m    325\u001b[0m         \u001b[0;31m# arguments in memory\u001b[0m\u001b[0;34m\u001b[0m\u001b[0;34m\u001b[0m\u001b[0m\n\u001b[0;32m--> 326\u001b[0;31m         \u001b[0mself\u001b[0m\u001b[0;34m.\u001b[0m\u001b[0mresults\u001b[0m \u001b[0;34m=\u001b[0m \u001b[0mbatch\u001b[0m\u001b[0;34m(\u001b[0m\u001b[0;34m)\u001b[0m\u001b[0;34m\u001b[0m\u001b[0m\n\u001b[0m\u001b[1;32m    327\u001b[0m \u001b[0;34m\u001b[0m\u001b[0m\n\u001b[1;32m    328\u001b[0m     \u001b[0;32mdef\u001b[0m \u001b[0mget\u001b[0m\u001b[0;34m(\u001b[0m\u001b[0mself\u001b[0m\u001b[0;34m)\u001b[0m\u001b[0;34m:\u001b[0m\u001b[0;34m\u001b[0m\u001b[0m\n",
      "\u001b[0;32m/Users/stenelling/Applications/anaconda/lib/python3.6/site-packages/sklearn/externals/joblib/parallel.py\u001b[0m in \u001b[0;36m__call__\u001b[0;34m(self)\u001b[0m\n\u001b[1;32m    129\u001b[0m \u001b[0;34m\u001b[0m\u001b[0m\n\u001b[1;32m    130\u001b[0m     \u001b[0;32mdef\u001b[0m \u001b[0m__call__\u001b[0m\u001b[0;34m(\u001b[0m\u001b[0mself\u001b[0m\u001b[0;34m)\u001b[0m\u001b[0;34m:\u001b[0m\u001b[0;34m\u001b[0m\u001b[0m\n\u001b[0;32m--> 131\u001b[0;31m         \u001b[0;32mreturn\u001b[0m \u001b[0;34m[\u001b[0m\u001b[0mfunc\u001b[0m\u001b[0;34m(\u001b[0m\u001b[0;34m*\u001b[0m\u001b[0margs\u001b[0m\u001b[0;34m,\u001b[0m \u001b[0;34m**\u001b[0m\u001b[0mkwargs\u001b[0m\u001b[0;34m)\u001b[0m \u001b[0;32mfor\u001b[0m \u001b[0mfunc\u001b[0m\u001b[0;34m,\u001b[0m \u001b[0margs\u001b[0m\u001b[0;34m,\u001b[0m \u001b[0mkwargs\u001b[0m \u001b[0;32min\u001b[0m \u001b[0mself\u001b[0m\u001b[0;34m.\u001b[0m\u001b[0mitems\u001b[0m\u001b[0;34m]\u001b[0m\u001b[0;34m\u001b[0m\u001b[0m\n\u001b[0m\u001b[1;32m    132\u001b[0m \u001b[0;34m\u001b[0m\u001b[0m\n\u001b[1;32m    133\u001b[0m     \u001b[0;32mdef\u001b[0m \u001b[0m__len__\u001b[0m\u001b[0;34m(\u001b[0m\u001b[0mself\u001b[0m\u001b[0;34m)\u001b[0m\u001b[0;34m:\u001b[0m\u001b[0;34m\u001b[0m\u001b[0m\n",
      "\u001b[0;32m/Users/stenelling/Applications/anaconda/lib/python3.6/site-packages/sklearn/externals/joblib/parallel.py\u001b[0m in \u001b[0;36m<listcomp>\u001b[0;34m(.0)\u001b[0m\n\u001b[1;32m    129\u001b[0m \u001b[0;34m\u001b[0m\u001b[0m\n\u001b[1;32m    130\u001b[0m     \u001b[0;32mdef\u001b[0m \u001b[0m__call__\u001b[0m\u001b[0;34m(\u001b[0m\u001b[0mself\u001b[0m\u001b[0;34m)\u001b[0m\u001b[0;34m:\u001b[0m\u001b[0;34m\u001b[0m\u001b[0m\n\u001b[0;32m--> 131\u001b[0;31m         \u001b[0;32mreturn\u001b[0m \u001b[0;34m[\u001b[0m\u001b[0mfunc\u001b[0m\u001b[0;34m(\u001b[0m\u001b[0;34m*\u001b[0m\u001b[0margs\u001b[0m\u001b[0;34m,\u001b[0m \u001b[0;34m**\u001b[0m\u001b[0mkwargs\u001b[0m\u001b[0;34m)\u001b[0m \u001b[0;32mfor\u001b[0m \u001b[0mfunc\u001b[0m\u001b[0;34m,\u001b[0m \u001b[0margs\u001b[0m\u001b[0;34m,\u001b[0m \u001b[0mkwargs\u001b[0m \u001b[0;32min\u001b[0m \u001b[0mself\u001b[0m\u001b[0;34m.\u001b[0m\u001b[0mitems\u001b[0m\u001b[0;34m]\u001b[0m\u001b[0;34m\u001b[0m\u001b[0m\n\u001b[0m\u001b[1;32m    132\u001b[0m \u001b[0;34m\u001b[0m\u001b[0m\n\u001b[1;32m    133\u001b[0m     \u001b[0;32mdef\u001b[0m \u001b[0m__len__\u001b[0m\u001b[0;34m(\u001b[0m\u001b[0mself\u001b[0m\u001b[0;34m)\u001b[0m\u001b[0;34m:\u001b[0m\u001b[0;34m\u001b[0m\u001b[0m\n",
      "\u001b[0;32m/Users/stenelling/Applications/anaconda/lib/python3.6/site-packages/sklearn/ensemble/forest.py\u001b[0m in \u001b[0;36m_parallel_build_trees\u001b[0;34m(tree, forest, X, y, sample_weight, tree_idx, n_trees, verbose, class_weight)\u001b[0m\n\u001b[1;32m    118\u001b[0m             \u001b[0mcurr_sample_weight\u001b[0m \u001b[0;34m*=\u001b[0m \u001b[0mcompute_sample_weight\u001b[0m\u001b[0;34m(\u001b[0m\u001b[0;34m'balanced'\u001b[0m\u001b[0;34m,\u001b[0m \u001b[0my\u001b[0m\u001b[0;34m,\u001b[0m \u001b[0mindices\u001b[0m\u001b[0;34m)\u001b[0m\u001b[0;34m\u001b[0m\u001b[0m\n\u001b[1;32m    119\u001b[0m \u001b[0;34m\u001b[0m\u001b[0m\n\u001b[0;32m--> 120\u001b[0;31m         \u001b[0mtree\u001b[0m\u001b[0;34m.\u001b[0m\u001b[0mfit\u001b[0m\u001b[0;34m(\u001b[0m\u001b[0mX\u001b[0m\u001b[0;34m,\u001b[0m \u001b[0my\u001b[0m\u001b[0;34m,\u001b[0m \u001b[0msample_weight\u001b[0m\u001b[0;34m=\u001b[0m\u001b[0mcurr_sample_weight\u001b[0m\u001b[0;34m,\u001b[0m \u001b[0mcheck_input\u001b[0m\u001b[0;34m=\u001b[0m\u001b[0;32mFalse\u001b[0m\u001b[0;34m)\u001b[0m\u001b[0;34m\u001b[0m\u001b[0m\n\u001b[0m\u001b[1;32m    121\u001b[0m     \u001b[0;32melse\u001b[0m\u001b[0;34m:\u001b[0m\u001b[0;34m\u001b[0m\u001b[0m\n\u001b[1;32m    122\u001b[0m         \u001b[0mtree\u001b[0m\u001b[0;34m.\u001b[0m\u001b[0mfit\u001b[0m\u001b[0;34m(\u001b[0m\u001b[0mX\u001b[0m\u001b[0;34m,\u001b[0m \u001b[0my\u001b[0m\u001b[0;34m,\u001b[0m \u001b[0msample_weight\u001b[0m\u001b[0;34m=\u001b[0m\u001b[0msample_weight\u001b[0m\u001b[0;34m,\u001b[0m \u001b[0mcheck_input\u001b[0m\u001b[0;34m=\u001b[0m\u001b[0;32mFalse\u001b[0m\u001b[0;34m)\u001b[0m\u001b[0;34m\u001b[0m\u001b[0m\n",
      "\u001b[0;32m/Users/stenelling/Applications/anaconda/lib/python3.6/site-packages/sklearn/tree/tree.py\u001b[0m in \u001b[0;36mfit\u001b[0;34m(self, X, y, sample_weight, check_input, X_idx_sorted)\u001b[0m\n\u001b[1;32m    737\u001b[0m             \u001b[0msample_weight\u001b[0m\u001b[0;34m=\u001b[0m\u001b[0msample_weight\u001b[0m\u001b[0;34m,\u001b[0m\u001b[0;34m\u001b[0m\u001b[0m\n\u001b[1;32m    738\u001b[0m             \u001b[0mcheck_input\u001b[0m\u001b[0;34m=\u001b[0m\u001b[0mcheck_input\u001b[0m\u001b[0;34m,\u001b[0m\u001b[0;34m\u001b[0m\u001b[0m\n\u001b[0;32m--> 739\u001b[0;31m             X_idx_sorted=X_idx_sorted)\n\u001b[0m\u001b[1;32m    740\u001b[0m         \u001b[0;32mreturn\u001b[0m \u001b[0mself\u001b[0m\u001b[0;34m\u001b[0m\u001b[0m\n\u001b[1;32m    741\u001b[0m \u001b[0;34m\u001b[0m\u001b[0m\n",
      "\u001b[0;32m/Users/stenelling/Applications/anaconda/lib/python3.6/site-packages/sklearn/tree/tree.py\u001b[0m in \u001b[0;36mfit\u001b[0;34m(self, X, y, sample_weight, check_input, X_idx_sorted)\u001b[0m\n\u001b[1;32m    348\u001b[0m                                            self.min_impurity_split)\n\u001b[1;32m    349\u001b[0m \u001b[0;34m\u001b[0m\u001b[0m\n\u001b[0;32m--> 350\u001b[0;31m         \u001b[0mbuilder\u001b[0m\u001b[0;34m.\u001b[0m\u001b[0mbuild\u001b[0m\u001b[0;34m(\u001b[0m\u001b[0mself\u001b[0m\u001b[0;34m.\u001b[0m\u001b[0mtree_\u001b[0m\u001b[0;34m,\u001b[0m \u001b[0mX\u001b[0m\u001b[0;34m,\u001b[0m \u001b[0my\u001b[0m\u001b[0;34m,\u001b[0m \u001b[0msample_weight\u001b[0m\u001b[0;34m,\u001b[0m \u001b[0mX_idx_sorted\u001b[0m\u001b[0;34m)\u001b[0m\u001b[0;34m\u001b[0m\u001b[0m\n\u001b[0m\u001b[1;32m    351\u001b[0m \u001b[0;34m\u001b[0m\u001b[0m\n\u001b[1;32m    352\u001b[0m         \u001b[0;32mif\u001b[0m \u001b[0mself\u001b[0m\u001b[0;34m.\u001b[0m\u001b[0mn_outputs_\u001b[0m \u001b[0;34m==\u001b[0m \u001b[0;36m1\u001b[0m\u001b[0;34m:\u001b[0m\u001b[0;34m\u001b[0m\u001b[0m\n",
      "\u001b[0;31mKeyboardInterrupt\u001b[0m: "
     ]
    }
   ],
   "source": [
    "from sklearn.model_selection import GridSearchCV\n",
    "# Creat a random forest varible\n",
    "randomforest = RandomForestClassifier()\n",
    "#Values for test of depth and number of forest\n",
    "param_grid = {\"max_depth\": range(100,300,50),\n",
    "             \"n_estimators\": range(10,230,30)}\n",
    "\n",
    "# Performing the GridSearch, GridSearchCV implements a “fit” and a “score” method. It test the diffrent values for \n",
    "# depth and number of forest by calculating the accuracyscore which it get for comparing the estimate against the\n",
    "# true values, for this case the values are the diffrent categories. We have commented out the code for the grid search\n",
    "# because of the long runing time.\n",
    "\n",
    "#gridsearch = GridSearchCV(randomforest, param_grid, n_jobs=-1,verbose = 10) \n",
    "#gridsearch = gridsearch.fit(X_train, y_train)\n",
    "\n",
    "# Get the best score and respective paramters.\n",
    "#gridsearch.best_score_\n",
    "#gridsearch.best_params_"
   ]
  },
  {
   "cell_type": "code",
   "execution_count": 245,
   "metadata": {},
   "outputs": [],
   "source": [
    "# We got the best accuracy (0.0848575) for max_depth=100, n_estimators=220, score=0.848575 and \n",
    "#max_depth=150, n_estimators=190, score=0.848575\n",
    "best_n_trees = 190\n",
    "best_depth = 150"
   ]
  },
  {
   "cell_type": "markdown",
   "metadata": {},
   "source": [
    "Now we plot the confusion matrix. "
   ]
  },
  {
   "cell_type": "code",
   "execution_count": 172,
   "metadata": {},
   "outputs": [
    {
     "ename": "NameError",
     "evalue": "name 'class_names' is not defined",
     "output_type": "error",
     "traceback": [
      "\u001b[0;31m---------------------------------------------------------------------------\u001b[0m",
      "\u001b[0;31mNameError\u001b[0m                                 Traceback (most recent call last)",
      "\u001b[0;32m<ipython-input-172-bb28431cc108>\u001b[0m in \u001b[0;36m<module>\u001b[0;34m()\u001b[0m\n\u001b[1;32m     42\u001b[0m \u001b[0;31m# Plot non-normalized confusion matrix\u001b[0m\u001b[0;34m\u001b[0m\u001b[0;34m\u001b[0m\u001b[0m\n\u001b[1;32m     43\u001b[0m \u001b[0mplt\u001b[0m\u001b[0;34m.\u001b[0m\u001b[0mfigure\u001b[0m\u001b[0;34m(\u001b[0m\u001b[0;34m)\u001b[0m\u001b[0;34m\u001b[0m\u001b[0m\n\u001b[0;32m---> 44\u001b[0;31m plot_confusion_matrix(cnf_matrix, classes=class_names,\n\u001b[0m\u001b[1;32m     45\u001b[0m                       title='Confusion matrix, without normalization')\n\u001b[1;32m     46\u001b[0m \u001b[0;34m\u001b[0m\u001b[0m\n",
      "\u001b[0;31mNameError\u001b[0m: name 'class_names' is not defined"
     ]
    },
    {
     "data": {
      "text/plain": [
       "<matplotlib.figure.Figure at 0x1466db748>"
      ]
     },
     "metadata": {},
     "output_type": "display_data"
    }
   ],
   "source": [
    "\n",
    "#This plot the confusion Matrix\n",
    "# Taken from http://scikit-learn.org/stable/auto_examples/model_selection/plot_confusion_matrix.html\n",
    "def plot_confusion_matrix(cm, classes,\n",
    "                          normalize=False,\n",
    "                          title='Confusion matrix',\n",
    "                          cmap=plt.cm.Blues):\n",
    "    \"\"\"\n",
    "    This function prints and plots the confusion matrix.\n",
    "    Normalization can be applied by setting `normalize=True`.\n",
    "    \"\"\"\n",
    "    if normalize:\n",
    "        cm = cm.astype('float') / cm.sum(axis=1)[:, np.newaxis]\n",
    "        print(\"Normalized confusion matrix\")\n",
    "    else:\n",
    "        print('Confusion matrix, without normalization')\n",
    "\n",
    "    #print(cm)\n",
    "\n",
    "    plt.imshow(cm, interpolation='nearest', cmap=cmap)\n",
    "    plt.title(title)\n",
    "    plt.colorbar()\n",
    "    tick_marks = np.arange(len(classes))\n",
    "    plt.xticks(tick_marks, classes, rotation=90)\n",
    "    plt.yticks(tick_marks, classes)\n",
    "\n",
    "    fmt = '.2f' if normalize else 'd'\n",
    "    thresh = cm.max() / 2.\n",
    "    for i, j in itertools.product(range(cm.shape[0]), range(cm.shape[1])):\n",
    "        plt.text(j, i, format(cm[i, j], fmt),\n",
    "                 horizontalalignment=\"center\",\n",
    "                 color=\"white\" if cm[i, j] > thresh else \"black\")\n",
    "\n",
    "    plt.tight_layout()\n",
    "    plt.ylabel('True label')\n",
    "    plt.xlabel('Predicted label')\n",
    "\n",
    "# Compute confusion matrix\n",
    "cnf_matrix = confusion_matrix(y_test, y_pred)\n",
    "np.set_printoptions(precision=2)\n",
    "\n",
    "# Plot non-normalized confusion matrix\n",
    "plt.figure()\n",
    "plot_confusion_matrix(cnf_matrix, classes=class_names,\n",
    "                      title='Confusion matrix, without normalization')\n",
    "\n",
    "# Plot normalized confusion matrix\n",
    "plt.figure()\n",
    "plot_confusion_matrix(cnf_matrix, classes=class_names, normalize=True,\n",
    "                      title='Normalized confusion matrix')\n",
    "\n",
    "plt.show()"
   ]
  },
  {
   "cell_type": "code",
   "execution_count": 246,
   "metadata": {
    "collapsed": true
   },
   "outputs": [],
   "source": [
    "#Creat a random forest with the best values\n",
    "randomforest_best= RandomForestClassifier(max_depth=best_depth, n_estimators=best_n_trees, n_jobs=-1)\n",
    "#Train the model\n",
    "randomforest_best.fit(X_training, y_training)\n",
    "# Do a test of the model on the test set\n",
    "y_pred = randomforest_best.predict(X_test)"
   ]
  },
  {
   "cell_type": "code",
   "execution_count": 247,
   "metadata": {},
   "outputs": [
    {
     "name": "stdout",
     "output_type": "stream",
     "text": [
      "Normalized confusion matrix\n"
     ]
    },
    {
     "data": {
      "image/png": "[encoded data removed]",
      "text/plain": [
       "<matplotlib.figure.Figure at 0x28205f748>"
      ]
     },
     "metadata": {},
     "output_type": "display_data"
    }
   ],
   "source": [
    "\n",
    "#Calculate the confusion matrix\n",
    "cm = confusion_matrix(y_test, y_pred)\n",
    "plt.figure(figsize=(10,10),dpi=100)\n",
    "# Plot the confusion Matrix\n",
    "plot_confusion_matrix(cm,classes=newsgroups_20.target_names,normalize = True)\n",
    "plt.show()"
   ]
  },
  {
   "cell_type": "markdown",
   "metadata": {},
   "source": [
    "Looking a the confusion matrix tells ous that the prediction is very good for most categories except for talk.religion, sci.electronics and talk.politics. Why these prediction are bad, especially talk.religion, is probobly because they are familiar to other categories like religion will be metioned in christian, politics etc. "
   ]
  },
  {
   "cell_type": "markdown",
   "metadata": {},
   "source": [
    "# Feature Importance\n"
   ]
  },
  {
   "cell_type": "code",
   "execution_count": 264,
   "metadata": {},
   "outputs": [
    {
     "data": {
      "text/html": [
       "<div>\n",
       "<style>\n",
       "    .dataframe thead tr:only-child th {\n",
       "        text-align: right;\n",
       "    }\n",
       "\n",
       "    .dataframe thead th {\n",
       "        text-align: left;\n",
       "    }\n",
       "\n",
       "    .dataframe tbody tr th {\n",
       "        vertical-align: top;\n",
       "    }\n",
       "</style>\n",
       "<table border=\"1\" class=\"dataframe\">\n",
       "  <thead>\n",
       "    <tr style=\"text-align: right;\">\n",
       "      <th></th>\n",
       "      <th>Importance</th>\n",
       "      <th>Value</th>\n",
       "    </tr>\n",
       "  </thead>\n",
       "  <tbody>\n",
       "    <tr>\n",
       "      <th>0</th>\n",
       "      <td>0.013103</td>\n",
       "      <td>windows</td>\n",
       "    </tr>\n",
       "    <tr>\n",
       "      <th>1</th>\n",
       "      <td>0.013054</td>\n",
       "      <td>sale</td>\n",
       "    </tr>\n",
       "    <tr>\n",
       "      <th>2</th>\n",
       "      <td>0.012778</td>\n",
       "      <td>dod</td>\n",
       "    </tr>\n",
       "    <tr>\n",
       "      <th>5</th>\n",
       "      <td>0.011541</td>\n",
       "      <td>car</td>\n",
       "    </tr>\n",
       "    <tr>\n",
       "      <th>4</th>\n",
       "      <td>0.009783</td>\n",
       "      <td>bike</td>\n",
       "    </tr>\n",
       "  </tbody>\n",
       "</table>\n",
       "</div>"
      ],
      "text/plain": [
       "   Importance    Value\n",
       "0    0.013103  windows\n",
       "1    0.013054     sale\n",
       "2    0.012778      dod\n",
       "5    0.011541      car\n",
       "4    0.009783     bike"
      ]
     },
     "execution_count": 264,
     "metadata": {},
     "output_type": "execute_result"
    }
   ],
   "source": [
    "feature = pd.DataFrame(randomforest_best.feature_importances_, columns=['Importance']) \n",
    "\n",
    "feature['Value'] = tf_idf.get_feature_names() \n",
    "\n",
    "feature = feature.sort_values('Importance', ascending=False)\n",
    "feature.head()"
   ]
  },
  {
   "cell_type": "code",
   "execution_count": 272,
   "metadata": {},
   "outputs": [
    {
     "data": {
      "image/png": "[encoded data removed]",
      "text/plain": [
       "<matplotlib.figure.Figure at 0x329e7ada0>"
      ]
     },
     "metadata": {},
     "output_type": "display_data"
    }
   ],
   "source": [
    "plt.hist(feature.Importance, bins=100)\n",
    "plt.show()"
   ]
  },
  {
   "cell_type": "markdown",
   "metadata": {},
   "source": [
    "The plot show that there are only a few features that have a high importance. So by choosing these features and only train on them would probably achive the same results but with much less calculation power. Let's calculate the accuracy for the top 2500 features."
   ]
  },
  {
   "cell_type": "code",
   "execution_count": 268,
   "metadata": {},
   "outputs": [
    {
     "data": {
      "text/plain": [
       "0    windows\n",
       "1       sale\n",
       "2        dod\n",
       "5        car\n",
       "4       bike\n",
       "Name: Value, dtype: object"
      ]
     },
     "execution_count": 268,
     "metadata": {},
     "output_type": "execute_result"
    }
   ],
   "source": [
    "words = feature.Value.head(2500)\n",
    "words.head()"
   ]
  },
  {
   "cell_type": "code",
   "execution_count": 257,
   "metadata": {},
   "outputs": [
    {
     "name": "stdout",
     "output_type": "stream",
     "text": [
      "0.806896551724\n"
     ]
    }
   ],
   "source": [
    "# Do a Tf-idf veactorizer with the 2500 most importand features\n",
    "tf_idf = TfidfVectorizer(vocabulary=words)\n",
    "tf_idf_results = tf_idf.fit_transform(newsgroups_20.data)\n",
    "\n",
    "X = tf_idf_results\n",
    "y = newsgroups_20_dataframe.Categories\n",
    "# Creat a train set, a validation set and a test set\n",
    "X_training, X_test, y_training, y_test = train_test_split(X, y, test_size=0.1, random_state=42)\n",
    "\n",
    "#Creat a random forest with the best values\n",
    "randomforest_best= RandomForestClassifier(max_depth=best_depth, n_estimators=best_n_trees, n_jobs=-1)\n",
    "#Train the model\n",
    "randomforest_best.fit(X_training, y_training)\n",
    "# Do a test of the model on the test set\n",
    "y_pred = randomforest_best.predict(X_test)\n",
    "\n",
    "print(accuracy_score(y_pred, y_test))"
   ]
  },
  {
   "cell_type": "markdown",
   "metadata": {},
   "source": [
    "The accuracy for calculation with the top 2500 features is 0.8068965 compared to 0.0848575, which is pretty good.  By taking the only the first 2500 features we get a similar reasults but the calculation time is less. "
   ]
  }
 ],
 "metadata": {
  "kernelspec": {
   "display_name": "Python 3",
   "language": "python",
   "name": "python3"
  },
  "language_info": {
   "codemirror_mode": {
    "name": "ipython",
    "version": 3
   },
   "file_extension": ".py",
   "mimetype": "text/x-python",
   "name": "python",
   "nbconvert_exporter": "python",
   "pygments_lexer": "ipython3",
   "version": "3.6.1"
  }
 },
 "nbformat": 4,
 "nbformat_minor": 2
}
