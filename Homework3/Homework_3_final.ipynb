{
 "cells": [
  {
   "cell_type": "markdown",
   "metadata": {},
   "source": [
    "# Homework 3"
   ]
  },
  {
   "cell_type": "markdown",
   "metadata": {},
   "source": [
    "### Preliminaries"
   ]
  },
  {
   "cell_type": "code",
   "execution_count": 1,
   "metadata": {
    "collapsed": true
   },
   "outputs": [],
   "source": [
    "import os\n",
    "import pandas as pd\n",
    "import json\n",
    "import folium\n",
    "import seaborn\n",
    "import matplotlib.pyplot as plt\n",
    "from branca.colormap import linear\n",
    "import branca.colormap as cm\n",
    "from IPython.display import HTML\n"
   ]
  },
  {
   "cell_type": "markdown",
   "metadata": {},
   "source": [
    "## Task 1\n",
    "\n",
    "Go to the eurostat website and try to find a dataset that includes the european unemployment rates at a recent date.\n",
    "\n",
    "Use this data to build a Choropleth map which shows the unemployment rate in Europe at a country level. Think about the colors you use, how you decided to split the intervals into data classes or which interactions you could add in order to make the visualization intuitive and expressive. Compare Switzerland's unemployment rate to that of the rest of Europe."
   ]
  },
  {
   "cell_type": "markdown",
   "metadata": {},
   "source": [
    "### Assumptions:\n",
    "Since we could not find data for all European countries that are listed in the europe.topojson.json file we added them manually and set the the value for the unemployment rate to -1 so that they could be easily distinguish in the choropleth map.\n",
    "On the eurostat website we could choose different definitions for the unemployment rate:\n",
    "Percentage of active population\n",
    "Percentage of total population\n",
    "We choosed the first one since it is more interestign to know how many unemployed there is compared to the total amount of people that are able to work. The second ratio could be skewed for countries with high numbers of children, lower retirement ages or higher life expectancies.\n",
    "\n",
    "We use the data are from 2016 as we want to avoid sensitivity to seasona variations."
   ]
  },
  {
   "cell_type": "code",
   "execution_count": 2,
   "metadata": {
    "collapsed": true,
    "scrolled": false
   },
   "outputs": [],
   "source": [
    "#We load the json file from it's path\n",
    "eu_geo = os.path.join('', 'topojson/europe.topojson.json')\n",
    "eu_geo_json = json.load(open(eu_geo))\n",
    "#Read the csv file over unemployment data from eurostat and save in a dataframe.\n",
    "eu_unemployment = os.path.join('', 'eurostat.csv')\n",
    "eu_data = pd.read_csv(eu_unemployment)\n",
    "# Keep only the interesting coulmns\n",
    "eu_data = eu_data[['GEO', 'Value']]\n",
    "# Get dictionarie in the json file that are of intrest: country id, name etc.\n",
    "info =eu_geo_json['objects']['europe']['geometries']\n",
    "\n",
    "name = pd.DataFrame({'id':[],\n",
    "                    'Name':[]})\n",
    "series = []\n",
    "series1 = []\n",
    "# Get the id and name of the countries in the json file and save to a dataframe\n",
    "for a in info:\n",
    "    series.append(a['id'])\n",
    "    series1.append(a['properties'])\n",
    "name.id = series \n",
    "name.Name = series1\n",
    "\n",
    "#There are two id that differ in the two dataframe(Greece and Great Britain) and therefore we change the on in the \n",
    "#eurostat file so that is the same as in the json file.\n",
    "eu_data.loc[27,'GEO'] = 'GB'\n",
    "eu_data.loc[7,'GEO'] = 'GR'\n",
    "#Add the missing countries to the dataframe over unemployment ration and set the ratio to -1 so that is easily \n",
    "#distinguishable. Since we are supposed to compare the Swiss data with the other european countries we ad the data for \n",
    "# Switzerland manully. We found from amstat that the unemployment ratio for Switzerland 2016 is 4.7 %.\n",
    "eu_data.columns = ['id','Unemployment_rate']\n",
    "data = pd.DataFrame({'id':['CH','AZ','AL','AM','BA','GE','IL','BY','LI','MK','FO','AD','MC','ME','MD','UA',\n",
    "                           'SM','RS','VA','RU'],\n",
    "                     'Unemployment_rate':[4.7,-1,-1,-1,-1,-1,-1,-1,-1,-1,-1,-1,-1,-1,-1,-1,-1,-1,-1,-1]})\n",
    "\n",
    "eu_data = eu_data.append(data)\n",
    "eu_data = eu_data.sort_values(by = 'Unemployment_rate')\n"
   ]
  },
  {
   "cell_type": "code",
   "execution_count": 3,
   "metadata": {},
   "outputs": [
    {
     "data": {
      "text/html": [
       "<iframe src=./european_map.html width=1000 height=500></iframe>"
      ],
      "text/plain": [
       "<IPython.core.display.HTML object>"
      ]
     },
     "execution_count": 3,
     "metadata": {},
     "output_type": "execute_result"
    }
   ],
   "source": [
    "#Creat a folium map\n",
    "eu_map = folium.Map(location=[46.519962, 6.633597], zoom_start=3)\n",
    "# We choosed to use colormap as our choropleth plot, we choose white for the countries that has no data over \n",
    "# the unemployment ratio and the a graded scale from light red to darker red and then blue.\n",
    "d1 = ['white','red','violet','orange','indigo','yellow','blue']\n",
    "d2 =['white','yellow','orange','red','purple','blue']\n",
    "linear = cm.LinearColormap(d2, vmin=-1, vmax=23)\n",
    "linear = linear.to_step(n=100,data = [-1,0,1,2,3,4,5,6,7,8,9, 10, 11, 12.9, 19, 23],method='quantiles',round_method='int')\n",
    "\n",
    "linear.caption = 'Unemployment rate'\n",
    "\n",
    "eu_dict = eu_data.set_index('id')['Unemployment_rate']\n",
    "\n",
    "eu_map = folium.Map([46.519962, 6.633597], tiles='cartodbpositron', zoom_start=3)\n",
    "\n",
    "folium.TopoJson( open('topojson/europe.topojson.json'),\n",
    "                 'objects.europe',\n",
    "                style_function=lambda feature: {\n",
    "        'fillColor':linear(eu_dict[feature['id']]),\n",
    "        'color' : 'black',\n",
    "        'weight' : 2,\n",
    "        'dashArray' : '5, 5'\n",
    "        }\n",
    "    ).add_to(eu_map)\n",
    "linear.add_to(eu_map)\n",
    "\n",
    "eu_map.save('european_map.html')\n",
    "HTML('<iframe src=./european_map.html width=1000 height=500></iframe>')\n"
   ]
  },
  {
   "cell_type": "markdown",
   "metadata": {},
   "source": [
    "### Discussion\n",
    "\n",
    "We choosed to split  colorplot into small intervals. The countries with now data are marked as white and then we have a spilt the dataclasses into diffrent intervals where the value of the diffrent colors are stated. The colors change from more light to darker as the unemployment rate increases. \n",
    "\n",
    "If we compare the Swiss unemployment data to the rest of Europe we find that it is similar to the northern countries which is as expected since the have similar economies and wealth."
   ]
  },
  {
   "cell_type": "markdown",
   "metadata": {},
   "source": [
    "## Task 2\n",
    "Go to the amstat website (https://www.amstat.ch/v2/index.jsp) to find a dataset that includes the unemployment rates in Switzerland at a recent date.\n",
    "\n",
    "Use this data to build another Choropleth map, this time showing the unemployment rate at the level of swiss cantons. Again, try to make the map as expressive as possible, and comment on the trends you observe.\n",
    "\n",
    "The Swiss Confederation defines the rates you have just plotted as the number of people looking for a job divided by the size of the active population (scaled by 100). This is surely a valid choice, but as we discussed one could argue for a different categorization.\n",
    "\n",
    "Copy the map you have just created, but this time don't count in your statistics people who already have a job and are looking for a new one. How do your observations change ? You can repeat this with different choices of categories to see how selecting different metrics can lead to different interpretations of the same data."
   ]
  },
  {
   "cell_type": "markdown",
   "metadata": {},
   "source": [
    "## Our analysis for Task 2\n",
    "    \n",
    "On the amstat website (https://www.amstat.ch/v2/index.jsp) one can actually find various different unemployment rates. In the folowing JS stands for jobseekers (people looking for a job who are unemployed or employed) and UE stands for unemployed people (people out of work who are seeking a job).\n",
    "\n",
    "In order to complete the above task and perform a comparison we will analyse the total numbers and rates for JS and UE. We take the rates directly from suitable data sets provided by Amstat, rather than inferring them. "
   ]
  },
  {
   "cell_type": "markdown",
   "metadata": {},
   "source": [
    "#### A dictionary for the canton_id\n",
    "\n",
    "We start by creating a dictionary that links the canton's name to the ID used inside the ch_canton topojson file. The order is taken directly from the topojson file. This allows us to link our data correctly to the map."
   ]
  },
  {
   "cell_type": "code",
   "execution_count": 4,
   "metadata": {
    "collapsed": true
   },
   "outputs": [],
   "source": [
    "canton_id = {\"Zuerich\" : \"ZH\", \n",
    "    \"Bern\" : \"BE\", \n",
    "    \"Luzern\" : \"LU\", \n",
    "    \"Uri\" : \"UR\", \n",
    "    \"Schwyz\" : \"SZ\", \n",
    "    \"Obwalden\" : \"OW\", \n",
    "    \"Nidwalden\" : \"NW\", \n",
    "    \"Glarus\" : \"GL\", \n",
    "    \"Zug\" : \"ZG\", \n",
    "    \"Freiburg\" : \"FR\", \n",
    "    \"Solothurn\" : \"SO\", \n",
    "    \"Basel-Stadt\" : \"BS\", \n",
    "    \"Basel-Landschaft\" : \"BL\", \n",
    "    \"Schaffhausen\" : \"SH\", \n",
    "    \"Appenzell Ausserrhoden\" : \"AR\", \n",
    "    \"Appenzell Innerrhoden\" : \"AI\", \n",
    "    \"St. Gallen\" : \"SG\", \n",
    "    \"Graubuenden\" : \"GR\", \n",
    "    \"Aargau\" : \"AG\", \n",
    "    \"Thurgau\" : \"TG\", \n",
    "    \"Tessin\" : \"TI\", \n",
    "    \"Waadt\" : \"VD\", \n",
    "    \"Wallis\" : \"VS\", \n",
    "    \"Neuenburg\" : \"NE\", \n",
    "    \"Genf\" : \"GE\", \n",
    "    \"Jura\" : \"JU\"}"
   ]
  },
  {
   "cell_type": "markdown",
   "metadata": {},
   "source": [
    "#### Creating the data frame\n",
    "\n",
    "We read our data into a data frame, select approriate columns, translate names and add additional columns (jobseekers rate and the portion of unemployed amongst the jobseekers)."
   ]
  },
  {
   "cell_type": "code",
   "execution_count": 5,
   "metadata": {
    "collapsed": true
   },
   "outputs": [],
   "source": [
    "mb2 = pd.read_csv(\"monthly_unemployment_no_umlaut.csv\", header = [1,3] )\n",
    "# Isolating the total numbers (sum of monthly rates)\n",
    "mb2 = mb2['Kanton'].merge(mb2['Gesamt'], left_index = True, right_index = True)\n",
    "# Translating the column names\n",
    "mb2.columns = ['Canton', 'UE_rate', 'registered_UE', 'registered_JS', 'JS_with_work']\n",
    "# Adding a column with the canton_id for each canton\n",
    "mb2['Canton_id'] = mb2['Canton'].map(canton_id)\n",
    "# Reducing the data frame to the columns we use later\n",
    "mb2 = mb2[['Canton', 'Canton_id', 'UE_rate', 'registered_UE', 'registered_JS']]\n",
    "\n",
    "# Note our columns still display the annual sums of monthly values.\n",
    "# We create monthly averages and round them to the closest integer.\n",
    "mb2[['registered_UE', 'registered_JS']] = mb2[['registered_UE', 'registered_JS']]/12\n",
    "mb2 = mb2.round({'registered_UE':0, 'registered_JS':0})\n",
    "mb2.registered_UE = mb2.registered_UE.astype(int)\n",
    "mb2.registered_JS = mb2.registered_JS.astype(int)"
   ]
  },
  {
   "cell_type": "markdown",
   "metadata": {},
   "source": [
    "#### 2 different statistics\n",
    "\n",
    "In task 2 it was observed that there are different statistics. Here we ahve been looking at two. One takes into account all people seeking a job (JS), while the other only considers people who are unemployed (UE). The job seeker data counts people who are working while looking for a job. The discrepancies between UE and JS vary from canton to canton. \n",
    "\n",
    "In order to gain a better insight we look at the proportion of job seekers in each canton who are actually unemployed. We then rank the cantons in descening order according to this proportion."
   ]
  },
  {
   "cell_type": "code",
   "execution_count": 6,
   "metadata": {},
   "outputs": [
    {
     "data": {
      "text/html": [
       "<div>\n",
       "<style>\n",
       "    .dataframe thead tr:only-child th {\n",
       "        text-align: right;\n",
       "    }\n",
       "\n",
       "    .dataframe thead th {\n",
       "        text-align: left;\n",
       "    }\n",
       "\n",
       "    .dataframe tbody tr th {\n",
       "        vertical-align: top;\n",
       "    }\n",
       "</style>\n",
       "<table border=\"1\" class=\"dataframe\">\n",
       "  <thead>\n",
       "    <tr style=\"text-align: right;\">\n",
       "      <th></th>\n",
       "      <th>Canton</th>\n",
       "      <th>Canton_id</th>\n",
       "      <th>registered_UE</th>\n",
       "      <th>UE_rate</th>\n",
       "      <th>registered_JS</th>\n",
       "      <th>JS_rate</th>\n",
       "      <th>UE_percentage</th>\n",
       "    </tr>\n",
       "  </thead>\n",
       "  <tbody>\n",
       "    <tr>\n",
       "      <th>0</th>\n",
       "      <td>Zuerich</td>\n",
       "      <td>ZH</td>\n",
       "      <td>30084</td>\n",
       "      <td>3.7</td>\n",
       "      <td>36786</td>\n",
       "      <td>4.5</td>\n",
       "      <td>82</td>\n",
       "    </tr>\n",
       "    <tr>\n",
       "      <th>24</th>\n",
       "      <td>Genf</td>\n",
       "      <td>GE</td>\n",
       "      <td>12965</td>\n",
       "      <td>5.5</td>\n",
       "      <td>16593</td>\n",
       "      <td>7.0</td>\n",
       "      <td>78</td>\n",
       "    </tr>\n",
       "    <tr>\n",
       "      <th>12</th>\n",
       "      <td>Basel-Landschaft</td>\n",
       "      <td>BL</td>\n",
       "      <td>4445</td>\n",
       "      <td>3.0</td>\n",
       "      <td>5859</td>\n",
       "      <td>4.0</td>\n",
       "      <td>76</td>\n",
       "    </tr>\n",
       "    <tr>\n",
       "      <th>1</th>\n",
       "      <td>Bern</td>\n",
       "      <td>BE</td>\n",
       "      <td>15283</td>\n",
       "      <td>2.7</td>\n",
       "      <td>20084</td>\n",
       "      <td>3.5</td>\n",
       "      <td>76</td>\n",
       "    </tr>\n",
       "    <tr>\n",
       "      <th>23</th>\n",
       "      <td>Neuenburg</td>\n",
       "      <td>NE</td>\n",
       "      <td>5365</td>\n",
       "      <td>5.8</td>\n",
       "      <td>7170</td>\n",
       "      <td>7.8</td>\n",
       "      <td>75</td>\n",
       "    </tr>\n",
       "    <tr>\n",
       "      <th>18</th>\n",
       "      <td>Aargau</td>\n",
       "      <td>AG</td>\n",
       "      <td>11484</td>\n",
       "      <td>3.2</td>\n",
       "      <td>15976</td>\n",
       "      <td>4.5</td>\n",
       "      <td>72</td>\n",
       "    </tr>\n",
       "    <tr>\n",
       "      <th>21</th>\n",
       "      <td>Waadt</td>\n",
       "      <td>VD</td>\n",
       "      <td>18741</td>\n",
       "      <td>4.7</td>\n",
       "      <td>26238</td>\n",
       "      <td>6.6</td>\n",
       "      <td>71</td>\n",
       "    </tr>\n",
       "    <tr>\n",
       "      <th>26</th>\n",
       "      <td>Gesamt</td>\n",
       "      <td>NaN</td>\n",
       "      <td>149317</td>\n",
       "      <td>3.3</td>\n",
       "      <td>211097</td>\n",
       "      <td>4.7</td>\n",
       "      <td>71</td>\n",
       "    </tr>\n",
       "    <tr>\n",
       "      <th>11</th>\n",
       "      <td>Basel-Stadt</td>\n",
       "      <td>BS</td>\n",
       "      <td>3832</td>\n",
       "      <td>3.9</td>\n",
       "      <td>5502</td>\n",
       "      <td>5.6</td>\n",
       "      <td>70</td>\n",
       "    </tr>\n",
       "    <tr>\n",
       "      <th>25</th>\n",
       "      <td>Jura</td>\n",
       "      <td>JU</td>\n",
       "      <td>1695</td>\n",
       "      <td>4.6</td>\n",
       "      <td>2415</td>\n",
       "      <td>6.6</td>\n",
       "      <td>70</td>\n",
       "    </tr>\n",
       "    <tr>\n",
       "      <th>15</th>\n",
       "      <td>Appenzell Innerrhoden</td>\n",
       "      <td>AI</td>\n",
       "      <td>98</td>\n",
       "      <td>1.1</td>\n",
       "      <td>142</td>\n",
       "      <td>1.6</td>\n",
       "      <td>69</td>\n",
       "    </tr>\n",
       "    <tr>\n",
       "      <th>4</th>\n",
       "      <td>Schwyz</td>\n",
       "      <td>SZ</td>\n",
       "      <td>1537</td>\n",
       "      <td>1.8</td>\n",
       "      <td>2290</td>\n",
       "      <td>2.7</td>\n",
       "      <td>67</td>\n",
       "    </tr>\n",
       "    <tr>\n",
       "      <th>22</th>\n",
       "      <td>Wallis</td>\n",
       "      <td>VS</td>\n",
       "      <td>6873</td>\n",
       "      <td>3.9</td>\n",
       "      <td>10577</td>\n",
       "      <td>6.0</td>\n",
       "      <td>65</td>\n",
       "    </tr>\n",
       "    <tr>\n",
       "      <th>10</th>\n",
       "      <td>Solothurn</td>\n",
       "      <td>SO</td>\n",
       "      <td>4315</td>\n",
       "      <td>3.0</td>\n",
       "      <td>6874</td>\n",
       "      <td>4.8</td>\n",
       "      <td>63</td>\n",
       "    </tr>\n",
       "    <tr>\n",
       "      <th>7</th>\n",
       "      <td>Glarus</td>\n",
       "      <td>GL</td>\n",
       "      <td>531</td>\n",
       "      <td>2.4</td>\n",
       "      <td>847</td>\n",
       "      <td>3.8</td>\n",
       "      <td>63</td>\n",
       "    </tr>\n",
       "    <tr>\n",
       "      <th>20</th>\n",
       "      <td>Tessin</td>\n",
       "      <td>TI</td>\n",
       "      <td>5877</td>\n",
       "      <td>3.5</td>\n",
       "      <td>9359</td>\n",
       "      <td>5.6</td>\n",
       "      <td>63</td>\n",
       "    </tr>\n",
       "    <tr>\n",
       "      <th>2</th>\n",
       "      <td>Luzern</td>\n",
       "      <td>LU</td>\n",
       "      <td>4602</td>\n",
       "      <td>2.1</td>\n",
       "      <td>7467</td>\n",
       "      <td>3.4</td>\n",
       "      <td>62</td>\n",
       "    </tr>\n",
       "    <tr>\n",
       "      <th>19</th>\n",
       "      <td>Thurgau</td>\n",
       "      <td>TG</td>\n",
       "      <td>3794</td>\n",
       "      <td>2.5</td>\n",
       "      <td>6145</td>\n",
       "      <td>4.0</td>\n",
       "      <td>62</td>\n",
       "    </tr>\n",
       "    <tr>\n",
       "      <th>8</th>\n",
       "      <td>Zug</td>\n",
       "      <td>ZG</td>\n",
       "      <td>1603</td>\n",
       "      <td>2.4</td>\n",
       "      <td>2654</td>\n",
       "      <td>4.0</td>\n",
       "      <td>60</td>\n",
       "    </tr>\n",
       "    <tr>\n",
       "      <th>16</th>\n",
       "      <td>St. Gallen</td>\n",
       "      <td>SG</td>\n",
       "      <td>6976</td>\n",
       "      <td>2.5</td>\n",
       "      <td>11549</td>\n",
       "      <td>4.1</td>\n",
       "      <td>60</td>\n",
       "    </tr>\n",
       "    <tr>\n",
       "      <th>14</th>\n",
       "      <td>Appenzell Ausserrhoden</td>\n",
       "      <td>AR</td>\n",
       "      <td>558</td>\n",
       "      <td>1.8</td>\n",
       "      <td>952</td>\n",
       "      <td>3.1</td>\n",
       "      <td>59</td>\n",
       "    </tr>\n",
       "    <tr>\n",
       "      <th>5</th>\n",
       "      <td>Obwalden</td>\n",
       "      <td>OW</td>\n",
       "      <td>213</td>\n",
       "      <td>1.0</td>\n",
       "      <td>376</td>\n",
       "      <td>1.8</td>\n",
       "      <td>57</td>\n",
       "    </tr>\n",
       "    <tr>\n",
       "      <th>3</th>\n",
       "      <td>Uri</td>\n",
       "      <td>UR</td>\n",
       "      <td>202</td>\n",
       "      <td>1.0</td>\n",
       "      <td>363</td>\n",
       "      <td>1.8</td>\n",
       "      <td>56</td>\n",
       "    </tr>\n",
       "    <tr>\n",
       "      <th>13</th>\n",
       "      <td>Schaffhausen</td>\n",
       "      <td>SH</td>\n",
       "      <td>1438</td>\n",
       "      <td>3.3</td>\n",
       "      <td>2566</td>\n",
       "      <td>5.9</td>\n",
       "      <td>56</td>\n",
       "    </tr>\n",
       "    <tr>\n",
       "      <th>9</th>\n",
       "      <td>Freiburg</td>\n",
       "      <td>FR</td>\n",
       "      <td>4644</td>\n",
       "      <td>2.8</td>\n",
       "      <td>8299</td>\n",
       "      <td>5.0</td>\n",
       "      <td>56</td>\n",
       "    </tr>\n",
       "    <tr>\n",
       "      <th>6</th>\n",
       "      <td>Nidwalden</td>\n",
       "      <td>NW</td>\n",
       "      <td>278</td>\n",
       "      <td>1.1</td>\n",
       "      <td>512</td>\n",
       "      <td>2.0</td>\n",
       "      <td>54</td>\n",
       "    </tr>\n",
       "    <tr>\n",
       "      <th>17</th>\n",
       "      <td>Graubuenden</td>\n",
       "      <td>GR</td>\n",
       "      <td>1885</td>\n",
       "      <td>1.7</td>\n",
       "      <td>3502</td>\n",
       "      <td>3.2</td>\n",
       "      <td>54</td>\n",
       "    </tr>\n",
       "  </tbody>\n",
       "</table>\n",
       "</div>"
      ],
      "text/plain": [
       "                    Canton Canton_id  registered_UE  UE_rate  registered_JS  \\\n",
       "0                  Zuerich        ZH          30084      3.7          36786   \n",
       "24                    Genf        GE          12965      5.5          16593   \n",
       "12        Basel-Landschaft        BL           4445      3.0           5859   \n",
       "1                     Bern        BE          15283      2.7          20084   \n",
       "23               Neuenburg        NE           5365      5.8           7170   \n",
       "18                  Aargau        AG          11484      3.2          15976   \n",
       "21                   Waadt        VD          18741      4.7          26238   \n",
       "26                  Gesamt       NaN         149317      3.3         211097   \n",
       "11             Basel-Stadt        BS           3832      3.9           5502   \n",
       "25                    Jura        JU           1695      4.6           2415   \n",
       "15   Appenzell Innerrhoden        AI             98      1.1            142   \n",
       "4                   Schwyz        SZ           1537      1.8           2290   \n",
       "22                  Wallis        VS           6873      3.9          10577   \n",
       "10               Solothurn        SO           4315      3.0           6874   \n",
       "7                   Glarus        GL            531      2.4            847   \n",
       "20                  Tessin        TI           5877      3.5           9359   \n",
       "2                   Luzern        LU           4602      2.1           7467   \n",
       "19                 Thurgau        TG           3794      2.5           6145   \n",
       "8                      Zug        ZG           1603      2.4           2654   \n",
       "16              St. Gallen        SG           6976      2.5          11549   \n",
       "14  Appenzell Ausserrhoden        AR            558      1.8            952   \n",
       "5                 Obwalden        OW            213      1.0            376   \n",
       "3                      Uri        UR            202      1.0            363   \n",
       "13            Schaffhausen        SH           1438      3.3           2566   \n",
       "9                 Freiburg        FR           4644      2.8           8299   \n",
       "6                Nidwalden        NW            278      1.1            512   \n",
       "17             Graubuenden        GR           1885      1.7           3502   \n",
       "\n",
       "    JS_rate  UE_percentage  \n",
       "0       4.5             82  \n",
       "24      7.0             78  \n",
       "12      4.0             76  \n",
       "1       3.5             76  \n",
       "23      7.8             75  \n",
       "18      4.5             72  \n",
       "21      6.6             71  \n",
       "26      4.7             71  \n",
       "11      5.6             70  \n",
       "25      6.6             70  \n",
       "15      1.6             69  \n",
       "4       2.7             67  \n",
       "22      6.0             65  \n",
       "10      4.8             63  \n",
       "7       3.8             63  \n",
       "20      5.6             63  \n",
       "2       3.4             62  \n",
       "19      4.0             62  \n",
       "8       4.0             60  \n",
       "16      4.1             60  \n",
       "14      3.1             59  \n",
       "5       1.8             57  \n",
       "3       1.8             56  \n",
       "13      5.9             56  \n",
       "9       5.0             56  \n",
       "6       2.0             54  \n",
       "17      3.2             54  "
      ]
     },
     "execution_count": 6,
     "metadata": {},
     "output_type": "execute_result"
    }
   ],
   "source": [
    "# We define the rate of jobseekers and the proportion of unemployed amongst jobseekers\n",
    "mb2['JS_rate'] = (mb2.UE_rate * mb2.registered_JS / mb2.registered_UE).round(1)\n",
    "mb2['UE_percentage'] = ((100*mb2.registered_UE / mb2.registered_JS).round(0) ).astype(int)\n",
    "# reordering columns \n",
    "mb2 = mb2[['Canton', 'Canton_id', 'registered_UE','UE_rate',  'registered_JS', 'JS_rate', 'UE_percentage']]\n",
    "# We sort the cantons by their portion of unemployment \n",
    "mb2_sort_ratio = mb2.sort_values('UE_percentage', ascending=False)\n",
    "mb2_sort_ratio"
   ]
  },
  {
   "cell_type": "markdown",
   "metadata": {},
   "source": [
    "#### Observation\n",
    "\n",
    "The 4 cantons with the highest proportion of unemployed amongst jobseekers are also the ones containing the 4 biggest cities in Switzerland or their periphery (Basel-Landschaft). This suggest that larger cities have proportionally fewer people looking for a new job while still being employed. In contrast, in rural areas people are more actively looking for jobs while they have a job. \n",
    "\n",
    "One reason for this phenomena might be that rural and mountainous areas have a higher portion of seasonal and short term employments in the agricultural sector and tourism. Hence people actively look ahead for the next opportunity, or get registered when they are switching jobs between seasons.\n"
   ]
  },
  {
   "cell_type": "markdown",
   "metadata": {},
   "source": [
    "### The map"
   ]
  },
  {
   "cell_type": "code",
   "execution_count": 23,
   "metadata": {
    "collapsed": true
   },
   "outputs": [],
   "source": [
    "# We want to make sure we centre our map correctly so that all parts are clearly displayed. \n",
    "# Hence we calculate the midpoint of Switzerland by using the coordinates of geographical extreme points \n",
    "# (https://en.wikipedia.org/wiki/List_of_extreme_points_of_Switzerland)\n",
    "lat_N = 47.8\n",
    "lat_S = 45.8\n",
    "long_W = 5.0\n",
    "long_E = 11.5\n",
    "lat_centre = 0.5*lat_N  + 0.5*lat_S\n",
    "long_centre = 0.5*long_W + 0.5*long_E \n",
    "CH_centre_coord = [lat_centre, long_centre]\n",
    "\n",
    "# Overlaying geojson info\n",
    "# canton_geo_path = r'topojson/ch-cantons.topojson.json'\n",
    "# geo_json_data = json.load(open(canton_geo_path))\n",
    "\n",
    "\n",
    "#Create Swiss map with unemployment data\n",
    "\n",
    "d3 =['yellow','orange','red','purple','blue']\n",
    "colormap0 = cm.LinearColormap(d3, vmin=-1, vmax=23)\n",
    "colormap0 = colormap0.to_step(n=100,data = [0,0.6,1.3,1.9,2.6,3.2,3.8,4.5,5.1,5.7],method='quantiles',round_method='int')\n",
    "colormap0.caption = 'Unemployment rate'\n",
    "\n",
    "ch_dict = mb2[:26].set_index('Canton_id')['UE_rate']\n",
    "\n",
    "# Creation of the map \n",
    "ch_map = folium.Map(CH_centre_coord, tiles='cartodbpositron', zoom_start=7)\n",
    "\n",
    "# Layer over the map to represent the unemployment rate\n",
    "folium.TopoJson( open('topojson/ch-cantons.topojson.json'),\n",
    "                 'objects.cantons',\n",
    "    style_function=lambda feature: {\n",
    "        'fillColor': colormap0(ch_dict[feature['id']]),\n",
    "        'color' : 'black',\n",
    "        'weight' : 2,\n",
    "        'dashArray' : '5, 5'\n",
    "        }\n",
    "    ).add_to(ch_map)\n",
    "colormap0.add_to(ch_map)\n",
    "\n",
    "ch_map.save('swiss_map.html')"
   ]
  },
  {
   "cell_type": "code",
   "execution_count": 25,
   "metadata": {
    "scrolled": true
   },
   "outputs": [
    {
     "name": "stdout",
     "output_type": "stream",
     "text": [
      "A map displaying the unemployment rates for each canton.\n"
     ]
    },
    {
     "data": {
      "text/html": [
       "<iframe src=./swiss_map.html width=800 height=400></iframe>"
      ],
      "text/plain": [
       "<IPython.core.display.HTML object>"
      ]
     },
     "execution_count": 25,
     "metadata": {},
     "output_type": "execute_result"
    }
   ],
   "source": [
    "print('A map displaying the unemployment rates for each canton.')\n",
    "\n",
    "HTML('<iframe src=./swiss_map.html width=800 height=400></iframe>')"
   ]
  },
  {
   "cell_type": "markdown",
   "metadata": {},
   "source": [
    "#### Discussion of our choropleth map\n",
    "\n",
    "We can clearly see a trend from east to west of the unemployment rates rising and being highest in the French speaking part."
   ]
  },
  {
   "cell_type": "markdown",
   "metadata": {},
   "source": [
    "## Task 3 \n",
    "Use the amstat website again to find a dataset that includes the unemployment rates in Switzerland at recent date, this time making a distinction between Swiss and foreign workers.\n",
    "\n",
    "The Economic Secretary (SECO) releases a monthly report on the state of the employment market. In the latest report (September 2017), it is noted that there is a discrepancy between the unemployment rates for foreign (5.1%) and Swiss (2.2%) workers.\n",
    "\n",
    "Show the difference in unemployment rates between the two categories in each canton on a Choropleth map (hint The easy way is to show two separate maps, but can you think of something better ?). Where are the differences most visible ? Why do you think that is ?\n",
    "\n",
    "Now let's refine the analysis by adding the differences between age groups. As you may have guessed it is nearly impossible to plot so many variables on a map. Make a bar plot, which is a better suited visualization tool for this type of multivariate data."
   ]
  },
  {
   "cell_type": "markdown",
   "metadata": {},
   "source": [
    "#### Creating the data frames\n",
    "\n",
    "We use the unemployment rates distinguishing foreigners and Swiss nationals for 2016 instead of the September 2017 data. Our reason is that we can obtain the yearly average for 2016 and hence our data is not being affected by seasonal variations (e.g. harvest season in September).\n",
    "\n",
    "We read the unemployment data into a data frame and select the desired columns. We also translate column labels and the options for the column 'Nationality'."
   ]
  },
  {
   "cell_type": "code",
   "execution_count": 8,
   "metadata": {
    "collapsed": true
   },
   "outputs": [],
   "source": [
    "mb = pd.read_csv('average_unemploment_rate_by_year.csv')\n",
    "# Assigning English column names\n",
    "mb.columns = ['Year', 'Canton', 'Nationality', 'average_number_of_unemployed', 'unemployment_rate',\n",
    "              'average_number_of_unemployed_youth', 'unemployment_rate_youth', \n",
    "              'average_number_of_unemployed_50+', 'unemployment_rate_50+']\n",
    "# Adding a column with the canton_id for each canton\n",
    "mb['Canton_id'] = mb['Canton'].map(canton_id)\n",
    "# We make a copy of our data frame for later use.\n",
    "mb_full = mb.copy()\n",
    "\n",
    "# Returnign to the original dataframe we reduce it to the columns we use later\n",
    "mb = mb[['Canton', 'Canton_id', 'Nationality', 'average_number_of_unemployed', 'unemployment_rate']]\n",
    "# In the nationality column we translate 'Auslaender' to 'Foreign' and 'Schweizer' to 'Swiss'.\n",
    "mb.loc[(mb['Nationality']=='Auslaender'), 'Nationality'] = 'Foreign'\n",
    "mb.loc[(mb['Nationality']=='Schweizer'), 'Nationality'] = 'Swiss'"
   ]
  },
  {
   "cell_type": "markdown",
   "metadata": {},
   "source": [
    "### Data by nationality (aka the Swiss vs the rest of the world)\n",
    "\n",
    "We separate our data frame into two frames according to the nationality criteria."
   ]
  },
  {
   "cell_type": "code",
   "execution_count": 9,
   "metadata": {},
   "outputs": [
    {
     "data": {
      "text/html": [
       "<div>\n",
       "<style>\n",
       "    .dataframe thead tr:only-child th {\n",
       "        text-align: right;\n",
       "    }\n",
       "\n",
       "    .dataframe thead th {\n",
       "        text-align: left;\n",
       "    }\n",
       "\n",
       "    .dataframe tbody tr th {\n",
       "        vertical-align: top;\n",
       "    }\n",
       "</style>\n",
       "<table border=\"1\" class=\"dataframe\">\n",
       "  <thead>\n",
       "    <tr style=\"text-align: right;\">\n",
       "      <th></th>\n",
       "      <th>Canton</th>\n",
       "      <th>Canton_id</th>\n",
       "      <th>Nationality</th>\n",
       "      <th>average_number_of_unemployed</th>\n",
       "      <th>unemployment_rate</th>\n",
       "    </tr>\n",
       "  </thead>\n",
       "  <tbody>\n",
       "    <tr>\n",
       "      <th>1</th>\n",
       "      <td>Zuerich</td>\n",
       "      <td>ZH</td>\n",
       "      <td>Swiss</td>\n",
       "      <td>16381</td>\n",
       "      <td>2.8</td>\n",
       "    </tr>\n",
       "    <tr>\n",
       "      <th>3</th>\n",
       "      <td>Bern</td>\n",
       "      <td>BE</td>\n",
       "      <td>Swiss</td>\n",
       "      <td>9491</td>\n",
       "      <td>2.0</td>\n",
       "    </tr>\n",
       "    <tr>\n",
       "      <th>5</th>\n",
       "      <td>Luzern</td>\n",
       "      <td>LU</td>\n",
       "      <td>Swiss</td>\n",
       "      <td>2691</td>\n",
       "      <td>1.5</td>\n",
       "    </tr>\n",
       "    <tr>\n",
       "      <th>7</th>\n",
       "      <td>Uri</td>\n",
       "      <td>UR</td>\n",
       "      <td>Swiss</td>\n",
       "      <td>95</td>\n",
       "      <td>0.6</td>\n",
       "    </tr>\n",
       "    <tr>\n",
       "      <th>9</th>\n",
       "      <td>Schwyz</td>\n",
       "      <td>SZ</td>\n",
       "      <td>Swiss</td>\n",
       "      <td>833</td>\n",
       "      <td>1.2</td>\n",
       "    </tr>\n",
       "    <tr>\n",
       "      <th>11</th>\n",
       "      <td>Obwalden</td>\n",
       "      <td>OW</td>\n",
       "      <td>Swiss</td>\n",
       "      <td>119</td>\n",
       "      <td>0.7</td>\n",
       "    </tr>\n",
       "    <tr>\n",
       "      <th>13</th>\n",
       "      <td>Nidwalden</td>\n",
       "      <td>NW</td>\n",
       "      <td>Swiss</td>\n",
       "      <td>177</td>\n",
       "      <td>0.8</td>\n",
       "    </tr>\n",
       "    <tr>\n",
       "      <th>15</th>\n",
       "      <td>Glarus</td>\n",
       "      <td>GL</td>\n",
       "      <td>Swiss</td>\n",
       "      <td>268</td>\n",
       "      <td>1.6</td>\n",
       "    </tr>\n",
       "    <tr>\n",
       "      <th>17</th>\n",
       "      <td>Zug</td>\n",
       "      <td>ZG</td>\n",
       "      <td>Swiss</td>\n",
       "      <td>867</td>\n",
       "      <td>1.8</td>\n",
       "    </tr>\n",
       "    <tr>\n",
       "      <th>19</th>\n",
       "      <td>Freiburg</td>\n",
       "      <td>FR</td>\n",
       "      <td>Swiss</td>\n",
       "      <td>2465</td>\n",
       "      <td>1.9</td>\n",
       "    </tr>\n",
       "    <tr>\n",
       "      <th>21</th>\n",
       "      <td>Solothurn</td>\n",
       "      <td>SO</td>\n",
       "      <td>Swiss</td>\n",
       "      <td>2450</td>\n",
       "      <td>2.1</td>\n",
       "    </tr>\n",
       "    <tr>\n",
       "      <th>23</th>\n",
       "      <td>Basel-Stadt</td>\n",
       "      <td>BS</td>\n",
       "      <td>Swiss</td>\n",
       "      <td>1771</td>\n",
       "      <td>2.9</td>\n",
       "    </tr>\n",
       "    <tr>\n",
       "      <th>25</th>\n",
       "      <td>Basel-Landschaft</td>\n",
       "      <td>BL</td>\n",
       "      <td>Swiss</td>\n",
       "      <td>2637</td>\n",
       "      <td>2.3</td>\n",
       "    </tr>\n",
       "    <tr>\n",
       "      <th>27</th>\n",
       "      <td>Schaffhausen</td>\n",
       "      <td>SH</td>\n",
       "      <td>Swiss</td>\n",
       "      <td>690</td>\n",
       "      <td>2.2</td>\n",
       "    </tr>\n",
       "    <tr>\n",
       "      <th>29</th>\n",
       "      <td>Appenzell Ausserrhoden</td>\n",
       "      <td>AR</td>\n",
       "      <td>Swiss</td>\n",
       "      <td>353</td>\n",
       "      <td>1.4</td>\n",
       "    </tr>\n",
       "    <tr>\n",
       "      <th>31</th>\n",
       "      <td>Appenzell Innerrhoden</td>\n",
       "      <td>AI</td>\n",
       "      <td>Swiss</td>\n",
       "      <td>54</td>\n",
       "      <td>0.7</td>\n",
       "    </tr>\n",
       "    <tr>\n",
       "      <th>33</th>\n",
       "      <td>St. Gallen</td>\n",
       "      <td>SG</td>\n",
       "      <td>Swiss</td>\n",
       "      <td>3517</td>\n",
       "      <td>1.7</td>\n",
       "    </tr>\n",
       "    <tr>\n",
       "      <th>35</th>\n",
       "      <td>Graubuenden</td>\n",
       "      <td>GR</td>\n",
       "      <td>Swiss</td>\n",
       "      <td>841</td>\n",
       "      <td>1.0</td>\n",
       "    </tr>\n",
       "    <tr>\n",
       "      <th>37</th>\n",
       "      <td>Aargau</td>\n",
       "      <td>AG</td>\n",
       "      <td>Swiss</td>\n",
       "      <td>6004</td>\n",
       "      <td>2.2</td>\n",
       "    </tr>\n",
       "    <tr>\n",
       "      <th>39</th>\n",
       "      <td>Thurgau</td>\n",
       "      <td>TG</td>\n",
       "      <td>Swiss</td>\n",
       "      <td>1933</td>\n",
       "      <td>1.7</td>\n",
       "    </tr>\n",
       "    <tr>\n",
       "      <th>41</th>\n",
       "      <td>Tessin</td>\n",
       "      <td>TI</td>\n",
       "      <td>Swiss</td>\n",
       "      <td>3156</td>\n",
       "      <td>2.7</td>\n",
       "    </tr>\n",
       "    <tr>\n",
       "      <th>43</th>\n",
       "      <td>Waadt</td>\n",
       "      <td>VD</td>\n",
       "      <td>Swiss</td>\n",
       "      <td>9163</td>\n",
       "      <td>3.6</td>\n",
       "    </tr>\n",
       "    <tr>\n",
       "      <th>45</th>\n",
       "      <td>Wallis</td>\n",
       "      <td>VS</td>\n",
       "      <td>Swiss</td>\n",
       "      <td>3283</td>\n",
       "      <td>2.5</td>\n",
       "    </tr>\n",
       "    <tr>\n",
       "      <th>47</th>\n",
       "      <td>Neuenburg</td>\n",
       "      <td>NE</td>\n",
       "      <td>Swiss</td>\n",
       "      <td>2942</td>\n",
       "      <td>4.5</td>\n",
       "    </tr>\n",
       "    <tr>\n",
       "      <th>49</th>\n",
       "      <td>Genf</td>\n",
       "      <td>GE</td>\n",
       "      <td>Swiss</td>\n",
       "      <td>6431</td>\n",
       "      <td>4.9</td>\n",
       "    </tr>\n",
       "    <tr>\n",
       "      <th>51</th>\n",
       "      <td>Jura</td>\n",
       "      <td>JU</td>\n",
       "      <td>Swiss</td>\n",
       "      <td>1099</td>\n",
       "      <td>3.5</td>\n",
       "    </tr>\n",
       "  </tbody>\n",
       "</table>\n",
       "</div>"
      ],
      "text/plain": [
       "                    Canton Canton_id Nationality  \\\n",
       "1                  Zuerich        ZH       Swiss   \n",
       "3                     Bern        BE       Swiss   \n",
       "5                   Luzern        LU       Swiss   \n",
       "7                      Uri        UR       Swiss   \n",
       "9                   Schwyz        SZ       Swiss   \n",
       "11                Obwalden        OW       Swiss   \n",
       "13               Nidwalden        NW       Swiss   \n",
       "15                  Glarus        GL       Swiss   \n",
       "17                     Zug        ZG       Swiss   \n",
       "19                Freiburg        FR       Swiss   \n",
       "21               Solothurn        SO       Swiss   \n",
       "23             Basel-Stadt        BS       Swiss   \n",
       "25        Basel-Landschaft        BL       Swiss   \n",
       "27            Schaffhausen        SH       Swiss   \n",
       "29  Appenzell Ausserrhoden        AR       Swiss   \n",
       "31   Appenzell Innerrhoden        AI       Swiss   \n",
       "33              St. Gallen        SG       Swiss   \n",
       "35             Graubuenden        GR       Swiss   \n",
       "37                  Aargau        AG       Swiss   \n",
       "39                 Thurgau        TG       Swiss   \n",
       "41                  Tessin        TI       Swiss   \n",
       "43                   Waadt        VD       Swiss   \n",
       "45                  Wallis        VS       Swiss   \n",
       "47               Neuenburg        NE       Swiss   \n",
       "49                    Genf        GE       Swiss   \n",
       "51                    Jura        JU       Swiss   \n",
       "\n",
       "    average_number_of_unemployed  unemployment_rate  \n",
       "1                          16381                2.8  \n",
       "3                           9491                2.0  \n",
       "5                           2691                1.5  \n",
       "7                             95                0.6  \n",
       "9                            833                1.2  \n",
       "11                           119                0.7  \n",
       "13                           177                0.8  \n",
       "15                           268                1.6  \n",
       "17                           867                1.8  \n",
       "19                          2465                1.9  \n",
       "21                          2450                2.1  \n",
       "23                          1771                2.9  \n",
       "25                          2637                2.3  \n",
       "27                           690                2.2  \n",
       "29                           353                1.4  \n",
       "31                            54                0.7  \n",
       "33                          3517                1.7  \n",
       "35                           841                1.0  \n",
       "37                          6004                2.2  \n",
       "39                          1933                1.7  \n",
       "41                          3156                2.7  \n",
       "43                          9163                3.6  \n",
       "45                          3283                2.5  \n",
       "47                          2942                4.5  \n",
       "49                          6431                4.9  \n",
       "51                          1099                3.5  "
      ]
     },
     "execution_count": 9,
     "metadata": {},
     "output_type": "execute_result"
    }
   ],
   "source": [
    "mb_Swiss = mb[(mb.Nationality == \"Swiss\")]\n",
    "mb_Foreign = mb[(mb.Nationality == \"Foreign\")]\n",
    "mb_Swiss"
   ]
  },
  {
   "cell_type": "markdown",
   "metadata": {},
   "source": [
    "We start by generating a map of the unemployment rate for the Swiss nationals."
   ]
  },
  {
   "cell_type": "code",
   "execution_count": 10,
   "metadata": {},
   "outputs": [],
   "source": [
    "\n",
    "d3 =['yellow','orange','red','purple','blue']\n",
    "colormap1 = cm.LinearColormap(d3, vmin=-1, vmax=5)\n",
    "colormap1 = colormap1.to_step(n=100,data = [0,0.6,1.3,1.9,2.6,3.2,3.8,4.9],method='quantiles',round_method='int')\n",
    "\n",
    "colormap1.caption = 'Unemployment rate for Swiss nationals'\n",
    "\n",
    "ch_dict_Swiss = mb_Swiss[:26].set_index('Canton_id')['unemployment_rate']\n",
    "\n",
    "# Creation of the map \n",
    "Swiss_UE_map = folium.Map(CH_centre_coord, tiles='cartodbpositron', zoom_start=7.7)\n",
    "\n",
    "# Layer over the map to represent the unemployment rate\n",
    "folium.TopoJson( open('topojson/ch-cantons.topojson.json'),\n",
    "                 'objects.cantons',\n",
    "    style_function=lambda feature: {\n",
    "        'fillColor': colormap1(ch_dict_Swiss[feature['id']]),\n",
    "        'color' : 'black',\n",
    "        'weight' : 2,\n",
    "        'dashArray' : '5, 5'\n",
    "        }\n",
    "    ).add_to(Swiss_UE_map)\n",
    "colormap1.add_to(Swiss_UE_map)\n",
    "\n",
    "Swiss_UE_map.save('Swiss_UE_map.html')"
   ]
  },
  {
   "cell_type": "markdown",
   "metadata": {},
   "source": [
    "Now we generate a map of the unemployment rate for the foreign nationals. We purposefully redefine colormap and colormap.caption under the same name using the maximum unemployment rate for foreighn nationals. This renders the Swiss map colours corresponding to low unemployment (redish tones for us) making them stand out against the bluer tones generated by foreign nationals."
   ]
  },
  {
   "cell_type": "code",
   "execution_count": 11,
   "metadata": {},
   "outputs": [],
   "source": [
    "d3 =['yellow','orange','red','purple','blue']\n",
    "colormap2 = cm.LinearColormap(d3, vmin=0, vmax=10.6)\n",
    "colormap2 = colormap2.to_step(n=100,data = [0,1,2,3,4,5,6,7,8,9,10,11],method='quantiles',round_method='int')\n",
    "colormap2.caption = 'Unemployment rate for Swiss and foreign nationals'\n",
    "\n",
    "ch_dict_Foreign = mb_Foreign[:26].set_index('Canton_id')['unemployment_rate']\n",
    "\n",
    "# Creation of the map \n",
    "Foreign_UE_map = folium.Map(CH_centre_coord, tiles='cartodbpositron', zoom_start=7)\n",
    "\n",
    "# Layer over the map to represent the unemployment rate\n",
    "folium.TopoJson( open('topojson/ch-cantons.topojson.json'),\n",
    "                 'objects.cantons',\n",
    "    style_function=lambda feature: {\n",
    "        'fillColor': colormap2(ch_dict_Foreign[feature['id']]),\n",
    "        'color' : 'black',\n",
    "        'weight' : 2,\n",
    "        'dashArray' : '5, 5'\n",
    "        }\n",
    "    ).add_to(Foreign_UE_map)\n",
    "colormap2.add_to(Foreign_UE_map)\n",
    "\n",
    "Foreign_UE_map.save('Foreign_UE_map.html')"
   ]
  },
  {
   "cell_type": "code",
   "execution_count": 26,
   "metadata": {},
   "outputs": [
    {
     "name": "stdout",
     "output_type": "stream",
     "text": [
      "A map displaying the unemployment rates for Swiss nationals for each canton. \n"
     ]
    },
    {
     "data": {
      "text/html": [
       "<iframe src=./Swiss_UE_map.html width=1000 height=600></iframe>"
      ],
      "text/plain": [
       "<IPython.core.display.HTML object>"
      ]
     },
     "execution_count": 26,
     "metadata": {},
     "output_type": "execute_result"
    }
   ],
   "source": [
    "print('A map displaying the unemployment rates for Swiss nationals for each canton. ')\n",
    "\n",
    "HTML('<iframe src=./Swiss_UE_map.html width=1000 height=600></iframe>')\n"
   ]
  },
  {
   "cell_type": "code",
   "execution_count": 27,
   "metadata": {},
   "outputs": [
    {
     "name": "stdout",
     "output_type": "stream",
     "text": [
      "A map displaying the unemployment rates for foreign nationals for each canton. \n"
     ]
    },
    {
     "data": {
      "text/html": [
       "<iframe src=./Foreign_UE_map.html width=1000 height=600></iframe>"
      ],
      "text/plain": [
       "<IPython.core.display.HTML object>"
      ]
     },
     "execution_count": 27,
     "metadata": {},
     "output_type": "execute_result"
    }
   ],
   "source": [
    "print('A map displaying the unemployment rates for foreign nationals for each canton. ')\n",
    "\n",
    "HTML('<iframe src=./Foreign_UE_map.html width=1000 height=600></iframe>')\n",
    "\n"
   ]
  },
  {
   "cell_type": "markdown",
   "metadata": {},
   "source": [
    "#### Discussion of our choropleth map\n",
    "\n",
    "For the Swiss nationals we observe the same trend from east to west of the unemployment rates rising and being highest in the French speaking part that we observed before. For the foreign nationals the trend is more one from inside to outside.\n",
    "\n",
    "The co"
   ]
  },
  {
   "cell_type": "markdown",
   "metadata": {},
   "source": [
    "### Data by age groups\n",
    "\n",
    "We return to the original dataframe and analyse the data for age groups. \n",
    "\n",
    "We have two options: 1) Obtaining data in 5 year bins; or 2) grouping the data as Youth (15-24), Middle age (25-49) and Seniors (50+). The first option captures more nuances. However the second is quite frequently used. The group 'Youth' captures the majority of people who are in some form of education while the group 'Seniors' highlights those people for whom retraining or a career change will be more difficult. We will use the second approach as it is rich enough to capture key differences between age groups and it will render our graphs less crowded.\n",
    "\n",
    "Below we isolate 4 key rates: 1) overall unemployment (UE); 2) youth (Y); 3) middle age (MA); and 4) seniors (S). Rates 1), 2) and 4) are given. In order to calculate rate 3) - the unemployment rate for middle age - we first calculate the total number of unemployed people in this age bracket and then derive the corresponding rate. We note that the numbers will contain inaccuracies due rounding errors. (Comment: Ideally we would use the number of all people able to work. This number was not found in the Amstat database, and the use of external sources could lead to inconsistencies due to differences in the underlying definitions.) "
   ]
  },
  {
   "cell_type": "code",
   "execution_count": 14,
   "metadata": {
    "collapsed": true
   },
   "outputs": [],
   "source": [
    "# Translating the nationality categories again\n",
    "mb_full.loc[(mb_full['Nationality']=='Auslaender'), 'Nationality'] = 'Foreign'\n",
    "mb_full.loc[(mb_full['Nationality']=='Schweizer'), 'Nationality'] = 'Swiss'\n",
    "\n",
    "# In the following section we define several auxillary variables, before calculating\n",
    "# the unemployment rate for the middle age group.\n",
    "# We start by calculcating the total number of middle aged unemployed\n",
    "mb_full['average_number_of_unemployed_MA'] = (mb_full['average_number_of_unemployed'] - mb_full['average_number_of_unemployed_youth'] - mb_full['average_number_of_unemployed_50+'])\n",
    "# For the rate of middle aged unemployed we need to first work out \n",
    "# the total number of middle aged people with in the active (working) population.\n",
    "# For this we need the total active population as well as the active youth and senior population\n",
    "mb_full['Active_pop'] = 100*mb_full['average_number_of_unemployed']/mb_full['unemployment_rate']\n",
    "mb_full['Y_active_pop'] = 100*mb_full['average_number_of_unemployed_youth']/mb_full['unemployment_rate_youth']\n",
    "mb_full['S_active_pop'] = 100*mb_full['average_number_of_unemployed_50+']/mb_full['unemployment_rate_50+']\n",
    "# The active middle aged population is obtained by the difference\n",
    "mb_full['MA_active_pop'] = mb_full.Active_pop - mb_full.Y_active_pop - mb_full.S_active_pop\n",
    "# Finally we calculate the unemployment rate for the middle age group\n",
    "mb_full['MA_rate'] = (100*mb_full.average_number_of_unemployed_MA / mb_full.MA_active_pop).round(1)\n",
    "mb_full['MA_rate']\n",
    "\n",
    "\n",
    "# We create a dataframe that only contains the 4 rates mentioned above\n",
    "mb_rate = mb_full[['Canton', 'Canton_id', 'Nationality', 'unemployment_rate', 'unemployment_rate_youth', 'MA_rate', 'unemployment_rate_50+']]\n",
    "mb_rate.columns = ['Canton', 'Canton_id', 'Nationality', 'UE_rate', 'Y_rate', 'MA_rate', 'S_rate']"
   ]
  },
  {
   "cell_type": "markdown",
   "metadata": {},
   "source": [
    "We separate our data frame into two frames according to the nationality criteria again."
   ]
  },
  {
   "cell_type": "code",
   "execution_count": 15,
   "metadata": {
    "collapsed": true
   },
   "outputs": [],
   "source": [
    "mb_rate_Foreign = mb_rate[(mb_rate.Nationality == \"Foreign\")]\n",
    "mb_rate_Swiss = mb_rate[(mb_rate.Nationality == \"Swiss\")]"
   ]
  },
  {
   "cell_type": "markdown",
   "metadata": {},
   "source": [
    "### Ploting of rates for youth, middle age and senior\n",
    "\n",
    "We compare the different unemployment rates for age groups by plotting a bar plot for each age group. We do this for the Swiss first and then for foreign nationals. The y-axis has been chosen differently for teh tow nationalities in order to make comparisons within each family meaningful.\n",
    "\n",
    "#### Swiss nationals \n",
    "\n",
    "The following 3 plots show the unemployment rate for each canton in percentage for Swiss nationals for youth (15-24), middle age (25-49) and seniors (50+). The y-axis has been scaled from 0 to 6."
   ]
  },
  {
   "cell_type": "code",
   "execution_count": 16,
   "metadata": {},
   "outputs": [
    {
     "data": {
      "image/png": "[encoded data removed]",
      "text/plain": [
       "<matplotlib.figure.Figure at 0x1a14548f28>"
      ]
     },
     "metadata": {},
     "output_type": "display_data"
    },
    {
     "data": {
      "image/png": "[encoded data removed]",
      "text/plain": [
       "<matplotlib.figure.Figure at 0x1a14c10f98>"
      ]
     },
     "metadata": {},
     "output_type": "display_data"
    },
    {
     "data": {
      "image/png": "[encoded data removed]",
      "text/plain": [
       "<matplotlib.figure.Figure at 0x1a148967b8>"
      ]
     },
     "metadata": {},
     "output_type": "display_data"
    }
   ],
   "source": [
    "mb_rate_Swiss.plot(x = 'Canton', y = 'Y_rate', kind = 'bar', legend = False, title = 'Youth unemployment rate', ylim = [0,6])\n",
    "plt.show()\n",
    "mb_rate_Swiss.plot(x = 'Canton', y = 'MA_rate', kind = 'bar', legend = False, title = 'Middle age unemployment rate', ylim = [0,6])\n",
    "plt.show()\n",
    "mb_rate_Swiss.plot(x = 'Canton', y = 'S_rate', kind = 'bar', legend = False, title = 'Senior unemployment rate', ylim = [0,6])\n",
    "plt.show()"
   ]
  },
  {
   "cell_type": "markdown",
   "metadata": {},
   "source": [
    "#### Foreign nationals \n",
    "\n",
    "The following 3 plots show the unemployment rate for each canton in percentage for foreign nationals for youth (15-24), middle age (25-49) and seniors (50+). The y-axis has been scaled from 0 to 15."
   ]
  },
  {
   "cell_type": "code",
   "execution_count": 17,
   "metadata": {},
   "outputs": [
    {
     "data": {
      "image/png": "[encoded data removed]",
      "text/plain": [
       "<matplotlib.figure.Figure at 0x1a1d4c1a90>"
      ]
     },
     "metadata": {},
     "output_type": "display_data"
    },
    {
     "data": {
      "image/png": "[encoded data removed]",
      "text/plain": [
       "<matplotlib.figure.Figure at 0x1a1d2ae588>"
      ]
     },
     "metadata": {},
     "output_type": "display_data"
    },
    {
     "data": {
      "image/png": "[encoded data removed]",
      "text/plain": [
       "<matplotlib.figure.Figure at 0x1a1d2be940>"
      ]
     },
     "metadata": {},
     "output_type": "display_data"
    }
   ],
   "source": [
    "mb_rate_Foreign.plot(x = 'Canton', y = 'Y_rate', kind = 'bar', legend = False, title = 'Youth unemployment rate', ylim = [0,15])\n",
    "plt.show()\n",
    "mb_rate_Foreign.plot(x = 'Canton', y = 'MA_rate', kind = 'bar', legend = False, title = 'Middle age unemployment rate', ylim = [0,15])\n",
    "plt.show()\n",
    "mb_rate_Foreign.plot(x = 'Canton', y = 'S_rate', kind = 'bar', legend = False, title = 'Senior unemployment rate', ylim = [0,15])\n",
    "plt.show()"
   ]
  },
  {
   "cell_type": "markdown",
   "metadata": {},
   "source": [
    "## Task 4\n",
    "BONUS: using the map you have just built, and the geographical information contained in it, could you give a rough estimate of the difference in unemployment rates between the areas divided by the Röstigraben?"
   ]
  },
  {
   "cell_type": "markdown",
   "metadata": {},
   "source": [
    "Analysis: We sort the cantons by their unemployment rate and look for the highest 10 rates amongst Swiss workers and foreigners."
   ]
  },
  {
   "cell_type": "code",
   "execution_count": 18,
   "metadata": {},
   "outputs": [
    {
     "name": "stdout",
     "output_type": "stream",
     "text": [
      "The 10 cantons with the highest unemployment rate for Swiss nationals:\n"
     ]
    },
    {
     "data": {
      "text/html": [
       "<div>\n",
       "<style>\n",
       "    .dataframe thead tr:only-child th {\n",
       "        text-align: right;\n",
       "    }\n",
       "\n",
       "    .dataframe thead th {\n",
       "        text-align: left;\n",
       "    }\n",
       "\n",
       "    .dataframe tbody tr th {\n",
       "        vertical-align: top;\n",
       "    }\n",
       "</style>\n",
       "<table border=\"1\" class=\"dataframe\">\n",
       "  <thead>\n",
       "    <tr style=\"text-align: right;\">\n",
       "      <th></th>\n",
       "      <th>Canton</th>\n",
       "      <th>UE_rate</th>\n",
       "    </tr>\n",
       "  </thead>\n",
       "  <tbody>\n",
       "    <tr>\n",
       "      <th>49</th>\n",
       "      <td>Genf</td>\n",
       "      <td>4.9</td>\n",
       "    </tr>\n",
       "    <tr>\n",
       "      <th>47</th>\n",
       "      <td>Neuenburg</td>\n",
       "      <td>4.5</td>\n",
       "    </tr>\n",
       "    <tr>\n",
       "      <th>43</th>\n",
       "      <td>Waadt</td>\n",
       "      <td>3.6</td>\n",
       "    </tr>\n",
       "    <tr>\n",
       "      <th>51</th>\n",
       "      <td>Jura</td>\n",
       "      <td>3.5</td>\n",
       "    </tr>\n",
       "    <tr>\n",
       "      <th>23</th>\n",
       "      <td>Basel-Stadt</td>\n",
       "      <td>2.9</td>\n",
       "    </tr>\n",
       "    <tr>\n",
       "      <th>1</th>\n",
       "      <td>Zuerich</td>\n",
       "      <td>2.8</td>\n",
       "    </tr>\n",
       "    <tr>\n",
       "      <th>41</th>\n",
       "      <td>Tessin</td>\n",
       "      <td>2.7</td>\n",
       "    </tr>\n",
       "    <tr>\n",
       "      <th>45</th>\n",
       "      <td>Wallis</td>\n",
       "      <td>2.5</td>\n",
       "    </tr>\n",
       "    <tr>\n",
       "      <th>25</th>\n",
       "      <td>Basel-Landschaft</td>\n",
       "      <td>2.3</td>\n",
       "    </tr>\n",
       "    <tr>\n",
       "      <th>27</th>\n",
       "      <td>Schaffhausen</td>\n",
       "      <td>2.2</td>\n",
       "    </tr>\n",
       "  </tbody>\n",
       "</table>\n",
       "</div>"
      ],
      "text/plain": [
       "              Canton  UE_rate\n",
       "49              Genf      4.9\n",
       "47         Neuenburg      4.5\n",
       "43             Waadt      3.6\n",
       "51              Jura      3.5\n",
       "23       Basel-Stadt      2.9\n",
       "1            Zuerich      2.8\n",
       "41            Tessin      2.7\n",
       "45            Wallis      2.5\n",
       "25  Basel-Landschaft      2.3\n",
       "27      Schaffhausen      2.2"
      ]
     },
     "execution_count": 18,
     "metadata": {},
     "output_type": "execute_result"
    }
   ],
   "source": [
    "mb_rate_Swiss_sort = mb_rate_Swiss.sort_values('UE_rate', ascending=False)\n",
    "mb_rate_Swiss_sort = mb_rate_Swiss_sort[['Canton', 'UE_rate']]\n",
    "print('The 10 cantons with the highest unemployment rate for Swiss nationals:')\n",
    "\n",
    "mb_rate_Swiss_sort.head(10)"
   ]
  },
  {
   "cell_type": "code",
   "execution_count": 19,
   "metadata": {},
   "outputs": [
    {
     "name": "stdout",
     "output_type": "stream",
     "text": [
      "The 10 cantons with the highest unemployment rate for foreign nationals:\n"
     ]
    },
    {
     "data": {
      "text/html": [
       "<div>\n",
       "<style>\n",
       "    .dataframe thead tr:only-child th {\n",
       "        text-align: right;\n",
       "    }\n",
       "\n",
       "    .dataframe thead th {\n",
       "        text-align: left;\n",
       "    }\n",
       "\n",
       "    .dataframe tbody tr th {\n",
       "        vertical-align: top;\n",
       "    }\n",
       "</style>\n",
       "<table border=\"1\" class=\"dataframe\">\n",
       "  <thead>\n",
       "    <tr style=\"text-align: right;\">\n",
       "      <th></th>\n",
       "      <th>Canton</th>\n",
       "      <th>UE_rate</th>\n",
       "    </tr>\n",
       "  </thead>\n",
       "  <tbody>\n",
       "    <tr>\n",
       "      <th>50</th>\n",
       "      <td>Jura</td>\n",
       "      <td>10.6</td>\n",
       "    </tr>\n",
       "    <tr>\n",
       "      <th>46</th>\n",
       "      <td>Neuenburg</td>\n",
       "      <td>9.1</td>\n",
       "    </tr>\n",
       "    <tr>\n",
       "      <th>44</th>\n",
       "      <td>Wallis</td>\n",
       "      <td>8.2</td>\n",
       "    </tr>\n",
       "    <tr>\n",
       "      <th>42</th>\n",
       "      <td>Waadt</td>\n",
       "      <td>6.8</td>\n",
       "    </tr>\n",
       "    <tr>\n",
       "      <th>2</th>\n",
       "      <td>Bern</td>\n",
       "      <td>6.5</td>\n",
       "    </tr>\n",
       "    <tr>\n",
       "      <th>26</th>\n",
       "      <td>Schaffhausen</td>\n",
       "      <td>6.4</td>\n",
       "    </tr>\n",
       "    <tr>\n",
       "      <th>48</th>\n",
       "      <td>Genf</td>\n",
       "      <td>6.3</td>\n",
       "    </tr>\n",
       "    <tr>\n",
       "      <th>36</th>\n",
       "      <td>Aargau</td>\n",
       "      <td>6.2</td>\n",
       "    </tr>\n",
       "    <tr>\n",
       "      <th>0</th>\n",
       "      <td>Zuerich</td>\n",
       "      <td>6.0</td>\n",
       "    </tr>\n",
       "    <tr>\n",
       "      <th>20</th>\n",
       "      <td>Solothurn</td>\n",
       "      <td>5.9</td>\n",
       "    </tr>\n",
       "  </tbody>\n",
       "</table>\n",
       "</div>"
      ],
      "text/plain": [
       "          Canton  UE_rate\n",
       "50          Jura     10.6\n",
       "46     Neuenburg      9.1\n",
       "44        Wallis      8.2\n",
       "42         Waadt      6.8\n",
       "2           Bern      6.5\n",
       "26  Schaffhausen      6.4\n",
       "48          Genf      6.3\n",
       "36        Aargau      6.2\n",
       "0        Zuerich      6.0\n",
       "20     Solothurn      5.9"
      ]
     },
     "execution_count": 19,
     "metadata": {},
     "output_type": "execute_result"
    }
   ],
   "source": [
    "mb_rate_Foreign_sort = mb_rate_Foreign.sort_values('UE_rate', ascending=False)\n",
    "\n",
    "print('The 10 cantons with the highest unemployment rate for foreign nationals:')\n",
    "mb_rate_Foreign_sort = mb_rate_Foreign_sort[['Canton', 'UE_rate']]\n",
    "mb_rate_Foreign_sort.head(10)"
   ]
  },
  {
   "cell_type": "markdown",
   "metadata": {},
   "source": [
    "A direct look at the table shows that the French speaking cantons, which lie to the West of the Röstigraben, dominate the top 4 spots of both tables and in some cases clearly separate themselves from the following cantons. While the Wallis is in 8th for the Swiss nationals and Geneva is in 7th for the foreign nationals, we still have a clear trend for the French speaking cantons. Taking the average rank from both tables would give all 5 French speaking cantons at the top."
   ]
  }
 ],
 "metadata": {
  "kernelspec": {
   "display_name": "Python 3",
   "language": "python",
   "name": "python3"
  },
  "language_info": {
   "codemirror_mode": {
    "name": "ipython",
    "version": 3
   },
   "file_extension": ".py",
   "mimetype": "text/x-python",
   "name": "python",
   "nbconvert_exporter": "python",
   "pygments_lexer": "ipython3",
   "version": "3.6.2"
  }
 },
 "nbformat": 4,
 "nbformat_minor": 2
}
